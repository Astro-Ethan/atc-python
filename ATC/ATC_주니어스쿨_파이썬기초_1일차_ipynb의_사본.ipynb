{
  "cells": [
    {
      "cell_type": "markdown",
      "metadata": {
        "colab_type": "text",
        "id": "view-in-github"
      },
      "source": [
        "<a href=\"https://colab.research.google.com/github/Astro-Ethan/atc-python/blob/main/ATC_%EC%A3%BC%EB%8B%88%EC%96%B4%EC%8A%A4%EC%BF%A8_%ED%8C%8C%EC%9D%B4%EC%8D%AC%EA%B8%B0%EC%B4%88_1%EC%9D%BC%EC%B0%A8_ipynb%EC%9D%98_%EC%82%AC%EB%B3%B8.ipynb\" target=\"_parent\"><img src=\"https://colab.research.google.com/assets/colab-badge.svg\" alt=\"Open In Colab\"/></a>"
      ]
    },
    {
      "cell_type": "markdown",
      "metadata": {
        "id": "NU5hrP1_BhO5"
      },
      "source": [
        "## 코랩 (주피터 노트북) 사용법 익히기\n"
      ]
    },
    {
      "cell_type": "markdown",
      "metadata": {
        "id": "D73gnIOzBzGh"
      },
      "source": [
        "- 코드 (Python3 실행)와 텍스트 (Markdown) 선택 가능\n",
        ">마크다운 사용 방법 : https://velog.io/@seungsang00/%EB%A7%88%ED%81%AC%EB%8B%A4%EC%9A%B4-%EB%AC%B8%EB%B2%95-%EC%A0%95%EB%A6%AC"
      ]
    },
    {
      "cell_type": "code",
      "execution_count": null,
      "metadata": {
        "id": "2_IiAG7OCoRK"
      },
      "outputs": [],
      "source": [
        "# 코드 영역 : (                 ) 하는 영역이다\n",
        "# 텍스트 영역 : (                 ) 하는 영역이다"
      ]
    },
    {
      "cell_type": "code",
      "execution_count": null,
      "metadata": {
        "id": "kOY6ac0aCyob"
      },
      "outputs": [],
      "source": [
        "# 코딩을 실행하는 방법\n",
        "# 1) 마우스를 이용하는 방법 : 마우스로 (     )를 클릭\n",
        "# 2) 단축키를 이용하는 방법 : shift+Enter를 누르면 (                           )\n",
        "#                             ctrl+Enter를 누르면 (                            )\n",
        "#                             alt+Enter는 (                                    )\n",
        "\n",
        "# 코딩창 하나 추가하는 단축키 : ctrl + m + b\n",
        "# 코딩창 하나 삭제하는 단축키 : ctrl + m + d"
      ]
    },
    {
      "cell_type": "markdown",
      "metadata": {
        "id": "oZ3wUqlVBm2a"
      },
      "source": [
        "**주피터 노트북 실습 : 숫자**\n",
        "\n",
        "1. 숫자를 입력하고 실행해보세요.(shift+Enter, ctrl+Enter, alt+Enter 연습)\n",
        "2. +, -, *, / 기호를 써서 사칙연산을 해보세요"
      ]
    },
    {
      "cell_type": "code",
      "execution_count": null,
      "metadata": {
        "id": "rjRaERVJBJC6"
      },
      "outputs": [],
      "source": [
        "#더하기 해보기"
      ]
    },
    {
      "cell_type": "code",
      "execution_count": null,
      "metadata": {
        "id": "G2PIZAdtBqag"
      },
      "outputs": [],
      "source": [
        "#빼기 해보기"
      ]
    },
    {
      "cell_type": "code",
      "execution_count": null,
      "metadata": {
        "id": "jY7_bNjfBqiy"
      },
      "outputs": [],
      "source": [
        "#곱하기 해보기"
      ]
    },
    {
      "cell_type": "code",
      "execution_count": null,
      "metadata": {
        "id": "QCfHScI1Bqpm"
      },
      "outputs": [],
      "source": [
        "#나누기 해보기"
      ]
    },
    {
      "cell_type": "markdown",
      "metadata": {
        "id": "fBE9uceJCEOb"
      },
      "source": [
        "**주피터 노트북 실습 : 문자**\n",
        "\n",
        "이번에는 문자를 입력하고 실행해보세요."
      ]
    },
    {
      "cell_type": "code",
      "execution_count": null,
      "metadata": {
        "id": "YiuWbVgeCGZO"
      },
      "outputs": [],
      "source": [
        "# 문자는 따옴표로 감싸주어야 합니다.\n",
        "# 작은 따옴표('Hello') 또는 큰 따옴표 (\"안녕\") 모두 가능합니다."
      ]
    },
    {
      "cell_type": "code",
      "execution_count": null,
      "metadata": {
        "id": "EluAp2wkCOFP"
      },
      "outputs": [],
      "source": []
    },
    {
      "cell_type": "code",
      "execution_count": 1,
      "metadata": {
        "id": "lgjP_Y9UCO5N"
      },
      "outputs": [
        {
          "data": {
            "text/plain": [
              "'ane'"
            ]
          },
          "execution_count": 1,
          "metadata": {},
          "output_type": "execute_result"
        }
      ],
      "source": [
        "'ane'"
      ]
    },
    {
      "cell_type": "code",
      "execution_count": 2,
      "metadata": {
        "id": "67BFq3zlCPGc"
      },
      "outputs": [],
      "source": [
        "# print() 함수를 이용해 Hello, World!를 출력해보세요."
      ]
    },
    {
      "cell_type": "code",
      "execution_count": null,
      "metadata": {
        "id": "53JzEpOMCTP-"
      },
      "outputs": [],
      "source": []
    },
    {
      "cell_type": "markdown",
      "metadata": {
        "id": "qKmOXMNWD38E"
      },
      "source": [
        "#### 주석(comment) : 휴먼들의 은밀한 대화\n",
        "- #기호를 붙이면 그 다음부터 코드는 실행되지 않는다.\n",
        "- ctrl + /(쉬프트 키)를 누르면 여러 줄을 주석처리할 수 있다.\n",
        "- 주로 코드를 설명할 때 사용한다."
      ]
    },
    {
      "cell_type": "code",
      "execution_count": 3,
      "metadata": {
        "id": "XLZWg1U_EEEp"
      },
      "outputs": [],
      "source": [
        "# 주석을 적어보세요.\n",
        "\n"
      ]
    },
    {
      "cell_type": "code",
      "execution_count": null,
      "metadata": {
        "id": "PzqwXAnZEG2G"
      },
      "outputs": [],
      "source": [
        "여기에 쓰인 글자들을 모두 주석처리해보세요.\n",
        "하나씩 하지 말고 전체를 한 번에 주석처리 해보세요.\n",
        "여기까지 모두요."
      ]
    },
    {
      "cell_type": "markdown",
      "metadata": {
        "id": "-H1qW8M3Dc9v"
      },
      "source": [
        "✅ 실습 결과 정리"
      ]
    },
    {
      "cell_type": "code",
      "execution_count": null,
      "metadata": {
        "id": "dB8Gd0LADYAf"
      },
      "outputs": [],
      "source": [
        "\n",
        "# 실행 결과는 (                 ) 에 나타납니다.\n",
        "\n",
        "# 텍스트에 입력한 내용은 코드에 영향을 (                      )\n",
        "\n",
        "# 코드에 설명(주석)을 직접 쓰고 싶을 때는 (     )을 사용합니다.\n",
        "\n",
        "# 여러 줄을 주석으로 처리하고 싶을 때는 여러 줄을 선택한 다음 단축키  (              )\n",
        "\n",
        "# 강의에서 제공된 주피터 노트북은 바로 실습하지 않고 (                       ) 한 다음 실습합니다.\n"
      ]
    },
    {
      "cell_type": "markdown",
      "metadata": {
        "id": "Uqp2AY5zETsr"
      },
      "source": [
        "##파이썬 기초 개념 배우기\n",
        "\n",
        "- 함수의 기초 개념\n",
        "- 변수의 개념"
      ]
    },
    {
      "cell_type": "markdown",
      "metadata": {
        "id": "cqFvpmiRE1Fe"
      },
      "source": [
        "함수 (function) : 요술지팡이, 마법사\n",
        "- 수학의 함수와 비슷\n",
        "- 함수명 뒤에 괄호로 표현 : 예) print(), type(), input()....\n",
        "- ()안에 어떤 값을 입력하면 미리 정해진 기능을 수행 (입력값 없이 바로 실행하는 것도 가능)\n",
        "- print()는 파이썬에 내장된(built-in) 함수(function)으로서, 괄호 안에 들어있는 데이터를 화면에 출력해준다."
      ]
    },
    {
      "cell_type": "code",
      "execution_count": null,
      "metadata": {
        "id": "4aYgYvvKEiqz"
      },
      "outputs": [],
      "source": []
    },
    {
      "cell_type": "markdown",
      "metadata": {
        "id": "yZ1qrkZIFGjb"
      },
      "source": [
        "변수 Variable\n",
        "\n",
        "> 데이터가 저장되는 위치 또는 메모리 주소의 **이름**\n",
        "\n",
        "변수란? 데이터에 이름을 붙여 주기\n",
        "- `변수명 = 데이터` 와 같이 등호(=, 할당연산자로도 함)를 기준으로 오른쪽의 값을 왼쪽의 변수이름에 대입\n",
        "- 변수를 만드는 방법? 변수의 이름을 생각해서 값을 대입하면 됨."
      ]
    },
    {
      "cell_type": "code",
      "execution_count": null,
      "metadata": {
        "id": "aCk6uO-rFJhj"
      },
      "outputs": [],
      "source": [
        "# 자신의 나이를 age란 이름의 변수에 저장해보세요.\n",
        "\n"
      ]
    },
    {
      "cell_type": "code",
      "execution_count": null,
      "metadata": {
        "id": "_BxH9GPaFNow"
      },
      "outputs": [],
      "source": [
        "# age의 값을 출력해보세요.\n",
        "\n"
      ]
    },
    {
      "cell_type": "code",
      "execution_count": null,
      "metadata": {
        "id": "qZASGz3BFTWf"
      },
      "outputs": [],
      "source": [
        "# 다음을 실행해보고 어떤 결과가 있는지 정리해보세요.\n",
        "a = 1\n",
        "b = 2\n",
        "\n",
        "a\n",
        "b\n",
        "\n",
        "# 결과 : 변수의 이름을 출력할 때는 (              )만 출력된다."
      ]
    },
    {
      "cell_type": "code",
      "execution_count": null,
      "metadata": {
        "id": "qCE6fetSFd8q"
      },
      "outputs": [],
      "source": [
        "# a와 b를 모두 출력하려면 어떻게 코딩해야할까요?\n",
        "a = 10\n",
        "b = 20\n",
        "\n"
      ]
    },
    {
      "cell_type": "markdown",
      "metadata": {
        "id": "jEP6oa8SGOQ5"
      },
      "source": [
        "Tip. = 와 ==는 달라요. 둘의 차이는 추후에 배울 예정입니다."
      ]
    },
    {
      "cell_type": "markdown",
      "metadata": {
        "id": "Bm4XtSWrGeA3"
      },
      "source": [
        "▶ 변수의 이름을 지을 때 주의할 점\n",
        "\n",
        "변수 이름에 포함될 수 있는 것\n",
        " - 모든 문자 (알파벳, 한글)\n",
        " - 숫자\n",
        " - Underscore (_)\n",
        "\n",
        "그러나 다음의 경우는 안됨\n",
        " - 숫자가 맨 앞에 나오는 경우 `1a`\n",
        " - 띄어쓰기를 하는 경우 `a b`\n",
        " - 예약어(Keyword) `and`, `if` 등"
      ]
    },
    {
      "cell_type": "code",
      "execution_count": null,
      "metadata": {
        "id": "W-Bg9qFLGR3S"
      },
      "outputs": [],
      "source": [
        "#예약어란? 파이썬에서 미리 약속한 낱말입니다. 예약어는 변수로 쓸 수 없어요.\n",
        "#예약어 확인하기\n",
        "import keyword\n",
        "print (keyword.kwlist)\n",
        "len (keyword.kwlist)"
      ]
    },
    {
      "cell_type": "code",
      "execution_count": null,
      "metadata": {
        "id": "zdewf2loHeX9"
      },
      "outputs": [],
      "source": [
        "#다음 코딩들을 실행해보세요."
      ]
    },
    {
      "cell_type": "code",
      "execution_count": null,
      "metadata": {
        "id": "jp7QcKxtHoSL"
      },
      "outputs": [],
      "source": [
        "_a = 10"
      ]
    },
    {
      "cell_type": "code",
      "execution_count": null,
      "metadata": {
        "id": "h9UhTSRzHon8"
      },
      "outputs": [],
      "source": [
        "a1 = 'a1'"
      ]
    },
    {
      "cell_type": "code",
      "execution_count": null,
      "metadata": {
        "id": "RHYwvd70Hpox"
      },
      "outputs": [],
      "source": [
        "1a = '1a'"
      ]
    },
    {
      "cell_type": "code",
      "execution_count": null,
      "metadata": {
        "id": "5re9BFFRHpw7"
      },
      "outputs": [],
      "source": [
        "만약에 = 'if'"
      ]
    },
    {
      "cell_type": "code",
      "execution_count": null,
      "metadata": {
        "id": "SSUgkyn2Hp36"
      },
      "outputs": [],
      "source": [
        "if = '만약에'"
      ]
    },
    {
      "cell_type": "code",
      "execution_count": null,
      "metadata": {
        "id": "t8GI8Fj5Hp8g"
      },
      "outputs": [],
      "source": [
        "a-b = 'a-b'"
      ]
    },
    {
      "cell_type": "markdown",
      "metadata": {
        "id": "TA7vEi4lJjtE"
      },
      "source": [
        "print 함수의 출력 값을 예상해봅시다."
      ]
    },
    {
      "cell_type": "code",
      "execution_count": null,
      "metadata": {
        "id": "o4aupj35Ju_U"
      },
      "outputs": [],
      "source": [
        "name = \"Jay\""
      ]
    },
    {
      "cell_type": "code",
      "execution_count": null,
      "metadata": {
        "id": "H3ZpqXEWJi1f"
      },
      "outputs": [],
      "source": [
        "print(name)"
      ]
    },
    {
      "cell_type": "code",
      "execution_count": null,
      "metadata": {
        "id": "9_ccQ9IqJoFD"
      },
      "outputs": [],
      "source": [
        "print(“name”)"
      ]
    },
    {
      "cell_type": "code",
      "execution_count": null,
      "metadata": {
        "id": "gDLmJlROJoOm"
      },
      "outputs": [],
      "source": [
        "print(“Jay”)"
      ]
    },
    {
      "cell_type": "code",
      "execution_count": null,
      "metadata": {
        "id": "tkYmdqfbJoVs"
      },
      "outputs": [],
      "source": [
        "print(Jay)"
      ]
    },
    {
      "cell_type": "markdown",
      "metadata": {
        "id": "wnWQ-DV_L-nr"
      },
      "source": [
        "변수는 변한다! 마지막에 들어가는 값이 진짜 주인"
      ]
    },
    {
      "cell_type": "code",
      "execution_count": null,
      "metadata": {
        "id": "vt3UDMg8OK2y"
      },
      "outputs": [],
      "source": [
        "age = 20\n",
        "age = 21\n",
        "print(age)\n"
      ]
    },
    {
      "cell_type": "code",
      "execution_count": null,
      "metadata": {
        "id": "jqU4FxPtOLow"
      },
      "outputs": [],
      "source": [
        "age = 20\n",
        "age = age + 1 # 원래 있던 age란 변수에 1을 더해서 다시 age에 저장하라는 의미 (a와 a+1이 같다는 의미가 아님!)\n",
        "age"
      ]
    },
    {
      "cell_type": "markdown",
      "metadata": {
        "id": "pGSXIKTOH89y"
      },
      "source": [
        "✅ 실습 결과 정리"
      ]
    },
    {
      "cell_type": "code",
      "execution_count": null,
      "metadata": {
        "id": "6L-txduaIn0z"
      },
      "outputs": [],
      "source": [
        "# 변수의 이름을 지을 때는  (             ) 도록 짓는 것이 좋습니다.\n",
        "\n",
        "# 예) 사용자의 아이디를 담고 있는 변수의 이름 : user_id\n",
        "\n",
        "# 예) 사용자의 이름을 담고 있는 변수의 이름 : user_name\n",
        "\n",
        "# 예) 국어 점수 : point_korea\n",
        "\n",
        "# 변수의 이름을 정할 때 지켜야 하는 규칙이 있습니다. O, X중 알맞은 것만 남겨봅시다.\n",
        "\n",
        "#   ① 띄어쓰기가 가능하다. < O , X >\n",
        "\n",
        "#   ② 변수 이름의 맨 앞은 숫자를 쓸 수 없다.  < O , X >\n",
        "\n",
        "#   ③ 예약어도 변수로 사용이 가능하다. < O , X >\n",
        "#      ※ 예약어는 if와 같이 파이썬에서 명령어로 약속해 놓은 낱말입니다.\n",
        "\n",
        "#   ④ 대문자와 소문자를 구별한다.  < O , X >"
      ]
    },
    {
      "cell_type": "code",
      "execution_count": null,
      "metadata": {
        "id": "dSSUijysI3lb"
      },
      "outputs": [],
      "source": [
        "# 변수의 이름을 지을 때는 다음을 권장합니다.\n",
        "\n",
        "# ‘my_name’, ‘user_pw’와 같이   언더바  를 이용해 이름을 지으면 좋습니다.\n",
        "\n",
        "# ‘MyName’, ‘UserPw’ 와 같이   대문자와 소문자 를 이용해 이름을 지으면 좋습니다.\n",
        "\n",
        "# ‘내이름’, ‘사용자비밀번호’와 같이   한글 을 이용해 이름을 짓는 것도 가능합니다.\n",
        "\n",
        "# 비슷한 내용을 가진 변수들은 ‘item1’, ‘item2’와 같이  숫자 를 이용해 이름을 짓는 것이 좋습니다."
      ]
    },
    {
      "cell_type": "code",
      "execution_count": null,
      "metadata": {
        "id": "iyi_ntKJJMMK"
      },
      "outputs": [],
      "source": [
        "# 함수는  (                     )을 수행하는 것입니다.\n",
        "\n",
        "# 함수를 실행하고자 할 때에는 함수명 뒤에 (                     ) 를 입력합니다.\n",
        "\n",
        "# 함수명 뒤에 붙는 (      )에는  값을 (                             )  있습니다.\n",
        "\n",
        "# print 함수는 (                                                   )하는 함수입니다.\n",
        "\n"
      ]
    },
    {
      "cell_type": "code",
      "execution_count": null,
      "metadata": {
        "id": "R3roTRy_OQsI"
      },
      "outputs": [],
      "source": [
        "# 변수 자체에 값을 더할 때에는 (                       ) 합니다.\n",
        "\n",
        "# 예를 들어 이렇게 합니다. :"
      ]
    },
    {
      "cell_type": "markdown",
      "metadata": {
        "id": "fiMWSwDiJ-A8"
      },
      "source": [
        "오늘 배운 내용을 바탕으로 선생님이 클래스룸에 올려주신 과제를 해결해봅시다."
      ]
    },
    {
      "cell_type": "code",
      "execution_count": null,
      "metadata": {
        "id": "MU9raphSbRLJ"
      },
      "outputs": [],
      "source": [
        "print='천대건'\n",
        "\n",
        "print('안녕')"
      ]
    }
  ],
  "metadata": {
    "colab": {
      "include_colab_link": true,
      "provenance": []
    },
    "kernelspec": {
      "display_name": "Python 3",
      "name": "python3"
    },
    "language_info": {
      "codemirror_mode": {
        "name": "ipython",
        "version": 3
      },
      "file_extension": ".py",
      "mimetype": "text/x-python",
      "name": "python",
      "nbconvert_exporter": "python",
      "pygments_lexer": "ipython3",
      "version": "3.11.1"
    }
  },
  "nbformat": 4,
  "nbformat_minor": 0
}
