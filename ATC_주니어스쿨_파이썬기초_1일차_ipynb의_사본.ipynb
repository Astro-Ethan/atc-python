{
  "nbformat": 4,
  "nbformat_minor": 0,
  "metadata": {
    "colab": {
      "provenance": [],
      "include_colab_link": true
    },
    "kernelspec": {
      "name": "python3",
      "display_name": "Python 3"
    },
    "language_info": {
      "name": "python"
    }
  },
  "cells": [
    {
      "cell_type": "markdown",
      "metadata": {
        "id": "view-in-github",
        "colab_type": "text"
      },
      "source": [
        "<a href=\"https://colab.research.google.com/github/Astro-Ethan/atc-python/blob/main/ATC_%EC%A3%BC%EB%8B%88%EC%96%B4%EC%8A%A4%EC%BF%A8_%ED%8C%8C%EC%9D%B4%EC%8D%AC%EA%B8%B0%EC%B4%88_1%EC%9D%BC%EC%B0%A8_ipynb%EC%9D%98_%EC%82%AC%EB%B3%B8.ipynb\" target=\"_parent\"><img src=\"https://colab.research.google.com/assets/colab-badge.svg\" alt=\"Open In Colab\"/></a>"
      ]
    },
    {
      "cell_type": "markdown",
      "source": [
        "## 코랩 (주피터 노트북) 사용법 익히기\n"
      ],
      "metadata": {
        "id": "NU5hrP1_BhO5"
      }
    },
    {
      "cell_type": "markdown",
      "source": [
        "- 코드 (Python3 실행)와 텍스트 (Markdown) 선택 가능\n",
        ">마크다운 사용 방법 : https://velog.io/@seungsang00/%EB%A7%88%ED%81%AC%EB%8B%A4%EC%9A%B4-%EB%AC%B8%EB%B2%95-%EC%A0%95%EB%A6%AC"
      ],
      "metadata": {
        "id": "D73gnIOzBzGh"
      }
    },
    {
      "cell_type": "code",
      "source": [
        "# 코드 영역 : (                 ) 하는 영역이다\n",
        "# 텍스트 영역 : (                 ) 하는 영역이다"
      ],
      "metadata": {
        "id": "2_IiAG7OCoRK"
      },
      "execution_count": null,
      "outputs": []
    },
    {
      "cell_type": "code",
      "source": [
        "# 코딩을 실행하는 방법\n",
        "# 1) 마우스를 이용하는 방법 : 마우스로 (     )를 클릭\n",
        "# 2) 단축키를 이용하는 방법 : shift+Enter를 누르면 (                           )\n",
        "#                             ctrl+Enter를 누르면 (                            )\n",
        "#                             alt+Enter는 (                                    )\n",
        "\n",
        "# 코딩창 하나 추가하는 단축키 : ctrl + m + b\n",
        "# 코딩창 하나 삭제하는 단축키 : ctrl + m + d"
      ],
      "metadata": {
        "id": "kOY6ac0aCyob"
      },
      "execution_count": null,
      "outputs": []
    },
    {
      "cell_type": "markdown",
      "source": [
        "**주피터 노트북 실습 : 숫자**\n",
        "\n",
        "1. 숫자를 입력하고 실행해보세요.(shift+Enter, ctrl+Enter, alt+Enter 연습)\n",
        "2. +, -, *, / 기호를 써서 사칙연산을 해보세요"
      ],
      "metadata": {
        "id": "oZ3wUqlVBm2a"
      }
    },
    {
      "cell_type": "code",
      "execution_count": null,
      "metadata": {
        "id": "rjRaERVJBJC6"
      },
      "outputs": [],
      "source": [
        "#더하기 해보기"
      ]
    },
    {
      "cell_type": "code",
      "source": [
        "#빼기 해보기"
      ],
      "metadata": {
        "id": "G2PIZAdtBqag"
      },
      "execution_count": null,
      "outputs": []
    },
    {
      "cell_type": "code",
      "source": [
        "#곱하기 해보기"
      ],
      "metadata": {
        "id": "jY7_bNjfBqiy"
      },
      "execution_count": null,
      "outputs": []
    },
    {
      "cell_type": "code",
      "source": [
        "#나누기 해보기"
      ],
      "metadata": {
        "id": "QCfHScI1Bqpm"
      },
      "execution_count": null,
      "outputs": []
    },
    {
      "cell_type": "markdown",
      "source": [
        "**주피터 노트북 실습 : 문자**\n",
        "\n",
        "이번에는 문자를 입력하고 실행해보세요."
      ],
      "metadata": {
        "id": "fBE9uceJCEOb"
      }
    },
    {
      "cell_type": "code",
      "source": [
        "# 문자는 따옴표로 감싸주어야 합니다.\n",
        "# 작은 따옴표('Hello') 또는 큰 따옴표 (\"안녕\") 모두 가능합니다."
      ],
      "metadata": {
        "id": "YiuWbVgeCGZO"
      },
      "execution_count": null,
      "outputs": []
    },
    {
      "cell_type": "code",
      "source": [],
      "metadata": {
        "id": "EluAp2wkCOFP"
      },
      "execution_count": null,
      "outputs": []
    },
    {
      "cell_type": "code",
      "source": [],
      "metadata": {
        "id": "lgjP_Y9UCO5N"
      },
      "execution_count": null,
      "outputs": []
    },
    {
      "cell_type": "code",
      "source": [
        "# print() 함수를 이용해 Hello, World!를 출력해보세요."
      ],
      "metadata": {
        "id": "67BFq3zlCPGc"
      },
      "execution_count": null,
      "outputs": []
    },
    {
      "cell_type": "code",
      "source": [],
      "metadata": {
        "id": "53JzEpOMCTP-"
      },
      "execution_count": null,
      "outputs": []
    },
    {
      "cell_type": "markdown",
      "source": [
        "#### 주석(comment) : 휴먼들의 은밀한 대화\n",
        "- #기호를 붙이면 그 다음부터 코드는 실행되지 않는다.\n",
        "- ctrl + /(쉬프트 키)를 누르면 여러 줄을 주석처리할 수 있다.\n",
        "- 주로 코드를 설명할 때 사용한다."
      ],
      "metadata": {
        "id": "qKmOXMNWD38E"
      }
    },
    {
      "cell_type": "code",
      "source": [
        "# 주석을 적어보세요.\n",
        "\n"
      ],
      "metadata": {
        "id": "XLZWg1U_EEEp"
      },
      "execution_count": null,
      "outputs": []
    },
    {
      "cell_type": "code",
      "source": [
        "여기에 쓰인 글자들을 모두 주석처리해보세요.\n",
        "하나씩 하지 말고 전체를 한 번에 주석처리 해보세요.\n",
        "여기까지 모두요."
      ],
      "metadata": {
        "id": "PzqwXAnZEG2G"
      },
      "execution_count": null,
      "outputs": []
    },
    {
      "cell_type": "markdown",
      "source": [
        "✅ 실습 결과 정리"
      ],
      "metadata": {
        "id": "-H1qW8M3Dc9v"
      }
    },
    {
      "cell_type": "code",
      "source": [
        "\n",
        "# 실행 결과는 (                 ) 에 나타납니다.\n",
        "\n",
        "# 텍스트에 입력한 내용은 코드에 영향을 (                      )\n",
        "\n",
        "# 코드에 설명(주석)을 직접 쓰고 싶을 때는 (     )을 사용합니다.\n",
        "\n",
        "# 여러 줄을 주석으로 처리하고 싶을 때는 여러 줄을 선택한 다음 단축키  (              )\n",
        "\n",
        "# 강의에서 제공된 주피터 노트북은 바로 실습하지 않고 (                       ) 한 다음 실습합니다.\n"
      ],
      "metadata": {
        "id": "dB8Gd0LADYAf"
      },
      "execution_count": null,
      "outputs": []
    },
    {
      "cell_type": "markdown",
      "source": [
        "##파이썬 기초 개념 배우기\n",
        "\n",
        "- 함수의 기초 개념\n",
        "- 변수의 개념"
      ],
      "metadata": {
        "id": "Uqp2AY5zETsr"
      }
    },
    {
      "cell_type": "markdown",
      "source": [
        "함수 (function) : 요술지팡이, 마법사\n",
        "- 수학의 함수와 비슷\n",
        "- 함수명 뒤에 괄호로 표현 : 예) print(), type(), input()....\n",
        "- ()안에 어떤 값을 입력하면 미리 정해진 기능을 수행 (입력값 없이 바로 실행하는 것도 가능)\n",
        "- print()는 파이썬에 내장된(built-in) 함수(function)으로서, 괄호 안에 들어있는 데이터를 화면에 출력해준다."
      ],
      "metadata": {
        "id": "cqFvpmiRE1Fe"
      }
    },
    {
      "cell_type": "code",
      "source": [],
      "metadata": {
        "id": "4aYgYvvKEiqz"
      },
      "execution_count": null,
      "outputs": []
    },
    {
      "cell_type": "markdown",
      "source": [
        "변수 Variable\n",
        "\n",
        "> 데이터가 저장되는 위치 또는 메모리 주소의 **이름**\n",
        "\n",
        "변수란? 데이터에 이름을 붙여 주기\n",
        "- `변수명 = 데이터` 와 같이 등호(=, 할당연산자로도 함)를 기준으로 오른쪽의 값을 왼쪽의 변수이름에 대입\n",
        "- 변수를 만드는 방법? 변수의 이름을 생각해서 값을 대입하면 됨."
      ],
      "metadata": {
        "id": "yZ1qrkZIFGjb"
      }
    },
    {
      "cell_type": "code",
      "source": [
        "# 자신의 나이를 age란 이름의 변수에 저장해보세요.\n",
        "\n"
      ],
      "metadata": {
        "id": "aCk6uO-rFJhj"
      },
      "execution_count": null,
      "outputs": []
    },
    {
      "cell_type": "code",
      "source": [
        "# age의 값을 출력해보세요.\n",
        "\n"
      ],
      "metadata": {
        "id": "_BxH9GPaFNow"
      },
      "execution_count": null,
      "outputs": []
    },
    {
      "cell_type": "code",
      "source": [
        "# 다음을 실행해보고 어떤 결과가 있는지 정리해보세요.\n",
        "a = 1\n",
        "b = 2\n",
        "\n",
        "a\n",
        "b\n",
        "\n",
        "# 결과 : 변수의 이름을 출력할 때는 (              )만 출력된다."
      ],
      "metadata": {
        "id": "qZASGz3BFTWf"
      },
      "execution_count": null,
      "outputs": []
    },
    {
      "cell_type": "code",
      "source": [
        "# a와 b를 모두 출력하려면 어떻게 코딩해야할까요?\n",
        "a = 10\n",
        "b = 20\n",
        "\n"
      ],
      "metadata": {
        "id": "qCE6fetSFd8q"
      },
      "execution_count": null,
      "outputs": []
    },
    {
      "cell_type": "markdown",
      "source": [
        "Tip. = 와 ==는 달라요. 둘의 차이는 추후에 배울 예정입니다."
      ],
      "metadata": {
        "id": "jEP6oa8SGOQ5"
      }
    },
    {
      "cell_type": "markdown",
      "source": [
        "▶ 변수의 이름을 지을 때 주의할 점\n",
        "\n",
        "변수 이름에 포함될 수 있는 것\n",
        " - 모든 문자 (알파벳, 한글)\n",
        " - 숫자\n",
        " - Underscore (_)\n",
        "\n",
        "그러나 다음의 경우는 안됨\n",
        " - 숫자가 맨 앞에 나오는 경우 `1a`\n",
        " - 띄어쓰기를 하는 경우 `a b`\n",
        " - 예약어(Keyword) `and`, `if` 등"
      ],
      "metadata": {
        "id": "Bm4XtSWrGeA3"
      }
    },
    {
      "cell_type": "code",
      "source": [
        "#예약어란? 파이썬에서 미리 약속한 낱말입니다. 예약어는 변수로 쓸 수 없어요.\n",
        "#예약어 확인하기\n",
        "import keyword\n",
        "print (keyword.kwlist)\n",
        "len (keyword.kwlist)"
      ],
      "metadata": {
        "id": "W-Bg9qFLGR3S"
      },
      "execution_count": null,
      "outputs": []
    },
    {
      "cell_type": "code",
      "source": [
        "#다음 코딩들을 실행해보세요."
      ],
      "metadata": {
        "id": "zdewf2loHeX9"
      },
      "execution_count": null,
      "outputs": []
    },
    {
      "cell_type": "code",
      "source": [
        "_a = 10"
      ],
      "metadata": {
        "id": "jp7QcKxtHoSL"
      },
      "execution_count": null,
      "outputs": []
    },
    {
      "cell_type": "code",
      "source": [
        "a1 = 'a1'"
      ],
      "metadata": {
        "id": "h9UhTSRzHon8"
      },
      "execution_count": null,
      "outputs": []
    },
    {
      "cell_type": "code",
      "source": [
        "1a = '1a'"
      ],
      "metadata": {
        "id": "RHYwvd70Hpox"
      },
      "execution_count": null,
      "outputs": []
    },
    {
      "cell_type": "code",
      "source": [
        "만약에 = 'if'"
      ],
      "metadata": {
        "id": "5re9BFFRHpw7"
      },
      "execution_count": null,
      "outputs": []
    },
    {
      "cell_type": "code",
      "source": [
        "if = '만약에'"
      ],
      "metadata": {
        "id": "SSUgkyn2Hp36"
      },
      "execution_count": null,
      "outputs": []
    },
    {
      "cell_type": "code",
      "source": [
        "a-b = 'a-b'"
      ],
      "metadata": {
        "id": "t8GI8Fj5Hp8g"
      },
      "execution_count": null,
      "outputs": []
    },
    {
      "cell_type": "markdown",
      "source": [
        "print 함수의 출력 값을 예상해봅시다."
      ],
      "metadata": {
        "id": "TA7vEi4lJjtE"
      }
    },
    {
      "cell_type": "code",
      "source": [
        "name = \"Jay\""
      ],
      "metadata": {
        "id": "o4aupj35Ju_U"
      },
      "execution_count": null,
      "outputs": []
    },
    {
      "cell_type": "code",
      "source": [
        "print(name)"
      ],
      "metadata": {
        "id": "H3ZpqXEWJi1f"
      },
      "execution_count": null,
      "outputs": []
    },
    {
      "cell_type": "code",
      "source": [
        "print(“name”)"
      ],
      "metadata": {
        "id": "9_ccQ9IqJoFD"
      },
      "execution_count": null,
      "outputs": []
    },
    {
      "cell_type": "code",
      "source": [
        "print(“Jay”)"
      ],
      "metadata": {
        "id": "gDLmJlROJoOm"
      },
      "execution_count": null,
      "outputs": []
    },
    {
      "cell_type": "code",
      "source": [
        "print(Jay)"
      ],
      "metadata": {
        "id": "tkYmdqfbJoVs"
      },
      "execution_count": null,
      "outputs": []
    },
    {
      "cell_type": "markdown",
      "source": [
        "변수는 변한다! 마지막에 들어가는 값이 진짜 주인"
      ],
      "metadata": {
        "id": "wnWQ-DV_L-nr"
      }
    },
    {
      "cell_type": "code",
      "source": [
        "age = 20\n",
        "age = 21\n",
        "print(age)\n"
      ],
      "metadata": {
        "id": "vt3UDMg8OK2y"
      },
      "execution_count": null,
      "outputs": []
    },
    {
      "cell_type": "code",
      "source": [
        "age = 20\n",
        "age = age + 1 # 원래 있던 age란 변수에 1을 더해서 다시 age에 저장하라는 의미 (a와 a+1이 같다는 의미가 아님!)\n",
        "age"
      ],
      "metadata": {
        "id": "jqU4FxPtOLow"
      },
      "execution_count": null,
      "outputs": []
    },
    {
      "cell_type": "markdown",
      "source": [
        "✅ 실습 결과 정리"
      ],
      "metadata": {
        "id": "pGSXIKTOH89y"
      }
    },
    {
      "cell_type": "code",
      "source": [
        "# 변수의 이름을 지을 때는  (             ) 도록 짓는 것이 좋습니다.\n",
        "\n",
        "# 예) 사용자의 아이디를 담고 있는 변수의 이름 : user_id\n",
        "\n",
        "# 예) 사용자의 이름을 담고 있는 변수의 이름 : user_name\n",
        "\n",
        "# 예) 국어 점수 : point_korea\n",
        "\n",
        "# 변수의 이름을 정할 때 지켜야 하는 규칙이 있습니다. O, X중 알맞은 것만 남겨봅시다.\n",
        "\n",
        "#   ① 띄어쓰기가 가능하다. < O , X >\n",
        "\n",
        "#   ② 변수 이름의 맨 앞은 숫자를 쓸 수 없다.  < O , X >\n",
        "\n",
        "#   ③ 예약어도 변수로 사용이 가능하다. < O , X >\n",
        "#      ※ 예약어는 if와 같이 파이썬에서 명령어로 약속해 놓은 낱말입니다.\n",
        "\n",
        "#   ④ 대문자와 소문자를 구별한다.  < O , X >"
      ],
      "metadata": {
        "id": "6L-txduaIn0z"
      },
      "execution_count": null,
      "outputs": []
    },
    {
      "cell_type": "code",
      "source": [
        "# 변수의 이름을 지을 때는 다음을 권장합니다.\n",
        "\n",
        "# ‘my_name’, ‘user_pw’와 같이   언더바  를 이용해 이름을 지으면 좋습니다.\n",
        "\n",
        "# ‘MyName’, ‘UserPw’ 와 같이   대문자와 소문자 를 이용해 이름을 지으면 좋습니다.\n",
        "\n",
        "# ‘내이름’, ‘사용자비밀번호’와 같이   한글 을 이용해 이름을 짓는 것도 가능합니다.\n",
        "\n",
        "# 비슷한 내용을 가진 변수들은 ‘item1’, ‘item2’와 같이  숫자 를 이용해 이름을 짓는 것이 좋습니다."
      ],
      "metadata": {
        "id": "dSSUijysI3lb"
      },
      "execution_count": null,
      "outputs": []
    },
    {
      "cell_type": "code",
      "source": [
        "# 함수는  (                     )을 수행하는 것입니다.\n",
        "\n",
        "# 함수를 실행하고자 할 때에는 함수명 뒤에 (                     ) 를 입력합니다.\n",
        "\n",
        "# 함수명 뒤에 붙는 (      )에는  값을 (                             )  있습니다.\n",
        "\n",
        "# print 함수는 (                                                   )하는 함수입니다.\n",
        "\n"
      ],
      "metadata": {
        "id": "iyi_ntKJJMMK"
      },
      "execution_count": null,
      "outputs": []
    },
    {
      "cell_type": "code",
      "source": [
        "# 변수 자체에 값을 더할 때에는 (                       ) 합니다.\n",
        "\n",
        "# 예를 들어 이렇게 합니다. :"
      ],
      "metadata": {
        "id": "R3roTRy_OQsI"
      },
      "execution_count": null,
      "outputs": []
    },
    {
      "cell_type": "markdown",
      "source": [
        "오늘 배운 내용을 바탕으로 선생님이 클래스룸에 올려주신 과제를 해결해봅시다."
      ],
      "metadata": {
        "id": "fiMWSwDiJ-A8"
      }
    },
    {
      "cell_type": "code",
      "source": [
        "print='천대건'\n",
        "\n",
        "print('안녕')"
      ],
      "metadata": {
        "id": "MU9raphSbRLJ"
      },
      "execution_count": null,
      "outputs": []
    }
  ]
}