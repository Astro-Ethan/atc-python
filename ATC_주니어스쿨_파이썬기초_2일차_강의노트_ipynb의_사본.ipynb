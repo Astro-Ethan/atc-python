{
  "cells": [
    {
      "cell_type": "markdown",
      "metadata": {
        "id": "view-in-github",
        "colab_type": "text"
      },
      "source": [
        "<a href=\"https://colab.research.google.com/github/Astro-Ethan/atc-python/blob/main/ATC_%EC%A3%BC%EB%8B%88%EC%96%B4%EC%8A%A4%EC%BF%A8_%ED%8C%8C%EC%9D%B4%EC%8D%AC%EA%B8%B0%EC%B4%88_2%EC%9D%BC%EC%B0%A8_%EA%B0%95%EC%9D%98%EB%85%B8%ED%8A%B8_ipynb%EC%9D%98_%EC%82%AC%EB%B3%B8.ipynb\" target=\"_parent\"><img src=\"https://colab.research.google.com/assets/colab-badge.svg\" alt=\"Open In Colab\"/></a>"
      ]
    },
    {
      "cell_type": "code",
      "source": [],
      "metadata": {
        "id": "aMRFJl4nWPzD",
        "colab": {
          "base_uri": "https://localhost:8080/",
          "height": 146
        },
        "outputId": "6d6d91e8-1e20-4696-9e8c-2701f479ffac"
      },
      "execution_count": null,
      "outputs": [
        {
          "output_type": "error",
          "ename": "SyntaxError",
          "evalue": "ignored",
          "traceback": [
            "\u001b[0;36m  File \u001b[0;32m\"<ipython-input-1-e8142a9f1c22>\"\u001b[0;36m, line \u001b[0;32m1\u001b[0m\n\u001b[0;31m    Q:::::::()\u001b[0m\n\u001b[0m      ^\u001b[0m\n\u001b[0;31mSyntaxError\u001b[0m\u001b[0;31m:\u001b[0m invalid syntax\n"
          ]
        }
      ]
    },
    {
      "cell_type": "markdown",
      "source": [
        "#09/23 오늘 배울 내용\n",
        "#자료형\n",
        "- 숫자형 문자형 부울형\n",
        "- 그 외 리스트, 튜플, 사전 등이 있다.\n",
        "#우리가 과일, 숫자, 사람, 동물\n",
        "\n",
        "\n",
        "#연산자\n",
        "- 산술 관계 논리\n",
        "#print('dd)\n",
        "#이 코드는 어쩌고저쩌고 할 때 쓰는 코드입니다.\n",
        "#저번 시간에 배운내용 복습\n",
        "#(주석, 함수, 변수, 예약어)\n",
        "#함수 - print, type, input 등등\n",
        "#변수 - a= 20\n",
        "#변수 주의점 모든문자,숫자,_언더스코어\n",
        "\n",
        "\n",
        "#*안되는 경우 : 숫자맨앞,띄어쓰기,예약어(if,and 등등 보라색)\n",
        "\n",
        "\n"
      ],
      "metadata": {
        "id": "bb6Kdl0ymzpU"
      }
    },
    {
      "cell_type": "markdown",
      "source": [
        "## 숫자\n",
        "\n",
        "- 정수형 *integer(int)* : `20`, `-10`\n",
        "- 실수형 *float* : `3.14`, `1.2e4`\n",
        "- 연산자 *operator*\n",
        "  - `+` 더하기\n",
        "  - `-` 빼기\n",
        "  - `*` 곱하기\n",
        "  - `/` 나누기(실수) `7 / 2 = 3.5`\n",
        "  - `//` 몫(정수)    `7 // 2 = 3`\n",
        "  - `%` 나머지       `7 % 3 = 1`\n",
        "  - `**` 제곱        `3 ** 4 = 81`\n"
      ],
      "metadata": {
        "id": "9v_40HQ6WKw3"
      }
    },
    {
      "cell_type": "code",
      "execution_count": null,
      "metadata": {
        "id": "2q_-KF6WYYto"
      },
      "outputs": [],
      "source": [
        "# 연산 순서 (수학 시간에 배운 것과 같아요)\n",
        "\n",
        "1 + 2 * 3 #곱하기 먼저"
      ]
    },
    {
      "cell_type": "code",
      "execution_count": null,
      "metadata": {
        "id": "se-HFGhFYYtt"
      },
      "outputs": [],
      "source": [
        "(1+2)*3 #괄호 먼저"
      ]
    },
    {
      "cell_type": "markdown",
      "source": [
        "4 나누기 2 를 계산할 때 / 와 // 의 차이는 무엇일까?"
      ],
      "metadata": {
        "id": "76yBxGwPtD4W"
      }
    },
    {
      "cell_type": "code",
      "execution_count": null,
      "metadata": {
        "id": "iMm-KADsYYt1"
      },
      "outputs": [],
      "source": [
        "7 / 2 #결과는 항상 float"
      ]
    },
    {
      "cell_type": "code",
      "source": [
        "7 // 2 #결과는 항상 int"
      ],
      "metadata": {
        "id": "HVI4C5F8sJQi"
      },
      "execution_count": null,
      "outputs": []
    },
    {
      "cell_type": "code",
      "source": [
        "10//3"
      ],
      "metadata": {
        "id": "OPIp-YnI4NZk"
      },
      "execution_count": null,
      "outputs": []
    },
    {
      "cell_type": "code",
      "source": [
        "452345235763467//34653456"
      ],
      "metadata": {
        "id": "-G78as9M4RdK"
      },
      "execution_count": null,
      "outputs": []
    },
    {
      "cell_type": "code",
      "source": [
        "#나머지 구하기\n",
        "6843521 % 134245"
      ],
      "metadata": {
        "id": "rlbSki3os8NA"
      },
      "execution_count": null,
      "outputs": []
    },
    {
      "cell_type": "code",
      "source": [
        "2 ** 10"
      ],
      "metadata": {
        "id": "AEYXuJy3tJjo",
        "colab": {
          "base_uri": "https://localhost:8080/"
        },
        "outputId": "8d01fd10-a1c7-44a1-89c4-6d2fc2e07661"
      },
      "execution_count": 1,
      "outputs": [
        {
          "output_type": "execute_result",
          "data": {
            "text/plain": [
              "1024"
            ]
          },
          "metadata": {},
          "execution_count": 1
        }
      ]
    },
    {
      "cell_type": "code",
      "source": [
        "# 큰 수는 얼마나 클까?\n",
        "googol = 10 ** 100 #구글 이름의 기원\n",
        "googol"
      ],
      "metadata": {
        "id": "8T8gof1tZ55k",
        "colab": {
          "base_uri": "https://localhost:8080/"
        },
        "outputId": "c597cbe2-f207-4ef6-8e5f-e2a8bab55bff"
      },
      "execution_count": 2,
      "outputs": [
        {
          "output_type": "execute_result",
          "data": {
            "text/plain": [
              "10000000000000000000000000000000000000000000000000000000000000000000000000000000000000000000000000000"
            ]
          },
          "metadata": {},
          "execution_count": 2
        }
      ]
    },
    {
      "cell_type": "code",
      "source": [
        "age = 30"
      ],
      "metadata": {
        "id": "qpg_Id3uuqhq"
      },
      "execution_count": 3,
      "outputs": []
    },
    {
      "cell_type": "code",
      "source": [
        "print(age)"
      ],
      "metadata": {
        "id": "9lgKJYnn8D7t",
        "colab": {
          "base_uri": "https://localhost:8080/"
        },
        "outputId": "1d86ac1e-103c-4e89-8906-d4cb3702615f"
      },
      "execution_count": 4,
      "outputs": [
        {
          "output_type": "stream",
          "name": "stdout",
          "text": [
            "30\n"
          ]
        }
      ]
    },
    {
      "cell_type": "code",
      "execution_count": null,
      "metadata": {
        "id": "I5sgQfHWYYtx",
        "scrolled": true
      },
      "outputs": [],
      "source": [
        "# 잠깐만! 하나만 더!\n",
        "\n",
        "# 변수 이름을 함수 이름으로 사용하는 경우\n",
        "\n"
      ]
    },
    {
      "cell_type": "code",
      "source": [
        "del"
      ],
      "metadata": {
        "id": "O1D_HSBG9Jzf"
      },
      "execution_count": null,
      "outputs": []
    },
    {
      "cell_type": "code",
      "execution_count": null,
      "metadata": {
        "id": "xQt_5EztjHLR"
      },
      "outputs": [],
      "source": [
        "# 변수의 값을 함수로 사용하는 경우"
      ]
    },
    {
      "cell_type": "code",
      "execution_count": 6,
      "metadata": {
        "id": "3_uc2nwpYYt6",
        "scrolled": true,
        "colab": {
          "base_uri": "https://localhost:8080/"
        },
        "outputId": "2df07663-3540-478d-a289-16ce9e59d96c"
      },
      "outputs": [
        {
          "output_type": "stream",
          "name": "stdout",
          "text": [
            "['False', 'None', 'True', 'and', 'as', 'assert', 'async', 'await', 'break', 'class', 'continue', 'def', 'del', 'elif', 'else', 'except', 'finally', 'for', 'from', 'global', 'if', 'import', 'in', 'is', 'lambda', 'nonlocal', 'not', 'or', 'pass', 'raise', 'return', 'try', 'while', 'with', 'yield']\n"
          ]
        }
      ],
      "source": [
        "import keyword\n",
        "print(keyword.kwlist)"
      ]
    },
    {
      "cell_type": "code",
      "execution_count": null,
      "metadata": {
        "id": "k1vRWXpijHLS"
      },
      "outputs": [],
      "source": []
    },
    {
      "cell_type": "code",
      "execution_count": 9,
      "metadata": {
        "id": "fhplfi_lYYuA",
        "colab": {
          "base_uri": "https://localhost:8080/"
        },
        "outputId": "f06c0d0d-33b3-4c10-9eb7-c07362f6fad1"
      },
      "outputs": [
        {
          "output_type": "stream",
          "name": "stdout",
          "text": [
            "The Zen of Python, by Tim Peters\n",
            "\n",
            "Beautiful is better than ugly.\n",
            "Explicit is better than implicit.\n",
            "Simple is better than complex.\n",
            "Complex is better than complicated.\n",
            "Flat is better than nested.\n",
            "Sparse is better than dense.\n",
            "Readability counts.\n",
            "Special cases aren't special enough to break the rules.\n",
            "Although practicality beats purity.\n",
            "Errors should never pass silently.\n",
            "Unless explicitly silenced.\n",
            "In the face of ambiguity, refuse the temptation to guess.\n",
            "There should be one-- and preferably only one --obvious way to do it.\n",
            "Although that way may not be obvious at first unless you're Dutch.\n",
            "Now is better than never.\n",
            "Although never is often better than *right* now.\n",
            "If the implementation is hard to explain, it's a bad idea.\n",
            "If the implementation is easy to explain, it may be a good idea.\n",
            "Namespaces are one honking great idea -- let's do more of those!\n"
          ]
        }
      ],
      "source": [
        "import this"
      ]
    },
    {
      "cell_type": "markdown",
      "metadata": {
        "id": "UHh7NTaoYYuF"
      },
      "source": [
        "## 자료형 Data Type\n",
        "\n",
        "- 정수형  int: -5, 0, 1001\n",
        "- 실수형 float: 3.14, -5.00001\n",
        "- 문자열형 string : \"제이\", 'Gil' -> 이중따옴표 또는 따옴표 모두 사용 가능\n",
        "- 부울형 bool : True와 False -> 주의! 항상 대문자로 표시\n",
        "- 그 외 리스트, 튜플, 사전 등이 있다."
      ]
    },
    {
      "cell_type": "code",
      "execution_count": 10,
      "metadata": {
        "id": "M_fMyU_sYYuG",
        "colab": {
          "base_uri": "https://localhost:8080/"
        },
        "outputId": "a9f2f9a4-ee20-4ada-824e-212c3a31ee4d"
      },
      "outputs": [
        {
          "output_type": "execute_result",
          "data": {
            "text/plain": [
              "int"
            ]
          },
          "metadata": {},
          "execution_count": 10
        }
      ],
      "source": [
        "#type() 함수를 사용해 자료형을 확인할 수 있다.\n",
        "height = 180\n",
        "type(height)\n"
      ]
    },
    {
      "cell_type": "code",
      "source": [
        "type(height)"
      ],
      "metadata": {
        "id": "NhILHFIQ-egW",
        "colab": {
          "base_uri": "https://localhost:8080/"
        },
        "outputId": "83197683-58c8-47c0-ed7e-e3ed14af139e"
      },
      "execution_count": 14,
      "outputs": [
        {
          "output_type": "execute_result",
          "data": {
            "text/plain": [
              "int"
            ]
          },
          "metadata": {},
          "execution_count": 14
        }
      ]
    },
    {
      "cell_type": "code",
      "execution_count": 15,
      "metadata": {
        "id": "lMnbD2vLYYuL",
        "scrolled": true
      },
      "outputs": [],
      "source": [
        "weight = 98"
      ]
    },
    {
      "cell_type": "code",
      "source": [
        "type(weight)"
      ],
      "metadata": {
        "id": "L3cffsEl-m2i",
        "colab": {
          "base_uri": "https://localhost:8080/"
        },
        "outputId": "8e1fad54-cc0b-4695-a209-dc22b82610f1"
      },
      "execution_count": 16,
      "outputs": [
        {
          "output_type": "execute_result",
          "data": {
            "text/plain": [
              "int"
            ]
          },
          "metadata": {},
          "execution_count": 16
        }
      ]
    },
    {
      "cell_type": "code",
      "execution_count": 17,
      "metadata": {
        "id": "s5kWni4ihfid"
      },
      "outputs": [],
      "source": [
        "# bmi 계산하기 (몸무게kg 나누기 키m의 제곱)\n",
        "\n",
        "# height를 m로 바꾸기\n",
        "height = height * 0.01\n",
        "\n",
        "# bmi 계산하기\n"
      ]
    },
    {
      "cell_type": "markdown",
      "source": [
        "**Input()함수** 활용하기\n",
        "- 입력받기\n",
        "- 문자열로만 반환"
      ],
      "metadata": {
        "id": "5-lRyc2muHZt"
      }
    },
    {
      "cell_type": "code",
      "source": [
        "input()"
      ],
      "metadata": {
        "id": "F2uOlbbgQXuF"
      },
      "execution_count": null,
      "outputs": []
    },
    {
      "cell_type": "code",
      "source": [],
      "metadata": {
        "id": "jSePPW5FQNpv"
      },
      "execution_count": null,
      "outputs": []
    },
    {
      "cell_type": "code",
      "source": [
        "#bmi 자동 계산기\n",
        "몸무게=float (input(\"몸무게를 kg 단위로 입력하세요:\"))\n",
        "키=float (input(\"키를 m단위로 입력하세요:\"))\n",
        "\n",
        "type(몸무게)\n",
        "type(키)\n",
        "bmi = 몸무게 / (키**2)\n",
        "print(bmi)\n"
      ],
      "metadata": {
        "id": "D4H1IHyWH6mh",
        "colab": {
          "base_uri": "https://localhost:8080/"
        },
        "outputId": "a41828f6-f0bd-475d-fcec-2e3c81c98761"
      },
      "execution_count": 12,
      "outputs": [
        {
          "output_type": "stream",
          "name": "stdout",
          "text": [
            "몸무게를 kg 단위로 입력하세요:39\n",
            "키를 m단위로 입력하세요:499999999999\n",
            "1.56000000000624e-22\n"
          ]
        }
      ]
    },
    {
      "cell_type": "code",
      "source": [],
      "metadata": {
        "id": "mO-QtT5BOZyi"
      },
      "execution_count": null,
      "outputs": []
    },
    {
      "cell_type": "code",
      "source": [],
      "metadata": {
        "id": "sK9HeMpOOUZE"
      },
      "execution_count": null,
      "outputs": []
    },
    {
      "cell_type": "code",
      "source": [],
      "metadata": {
        "id": "QiS2MJSTMRFb"
      },
      "execution_count": null,
      "outputs": []
    },
    {
      "cell_type": "code",
      "source": [],
      "metadata": {
        "id": "0CK0NMDJH6qp"
      },
      "execution_count": null,
      "outputs": []
    },
    {
      "cell_type": "markdown",
      "source": [
        "####문자열"
      ],
      "metadata": {
        "id": "l5H1usGBw2Cn"
      }
    },
    {
      "cell_type": "code",
      "source": [
        "#문자는 항상 ( 따옴표 )로 감싼다.\n",
        "\n",
        "안녕하세요"
      ],
      "metadata": {
        "id": "5J-CqjgVw9cC"
      },
      "execution_count": null,
      "outputs": []
    },
    {
      "cell_type": "code",
      "source": [
        "'안녕하세요'"
      ],
      "metadata": {
        "id": "uTTNfGWoEXxH"
      },
      "execution_count": null,
      "outputs": []
    },
    {
      "cell_type": "code",
      "source": [
        "\"안녕하세요\""
      ],
      "metadata": {
        "id": "QwUmCENKEXpc",
        "colab": {
          "base_uri": "https://localhost:8080/",
          "height": 35
        },
        "outputId": "a364a0d5-06ee-4b57-85ff-fd08f07bd9c1"
      },
      "execution_count": 14,
      "outputs": [
        {
          "output_type": "execute_result",
          "data": {
            "text/plain": [
              "'안녕하세요'"
            ],
            "application/vnd.google.colaboratory.intrinsic+json": {
              "type": "string"
            }
          },
          "metadata": {},
          "execution_count": 14
        }
      ]
    },
    {
      "cell_type": "code",
      "source": [
        "'\"안녕하세요\"'"
      ],
      "metadata": {
        "id": "zdqyLawYEXhN",
        "colab": {
          "base_uri": "https://localhost:8080/",
          "height": 35
        },
        "outputId": "88ececb0-4e00-4422-ade4-84cef10f174f"
      },
      "execution_count": 13,
      "outputs": [
        {
          "output_type": "execute_result",
          "data": {
            "text/plain": [
              "'\"안녕하세요\"'"
            ],
            "application/vnd.google.colaboratory.intrinsic+json": {
              "type": "string"
            }
          },
          "metadata": {},
          "execution_count": 13
        }
      ]
    },
    {
      "cell_type": "code",
      "source": [
        "\"'안녕하세요'\""
      ],
      "metadata": {
        "id": "uxGKNE2cZNzt",
        "colab": {
          "base_uri": "https://localhost:8080/",
          "height": 35
        },
        "outputId": "57ac2cf2-8d94-40d1-9654-b0af690d959d"
      },
      "execution_count": 15,
      "outputs": [
        {
          "output_type": "execute_result",
          "data": {
            "text/plain": [
              "\"'안녕하세요'\""
            ],
            "application/vnd.google.colaboratory.intrinsic+json": {
              "type": "string"
            }
          },
          "metadata": {},
          "execution_count": 15
        }
      ]
    },
    {
      "cell_type": "code",
      "source": [
        "\n",
        "\n",
        "sdfsfdf\n",
        "dsfsdfsdfdsfsdf\n",
        "sdfsdgdgdsg\n",
        "'''\n",
        "zsdsadsad\n",
        "\n"
      ],
      "metadata": {
        "colab": {
          "base_uri": "https://localhost:8080/"
        },
        "id": "60eWYoZiPtGB",
        "outputId": "55cd9189-88dd-45a0-97ec-0dda2d574fde"
      },
      "execution_count": 18,
      "outputs": [
        {
          "output_type": "stream",
          "name": "stdout",
          "text": [
            "\"hi!\"\n"
          ]
        }
      ]
    },
    {
      "cell_type": "markdown",
      "metadata": {
        "id": "UudsKcPchfie"
      },
      "source": [
        "문자열도 곱하기(*)와 더하기(+)를 할 수 있을까?\n",
        "\n",
        "- 문자열 * 숫자 : 숫자만큼 반복\n",
        "- 문자열 + 문자열 : 문자열끼리 이어붙이기"
      ]
    },
    {
      "cell_type": "code",
      "execution_count": null,
      "metadata": {
        "id": "g29TujLvYYuj",
        "colab": {
          "base_uri": "https://localhost:8080/",
          "height": 52
        },
        "outputId": "860bc32c-1618-42cb-935b-5c7a5a640ba0"
      },
      "outputs": [
        {
          "output_type": "execute_result",
          "data": {
            "text/plain": [
              "'****************************************************************************************************'"
            ],
            "application/vnd.google.colaboratory.intrinsic+json": {
              "type": "string"
            }
          },
          "metadata": {},
          "execution_count": 61
        }
      ],
      "source": [
        "#문자열에 숫자를 곱하면 곱한 수만큼 반복된다.\n",
        "'*' * 100"
      ]
    },
    {
      "cell_type": "code",
      "execution_count": 19,
      "metadata": {
        "id": "iUvEuVLiYYun",
        "colab": {
          "base_uri": "https://localhost:8080/"
        },
        "outputId": "86334019-31ef-4c98-e0ea-92586adfb0b7"
      },
      "outputs": [
        {
          "output_type": "stream",
          "name": "stdout",
          "text": [
            "2\n",
            "1+1\n"
          ]
        }
      ],
      "source": [
        "print(1+1)\n",
        "print('1+1')"
      ]
    },
    {
      "cell_type": "code",
      "execution_count": 21,
      "metadata": {
        "id": "s5ND1InOYYuq",
        "colab": {
          "base_uri": "https://localhost:8080/"
        },
        "outputId": "e9e71d46-d5cf-49da-cd82-63876b69b227"
      },
      "outputs": [
        {
          "output_type": "stream",
          "name": "stdout",
          "text": [
            "나는 11살입니다.^^\n"
          ]
        }
      ],
      "source": [
        "# 문자열은 문자열끼리만 더할 수 있다.\n",
        "\n",
        "str_1 = \"나는 \"\n",
        "str_2 = '살입니다.^^'\n",
        "str_3 =\"11\"\n",
        "print (str_1+str_3+str_2)"
      ]
    },
    {
      "cell_type": "code",
      "execution_count": null,
      "metadata": {
        "id": "IXO0S8pphfie",
        "scrolled": true
      },
      "outputs": [],
      "source": [
        "# 위의 변수 str_1과 str_2를 사용하여 <나는 20살입니다.^^>를 출력해보세요.\n",
        "# 힌트 : 숫자를 문자로 바꿔줘야 합니다.\n"
      ]
    },
    {
      "cell_type": "markdown",
      "source": [
        "type  확인 ->  type()\n",
        "\n",
        "type 변환 -> 원하는 자료형()"
      ],
      "metadata": {
        "id": "hKcvW8-FxQHH"
      }
    },
    {
      "cell_type": "code",
      "source": [],
      "metadata": {
        "id": "6gzm0FZTxgYv"
      },
      "execution_count": null,
      "outputs": []
    },
    {
      "cell_type": "markdown",
      "metadata": {
        "id": "i89zstpVYYvH"
      },
      "source": [
        "#### 부울형 자료 (Boolean Type) : True와 False\n",
        "- 대문자로 시작하는 것에 주의\n",
        "- 옳고 그름을 판단\n",
        "- 있고 없음을 판단\n",
        "- True는 1, False는 0"
      ]
    },
    {
      "cell_type": "code",
      "execution_count": 37,
      "metadata": {
        "id": "JKAdP0MQYYvI",
        "colab": {
          "base_uri": "https://localhost:8080/"
        },
        "outputId": "033305ca-2a2d-4f20-8350-b49833295b17"
      },
      "outputs": [
        {
          "output_type": "execute_result",
          "data": {
            "text/plain": [
              "False"
            ]
          },
          "metadata": {},
          "execution_count": 37
        }
      ],
      "source": [
        "# True와 False\n",
        "a = 1000\n",
        "a == 15004685200000000000654657464063468545555555555555555455556646541481148523690040654674686460504154694106416416464411414444444444444444444444444444444444444444444444444444444444444444444444444444444444444444444444444444444444444444444444444444444444444444444444444444444444444444444444444444444444444444444444444444444444444444444444444444444444444444444444444444444444444444444444444444444444444444444444444444444444444444444444444444444444444444444444444444444444444444444444444444444444444444444444444444444444444444444444444444444444444444444444444444444444444444444444444444444444444444444444444444444444444444444444444444444444444444444444444444444444444444444444444444444444444444444444444444444444444444444444444444444444444444444444444444444444444444444444444444444444444444444444444444444444444444444444444444444444444444444444444444444444444444444444444444444444444444444444444444444444444444444444444444444444444444444444444444444444444444444444444444444444444444444444444444444444444444444444444444444444444444444444444444444444444444444444444444444444444444444444444444444444444444444444444444444444444444444444444444444444444444444444444444444444444444444444444444444444444444444444444444444444444444444444444444444444444444444444444444444444444444444444444444444444444444444444444444444444444444444444444444444444444444444"
      ]
    },
    {
      "cell_type": "code",
      "execution_count": 38,
      "metadata": {
        "id": "bwfVdaDhYYvL",
        "colab": {
          "base_uri": "https://localhost:8080/"
        },
        "outputId": "579fe5e9-844e-4a42-fb8a-f92a214aba56"
      },
      "outputs": [
        {
          "output_type": "execute_result",
          "data": {
            "text/plain": [
              "True"
            ]
          },
          "metadata": {},
          "execution_count": 38
        }
      ],
      "source": [
        "true = True\n",
        "true"
      ]
    },
    {
      "cell_type": "code",
      "execution_count": 41,
      "metadata": {
        "id": "Mr2Pv5jsYYvS",
        "colab": {
          "base_uri": "https://localhost:8080/"
        },
        "outputId": "60c5b3c7-4aac-46f3-cab4-baae967764b6"
      },
      "outputs": [
        {
          "output_type": "execute_result",
          "data": {
            "text/plain": [
              "False"
            ]
          },
          "metadata": {},
          "execution_count": 41
        }
      ],
      "source": [
        "true == 0"
      ]
    },
    {
      "cell_type": "code",
      "execution_count": 25,
      "metadata": {
        "id": "XjINB3MLYYvY",
        "colab": {
          "base_uri": "https://localhost:8080/"
        },
        "outputId": "c37f42de-a000-4528-e0d2-1b202de40712"
      },
      "outputs": [
        {
          "output_type": "execute_result",
          "data": {
            "text/plain": [
              "True"
            ]
          },
          "metadata": {},
          "execution_count": 25
        }
      ],
      "source": [
        "True == 1"
      ]
    },
    {
      "cell_type": "code",
      "execution_count": 42,
      "metadata": {
        "id": "sEAkBTHdYYvc",
        "colab": {
          "base_uri": "https://localhost:8080/"
        },
        "outputId": "25524212-eed2-4e29-ff8b-f49478960a19"
      },
      "outputs": [
        {
          "output_type": "stream",
          "name": "stdout",
          "text": [
            "False\n"
          ]
        },
        {
          "output_type": "execute_result",
          "data": {
            "text/plain": [
              "bool"
            ]
          },
          "metadata": {},
          "execution_count": 42
        }
      ],
      "source": [
        "b1 = False\n",
        "print(b1)\n",
        "type(b1)"
      ]
    },
    {
      "cell_type": "code",
      "execution_count": 43,
      "metadata": {
        "id": "IwwOrvZLYYvg",
        "colab": {
          "base_uri": "https://localhost:8080/"
        },
        "outputId": "a656ccff-79f2-4c99-eb87-ca34629f08e1"
      },
      "outputs": [
        {
          "output_type": "stream",
          "name": "stdout",
          "text": [
            "False\n"
          ]
        },
        {
          "output_type": "execute_result",
          "data": {
            "text/plain": [
              "str"
            ]
          },
          "metadata": {},
          "execution_count": 43
        }
      ],
      "source": [
        "b2 ='False'\n",
        "print(b2)\n",
        "type(b2)"
      ]
    },
    {
      "cell_type": "code",
      "execution_count": 44,
      "metadata": {
        "id": "lDiJwn4LjHLV",
        "colab": {
          "base_uri": "https://localhost:8080/"
        },
        "outputId": "7fc96b06-83a9-488f-a61e-9f1247e67401"
      },
      "outputs": [
        {
          "output_type": "execute_result",
          "data": {
            "text/plain": [
              "False"
            ]
          },
          "metadata": {},
          "execution_count": 44
        }
      ],
      "source": [
        "bool(b1)"
      ]
    },
    {
      "cell_type": "code",
      "execution_count": 45,
      "metadata": {
        "id": "Nb8LQqpIjHLV",
        "colab": {
          "base_uri": "https://localhost:8080/"
        },
        "outputId": "2ec248b5-5160-4b07-dad2-e943a9e0dfb5"
      },
      "outputs": [
        {
          "output_type": "execute_result",
          "data": {
            "text/plain": [
              "True"
            ]
          },
          "metadata": {},
          "execution_count": 45
        }
      ],
      "source": [
        "bool(b2)"
      ]
    },
    {
      "cell_type": "code",
      "execution_count": 46,
      "metadata": {
        "id": "Ln5pjep9jHLV",
        "colab": {
          "base_uri": "https://localhost:8080/"
        },
        "outputId": "c5b43015-53b1-47b3-c3e2-13176f26539e"
      },
      "outputs": [
        {
          "output_type": "execute_result",
          "data": {
            "text/plain": [
              "True"
            ]
          },
          "metadata": {},
          "execution_count": 46
        }
      ],
      "source": [
        "bool(\" \")"
      ]
    },
    {
      "cell_type": "code",
      "execution_count": 47,
      "metadata": {
        "id": "xEj12o3SYYvj",
        "colab": {
          "base_uri": "https://localhost:8080/"
        },
        "outputId": "049d3301-76b7-404f-f7a3-a8586aa7330f"
      },
      "outputs": [
        {
          "output_type": "execute_result",
          "data": {
            "text/plain": [
              "False"
            ]
          },
          "metadata": {},
          "execution_count": 47
        }
      ],
      "source": [
        "20 != 20"
      ]
    },
    {
      "cell_type": "code",
      "execution_count": null,
      "metadata": {
        "id": "BCgtKz7VYYvl"
      },
      "outputs": [],
      "source": [
        "a = \" \"\n",
        "bool (a)"
      ]
    },
    {
      "cell_type": "code",
      "execution_count": null,
      "metadata": {
        "id": "3B5tck4YYYvp"
      },
      "outputs": [],
      "source": [
        "bool (0)"
      ]
    },
    {
      "cell_type": "code",
      "execution_count": null,
      "metadata": {
        "id": "rYggJGH9jHLV"
      },
      "outputs": [],
      "source": [
        "bool (22353245342)"
      ]
    },
    {
      "cell_type": "code",
      "execution_count": null,
      "metadata": {
        "id": "dYjwtdgTYYvt"
      },
      "outputs": [],
      "source": [
        "bool (\"False\")"
      ]
    },
    {
      "cell_type": "code",
      "source": [
        "a1 = 5*5\n",
        "print(a1)"
      ],
      "metadata": {
        "id": "GGtbaTfQJJcF"
      },
      "execution_count": null,
      "outputs": []
    },
    {
      "cell_type": "markdown",
      "metadata": {
        "id": "vBFSHw1zYYvx"
      },
      "source": [
        "## 연산자\n",
        "\n",
        "**산술연산자**\n",
        "- 더하기 +,  빼기 -, 곱하기 *, 나누기 /\n",
        "- 몫 //\n",
        "- 나머지 %\n",
        "- 제곱 **\n",
        "\n",
        "- (연산자 축약)\n",
        " * a = a + 1  ->  a += 1\n",
        " * a = a - 1  ->   a -= 1\n",
        " * a = a * 1  ->  a *= 1\n",
        " * a = a / 1  ->  a /= 1   \n",
        "\n",
        "**관계 연산자**\n",
        "\n",
        "- 작다 a < b\n",
        "- 크다 a > b\n",
        "- 작거나 같다 <=\n",
        "- 크거나 같다 >=\n",
        "- 같다 ==\n",
        "- 같지 않다 !=\n",
        "\n",
        "**논리 연산자**\n",
        "- 아니다 not\n",
        "- ~이고 ~ 이면 (모두 다 참) and\n",
        "- ~이거나 ~이면 (하나만 참) or"
      ]
    },
    {
      "cell_type": "code",
      "source": [
        "height=58\n",
        "weight=165\n",
        "height**2"
      ],
      "metadata": {
        "id": "Fi7AlL5cJT5a",
        "colab": {
          "base_uri": "https://localhost:8080/"
        },
        "outputId": "babc9f08-b8aa-4c4b-b2c2-41ffd2373563"
      },
      "execution_count": 49,
      "outputs": [
        {
          "output_type": "execute_result",
          "data": {
            "text/plain": [
              "3364"
            ]
          },
          "metadata": {},
          "execution_count": 49
        }
      ]
    },
    {
      "cell_type": "code",
      "execution_count": 52,
      "metadata": {
        "id": "vVX_cclfnNGq",
        "colab": {
          "base_uri": "https://localhost:8080/"
        },
        "outputId": "453e58ad-b4ef-4b25-998c-a43ca64eebf5"
      },
      "outputs": [
        {
          "output_type": "execute_result",
          "data": {
            "text/plain": [
              "True"
            ]
          },
          "metadata": {},
          "execution_count": 52
        }
      ],
      "source": [
        "True or False and False  # True or (False)"
      ]
    },
    {
      "cell_type": "code",
      "execution_count": 53,
      "metadata": {
        "id": "h3vgcuaVhfii",
        "colab": {
          "base_uri": "https://localhost:8080/"
        },
        "outputId": "ac644d03-a54d-4b5e-a6f7-c3020deb511d"
      },
      "outputs": [
        {
          "output_type": "execute_result",
          "data": {
            "text/plain": [
              "False"
            ]
          },
          "metadata": {},
          "execution_count": 53
        }
      ],
      "source": [
        "(True or False) and False"
      ]
    },
    {
      "cell_type": "code",
      "execution_count": 54,
      "metadata": {
        "id": "YTaXa9tgnvu8",
        "colab": {
          "base_uri": "https://localhost:8080/"
        },
        "outputId": "c2b16260-7c6e-4480-ee51-6e7cb134a371"
      },
      "outputs": [
        {
          "output_type": "stream",
          "name": "stdout",
          "text": [
            "True\n"
          ]
        }
      ],
      "source": [
        "print (4//2==2 and 2>1) # True and True"
      ]
    },
    {
      "cell_type": "code",
      "execution_count": 55,
      "metadata": {
        "id": "JoJzFW-7n0l4",
        "colab": {
          "base_uri": "https://localhost:8080/"
        },
        "outputId": "e89cb8d9-8dac-4e59-c98f-45e6c4abe821"
      },
      "outputs": [
        {
          "output_type": "execute_result",
          "data": {
            "text/plain": [
              "True"
            ]
          },
          "metadata": {},
          "execution_count": 55
        }
      ],
      "source": [
        "not(3<5) or 3!=5  # False or True"
      ]
    },
    {
      "cell_type": "markdown",
      "metadata": {
        "id": "KRVQcXcUhfik"
      },
      "source": [
        "<span style=\"color:blue\"> [돌발퀴즈] 다음 코드의 결과는?"
      ]
    },
    {
      "cell_type": "code",
      "execution_count": 56,
      "metadata": {
        "id": "2uKMd1H0hfik",
        "colab": {
          "base_uri": "https://localhost:8080/"
        },
        "outputId": "d9f7146c-07fc-41cc-a024-3e3acf069fe3"
      },
      "outputs": [
        {
          "output_type": "execute_result",
          "data": {
            "text/plain": [
              "True"
            ]
          },
          "metadata": {},
          "execution_count": 56
        }
      ],
      "source": [
        "\"small\" > \"big\""
      ]
    },
    {
      "cell_type": "code",
      "execution_count": 57,
      "metadata": {
        "id": "haHNwVnEhfik",
        "scrolled": true,
        "colab": {
          "base_uri": "https://localhost:8080/"
        },
        "outputId": "78a39028-73e6-47d2-ec3a-209e24095e4c"
      },
      "outputs": [
        {
          "output_type": "execute_result",
          "data": {
            "text/plain": [
              "True"
            ]
          },
          "metadata": {},
          "execution_count": 57
        }
      ],
      "source": [
        "\"smaller\" > \"small\""
      ]
    },
    {
      "cell_type": "code",
      "execution_count": 58,
      "metadata": {
        "id": "MckpX7VMhfik",
        "colab": {
          "base_uri": "https://localhost:8080/"
        },
        "outputId": "0672b879-db29-4270-b407-baf50b4eff26"
      },
      "outputs": [
        {
          "output_type": "execute_result",
          "data": {
            "text/plain": [
              "True"
            ]
          },
          "metadata": {},
          "execution_count": 58
        }
      ],
      "source": [
        "'small'>\"SMALL\""
      ]
    },
    {
      "cell_type": "markdown",
      "metadata": {
        "id": "4-CriJC8vQbx"
      },
      "source": [
        "[아스키코드] https://ko.wikipedia.org/wiki/ASCII"
      ]
    },
    {
      "cell_type": "code",
      "execution_count": 59,
      "metadata": {
        "id": "pvMv6Umqhfik",
        "colab": {
          "base_uri": "https://localhost:8080/"
        },
        "outputId": "2dfd040e-6712-4f88-e19c-98ab0fd7e5e4"
      },
      "outputs": [
        {
          "output_type": "execute_result",
          "data": {
            "text/plain": [
              "97"
            ]
          },
          "metadata": {},
          "execution_count": 59
        }
      ],
      "source": [
        "# 아스키코드 참조\n",
        "ord('a')"
      ]
    },
    {
      "cell_type": "code",
      "execution_count": 63,
      "metadata": {
        "id": "yKhGcXRihfik",
        "colab": {
          "base_uri": "https://localhost:8080/",
          "height": 35
        },
        "outputId": "a53f3985-1e01-4042-93b9-20c0124627b7"
      },
      "outputs": [
        {
          "output_type": "execute_result",
          "data": {
            "text/plain": [
              "'ӏ'"
            ],
            "application/vnd.google.colaboratory.intrinsic+json": {
              "type": "string"
            }
          },
          "metadata": {},
          "execution_count": 63
        }
      ],
      "source": [
        "chr(1231)"
      ]
    },
    {
      "cell_type": "markdown",
      "source": [
        "✅ 실습 결과 정리"
      ],
      "metadata": {
        "id": "jKlymkCVpwLK"
      }
    },
    {
      "cell_type": "code",
      "source": [],
      "metadata": {
        "id": "ugb7E0z18KUM"
      },
      "execution_count": null,
      "outputs": []
    }
  ],
  "metadata": {
    "colab": {
      "provenance": [],
      "include_colab_link": true
    },
    "kernelspec": {
      "display_name": "Python 3",
      "language": "python",
      "name": "python3"
    },
    "language_info": {
      "codemirror_mode": {
        "name": "ipython",
        "version": 3
      },
      "file_extension": ".py",
      "mimetype": "text/x-python",
      "name": "python",
      "nbconvert_exporter": "python",
      "pygments_lexer": "ipython3",
      "version": "3.8.3"
    }
  },
  "nbformat": 4,
  "nbformat_minor": 0
}