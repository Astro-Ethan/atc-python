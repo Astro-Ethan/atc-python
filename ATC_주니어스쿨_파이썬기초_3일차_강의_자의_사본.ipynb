{
  "cells": [
    {
      "cell_type": "markdown",
      "metadata": {
        "id": "view-in-github",
        "colab_type": "text"
      },
      "source": [
        "<a href=\"https://colab.research.google.com/github/Astro-Ethan/atc-python/blob/main/ATC_%EC%A3%BC%EB%8B%88%EC%96%B4%EC%8A%A4%EC%BF%A8_%ED%8C%8C%EC%9D%B4%EC%8D%AC%EA%B8%B0%EC%B4%88_3%EC%9D%BC%EC%B0%A8_%EA%B0%95%EC%9D%98_%EC%9E%90%EC%9D%98_%EC%82%AC%EB%B3%B8.ipynb\" target=\"_parent\"><img src=\"https://colab.research.google.com/assets/colab-badge.svg\" alt=\"Open In Colab\"/></a>"
      ]
    },
    {
      "cell_type": "markdown",
      "metadata": {
        "id": "2IL6zZsAXBOw"
      },
      "source": [
        "# 10월 8일 토요일 (3일차) 배울 내용\n",
        "#조건문\n",
        "- if, if-else\n",
        "\n",
        "#다중조건문\n",
        "- if-elif-else"
      ]
    },
    {
      "cell_type": "markdown",
      "metadata": {
        "id": "J3b-W4nsy6VA"
      },
      "source": [
        "#조건문의 개념을 알아봅시다."
      ]
    },
    {
      "cell_type": "code",
      "execution_count": null,
      "metadata": {
        "id": "rfdOVJ_vzA1Z"
      },
      "outputs": [],
      "source": [
        "# 조건문이란 ()을 의미합니다.\n",
        "#조건문은 조건이 (  참일 때   ) 실행하는 명령어와 (   거짓일 때     ) 실행하는 명령어를 정할 수 있습니다.조건이 참인지 거짓인지 판단 하는 것"
      ]
    },
    {
      "cell_type": "markdown",
      "metadata": {
        "id": "-T6MpfhizaSx"
      },
      "source": [
        "#조건문을 사용하는 방법을 알아봅시다."
      ]
    },
    {
      "cell_type": "code",
      "execution_count": null,
      "metadata": {
        "id": "lVnr10S4zf2H"
      },
      "outputs": [],
      "source": [
        "#조건문을 만들기 위해서 (   if    )를 쓰고 뒤에 ( 콜론  (:)      )을 써야 합니다.\n",
        "#조건문을 사용할 때 반드시 (    들여쓰기    )를 해야하고, 조건이 참(True)일 때, 실행할 문장을 씁니다.\n",
        "#실행할 문장이 여러 줄일 때 (   들여쓰기      ) 간격이 같아야 합니다."
      ]
    },
    {
      "cell_type": "markdown",
      "metadata": {
        "id": "K_5WR0NHz6G_"
      },
      "source": [
        "#if 사용하기"
      ]
    },
    {
      "cell_type": "code",
      "execution_count": null,
      "metadata": {
        "id": "4ZTrUFJeKuQs",
        "colab": {
          "base_uri": "https://localhost:8080/"
        },
        "outputId": "408f3861-7763-485b-f384-bbd5f2bed8f5"
      },
      "outputs": [
        {
          "output_type": "stream",
          "name": "stdout",
          "text": [
            "참\n"
          ]
        }
      ],
      "source": [
        "# 조건이 참일 때 실행\n",
        "if True:\n",
        "  print('참')"
      ]
    },
    {
      "cell_type": "code",
      "execution_count": null,
      "metadata": {
        "id": "Y2I42dvHO3ce",
        "colab": {
          "base_uri": "https://localhost:8080/"
        },
        "outputId": "5c9eacf1-de10-47d8-8c46-8f7892ef1b57"
      },
      "outputs": [
        {
          "output_type": "stream",
          "name": "stdout",
          "text": [
            "false\n"
          ]
        }
      ],
      "source": [
        "# 조건이 거짓이면 실행X\n",
        "if True:\n",
        "  print('false')"
      ]
    },
    {
      "cell_type": "code",
      "execution_count": null,
      "metadata": {
        "id": "pExrE0nWO3cf",
        "colab": {
          "base_uri": "https://localhost:8080/",
          "height": 146
        },
        "outputId": "be47de02-1da0-4c3f-a9aa-2b01b44e445a"
      },
      "outputs": [
        {
          "output_type": "error",
          "ename": "SyntaxError",
          "evalue": "ignored",
          "traceback": [
            "\u001b[0;36m  File \u001b[0;32m\"<ipython-input-2-dca32a0997dd>\"\u001b[0;36m, line \u001b[0;32m3\u001b[0m\n\u001b[0;31m    if a % 2 == 0\u001b[0m\n\u001b[0m                 ^\u001b[0m\n\u001b[0;31mSyntaxError\u001b[0m\u001b[0;31m:\u001b[0m expected ':'\n"
          ]
        }
      ],
      "source": [
        "\n",
        "# 변수를 사용, 짝수를 출력하기\n",
        "a=345678888886543356777777776544467865435675432567543567835687654234567542354237542313468524358543542345746343456344325325428538546437865398645385646853877589658978890789889074896689078965897658970545678096548970778989657654805\n",
        "if a % 2 == 0\n",
        "  print('짝수')\n",
        "else\n",
        "print('홀수')"
      ]
    },
    {
      "cell_type": "code",
      "execution_count": null,
      "metadata": {
        "id": "yDL0HoNKO3cg",
        "colab": {
          "base_uri": "https://localhost:8080/"
        },
        "outputId": "cd5214b1-af7b-47eb-9b60-e5994dabe25f"
      },
      "outputs": [
        {
          "output_type": "stream",
          "name": "stdout",
          "text": [
            "짝수\n",
            "안녕\n",
            "하셈\n"
          ]
        }
      ],
      "source": [
        "# 실행문이 여러 개인 경우\n",
        "a=1234\n",
        "if a % 2 == 0:\n",
        "  print('짝수')\n",
        "  print('안녕')\n",
        "  print('하셈')a=1234\n",
        "if a % 2 == 0:\n",
        "  print('짝수')\n",
        "  print('안녕')\n",
        "  print('하셈')a=1234\n",
        "if a % 2 == 0:\n",
        "  print('짝수')\n",
        "  print('안녕')\n",
        "  print('하셈')a=1234\n",
        "if a % 2 == 0:\n",
        "  print('짝수')\n",
        "  print('안녕')\n",
        "  print('하셈')a=1234\n",
        "if a % 2 == 0:\n",
        "  print('짝수')\n",
        "  print('안녕')\n",
        "  print('하셈')a=1234\n",
        "if a % 2 == 0:\n",
        "  print('짝수')\n",
        "  print('안녕')\n",
        "  print('하셈')a=1234\n",
        "if a % 2 == 0:\n",
        "  print('짝수')\n",
        "  print('안녕')\n",
        "  print('하셈')a=1234\n",
        "if a % 2 == 0:\n",
        "  print('짝수')\n",
        "  print('안녕')\n",
        "  print('하셈')a=1234\n",
        "if a % 2 == 0:\n",
        "  print('짝수')\n",
        "  print('안녕')\n",
        "  print('하셈')a=1234\n",
        "if a % 2 == 0:\n",
        "  print('짝수')\n",
        "  print('안녕')\n",
        "  print('하셈')a=1234\n",
        "if a % 2 == 0:\n",
        "  print('짝수')\n",
        "  print('안녕')\n",
        "  print('하셈')a=1234\n",
        "if a % 2 == 0:\n",
        "  print('짝수')\n",
        "  print('안녕')\n",
        "  print('하셈')"
      ]
    },
    {
      "cell_type": "code",
      "execution_count": null,
      "metadata": {
        "id": "QmESB9H-O3ch"
      },
      "outputs": [],
      "source": [
        "# if문을 벗어난 명령문\n"
      ]
    },
    {
      "cell_type": "code",
      "execution_count": null,
      "metadata": {
        "id": "raDMqUQ4-k75",
        "colab": {
          "base_uri": "https://localhost:8080/"
        },
        "outputId": "a59d812a-07fa-461c-83ca-75c03a419f97"
      },
      "outputs": [
        {
          "output_type": "stream",
          "name": "stdout",
          "text": [
            "짝수\n"
          ]
        }
      ],
      "source": [
        "# 홀수와 짝수를 구분해주는 프로그램\n",
        "a=999999999999999999999999999999999999999999999999999999999999999888888888888888888888888888888888888888888888888888888888888887777777777777777777777777777777777777777777777777777777777777777766666543456765432345678654323457890987654345678909865449648679654546796589657676576571468574683546235714685764857896435746385714635746385746531468537425413401605495683548657048416085463854065461352463854685798854163504165419685419056\n",
        "\n",
        "\n",
        "if a%2==0:\n",
        "  print('짝수')\n",
        "if a%2==1:\n",
        "  print('홀수')"
      ]
    },
    {
      "cell_type": "markdown",
      "metadata": {
        "id": "1Q0YkSou0bpX"
      },
      "source": [
        "#if-else를 사용해봅시다."
      ]
    },
    {
      "cell_type": "code",
      "execution_count": null,
      "metadata": {
        "id": "q4Nq2kxm0tkY"
      },
      "outputs": [],
      "source": [
        "#if 구문이 만약 ~라면을 의미했다면 else는 ( 만약 그렇지 않으면, ~이 아니라면 )을 의미합니다.\n",
        "#else 뒤에는 조건을 쓰지 않고 ( 콜론(:) )만 씁니다."
      ]
    },
    {
      "cell_type": "code",
      "execution_count": null,
      "metadata": {
        "id": "5usyMOZdKuRB",
        "colab": {
          "base_uri": "https://localhost:8080/"
        },
        "outputId": "62d27f0b-2fd0-4c54-f1b6-180d349ffb3a"
      },
      "outputs": [
        {
          "output_type": "stream",
          "name": "stdout",
          "text": [
            "짝수\n"
          ]
        }
      ],
      "source": [
        "# if를 여러 개 사용(짝수랑 홀수를 구분해주는 프로그램)\n",
        "a=999999999999999999999999999999999999999999999999999999999999999888888888888888888888888888888888888888888888888888888888888887777777777777777777777777777777777777777777777777777777777777777766666543456765432345678654323457890987654345678909865449648679654546796589657676576571468574683546235714685764857896435746385714635746385746531468537425413401605495683548657048416085463854065461352463854685798854163504165419685419056\n",
        "\n",
        "\n",
        "if a%2==0:\n",
        "  print('짝수')\n",
        "else:\n",
        "  print('홀수')"
      ]
    },
    {
      "cell_type": "code",
      "execution_count": null,
      "metadata": {
        "id": "SU7Wh9f7O3ck"
      },
      "outputs": [],
      "source": [
        "# if~else문\n"
      ]
    },
    {
      "cell_type": "code",
      "execution_count": null,
      "metadata": {
        "id": "vZprm5fXO3ck",
        "colab": {
          "base_uri": "https://localhost:8080/"
        },
        "outputId": "75d9b92d-2804-4b76-8761-0d0ac6ec7eb7"
      },
      "outputs": [
        {
          "name": "stdout",
          "output_type": "stream",
          "text": [
            "숫자입력:53648758794725776\n"
          ]
        },
        {
          "output_type": "execute_result",
          "data": {
            "text/plain": [
              "str"
            ]
          },
          "metadata": {},
          "execution_count": 7
        }
      ],
      "source": [
        "# 숫자 입력, input()은 입력받는 모든 것을 문자로 처리\n",
        "number = input('숫자입력:')\n",
        "type(number)"
      ]
    },
    {
      "cell_type": "code",
      "execution_count": null,
      "metadata": {
        "id": "1CbSSBIa2VZI"
      },
      "outputs": [],
      "source": [
        "# input으로 입력받는 값의 자료형은 (    str     ) 입니다.\n",
        "# 문자를 숫자로 바꾸기위해 자료형 (     int, float      )을 사용해야 합니다."
      ]
    },
    {
      "cell_type": "code",
      "execution_count": null,
      "metadata": {
        "id": "RUR-tAxQ2c7x",
        "colab": {
          "base_uri": "https://localhost:8080/"
        },
        "outputId": "86370d6e-a406-44ed-b278-a3ab4aec9d97"
      },
      "outputs": [
        {
          "output_type": "execute_result",
          "data": {
            "text/plain": [
              "int"
            ]
          },
          "metadata": {},
          "execution_count": 8
        }
      ],
      "source": [
        "#문자를 숫자로 바꾸는 방법\n",
        "number_2 = '3'\n",
        "number_2 = int(number_2)\n",
        "type(number_2)"
      ]
    },
    {
      "cell_type": "code",
      "execution_count": null,
      "metadata": {
        "colab": {
          "background_save": true
        },
        "id": "Q7eAf0MLO3cl",
        "outputId": "4234e6c0-8b11-4b25-94f2-ccde1911effc"
      },
      "outputs": [
        {
          "ename": "KeyboardInterrupt",
          "evalue": "ignored",
          "output_type": "error",
          "traceback": [
            "\u001b[0;31m---------------------------------------------------------------------------\u001b[0m",
            "\u001b[0;31mKeyboardInterrupt\u001b[0m                         Traceback (most recent call last)",
            "\u001b[0;32m<ipython-input-6-ca4fd3f6e7d7>\u001b[0m in \u001b[0;36m<cell line: 2>\u001b[0;34m()\u001b[0m\n\u001b[1;32m      1\u001b[0m \u001b[0;31m# input()함수 사용하여 점수 입력받기\u001b[0m\u001b[0;34m\u001b[0m\u001b[0;34m\u001b[0m\u001b[0m\n\u001b[0;32m----> 2\u001b[0;31m \u001b[0mnumber\u001b[0m \u001b[0;34m=\u001b[0m \u001b[0minput\u001b[0m\u001b[0;34m(\u001b[0m\u001b[0;34m'숫자를 입력하세요.'\u001b[0m\u001b[0;34m)\u001b[0m\u001b[0;34m\u001b[0m\u001b[0;34m\u001b[0m\u001b[0m\n\u001b[0m",
            "\u001b[0;32m/usr/local/lib/python3.10/dist-packages/ipykernel/kernelbase.py\u001b[0m in \u001b[0;36mraw_input\u001b[0;34m(self, prompt)\u001b[0m\n\u001b[1;32m    849\u001b[0m                 \u001b[0;34m\"raw_input was called, but this frontend does not support input requests.\"\u001b[0m\u001b[0;34m\u001b[0m\u001b[0;34m\u001b[0m\u001b[0m\n\u001b[1;32m    850\u001b[0m             )\n\u001b[0;32m--> 851\u001b[0;31m         return self._input_request(str(prompt),\n\u001b[0m\u001b[1;32m    852\u001b[0m             \u001b[0mself\u001b[0m\u001b[0;34m.\u001b[0m\u001b[0m_parent_ident\u001b[0m\u001b[0;34m,\u001b[0m\u001b[0;34m\u001b[0m\u001b[0;34m\u001b[0m\u001b[0m\n\u001b[1;32m    853\u001b[0m             \u001b[0mself\u001b[0m\u001b[0;34m.\u001b[0m\u001b[0m_parent_header\u001b[0m\u001b[0;34m,\u001b[0m\u001b[0;34m\u001b[0m\u001b[0;34m\u001b[0m\u001b[0m\n",
            "\u001b[0;32m/usr/local/lib/python3.10/dist-packages/ipykernel/kernelbase.py\u001b[0m in \u001b[0;36m_input_request\u001b[0;34m(self, prompt, ident, parent, password)\u001b[0m\n\u001b[1;32m    893\u001b[0m             \u001b[0;32mexcept\u001b[0m \u001b[0mKeyboardInterrupt\u001b[0m\u001b[0;34m:\u001b[0m\u001b[0;34m\u001b[0m\u001b[0;34m\u001b[0m\u001b[0m\n\u001b[1;32m    894\u001b[0m                 \u001b[0;31m# re-raise KeyboardInterrupt, to truncate traceback\u001b[0m\u001b[0;34m\u001b[0m\u001b[0;34m\u001b[0m\u001b[0m\n\u001b[0;32m--> 895\u001b[0;31m                 \u001b[0;32mraise\u001b[0m \u001b[0mKeyboardInterrupt\u001b[0m\u001b[0;34m(\u001b[0m\u001b[0;34m\"Interrupted by user\"\u001b[0m\u001b[0;34m)\u001b[0m \u001b[0;32mfrom\u001b[0m \u001b[0;32mNone\u001b[0m\u001b[0;34m\u001b[0m\u001b[0;34m\u001b[0m\u001b[0m\n\u001b[0m\u001b[1;32m    896\u001b[0m             \u001b[0;32mexcept\u001b[0m \u001b[0mException\u001b[0m \u001b[0;32mas\u001b[0m \u001b[0me\u001b[0m\u001b[0;34m:\u001b[0m\u001b[0;34m\u001b[0m\u001b[0;34m\u001b[0m\u001b[0m\n\u001b[1;32m    897\u001b[0m                 \u001b[0mself\u001b[0m\u001b[0;34m.\u001b[0m\u001b[0mlog\u001b[0m\u001b[0;34m.\u001b[0m\u001b[0mwarning\u001b[0m\u001b[0;34m(\u001b[0m\u001b[0;34m\"Invalid Message:\"\u001b[0m\u001b[0;34m,\u001b[0m \u001b[0mexc_info\u001b[0m\u001b[0;34m=\u001b[0m\u001b[0;32mTrue\u001b[0m\u001b[0;34m)\u001b[0m\u001b[0;34m\u001b[0m\u001b[0;34m\u001b[0m\u001b[0m\n",
            "\u001b[0;31mKeyboardInterrupt\u001b[0m: Interrupted by user"
          ]
        }
      ],
      "source": [
        "# input()함수 사용하여 점수 입력받기\n",
        "number = int (input('숫자를 입력하세요.'))"
      ]
    },
    {
      "cell_type": "code",
      "execution_count": null,
      "metadata": {
        "id": "cx4e8frq2n8v",
        "colab": {
          "base_uri": "https://localhost:8080/"
        },
        "outputId": "60f9ec66-0614-4b4c-a7f1-35e9a24848e1"
      },
      "outputs": [
        {
          "output_type": "stream",
          "name": "stdout",
          "text": [
            "숫자를 입력하세요.676373627362736273627323222\n",
            "짝수\n"
          ]
        }
      ],
      "source": [
        "#숫자를 입력하여 짝수 또는 홀수임을 알려주는 프로그램 만들기(else 이용)\n",
        "number = int (input('숫자를 입력하세요.'))\n",
        "if number%2==0:\n",
        "  print('짝수')\n",
        "else:\n",
        "  print('홀수')\n",
        "\n"
      ]
    },
    {
      "cell_type": "code",
      "execution_count": null,
      "metadata": {
        "id": "ZhR0MdlD2woP"
      },
      "outputs": [],
      "source": [
        "# Tip! 한 줄 코드를 두 줄 코드로 바꾸기\n",
        "number = input ('숫자를 입력하세요.')\n",
        "number = int (number)"
      ]
    },
    {
      "cell_type": "code",
      "execution_count": null,
      "metadata": {
        "id": "Rc6LJV6lKuRG",
        "colab": {
          "base_uri": "https://localhost:8080/"
        },
        "outputId": "1b07b220-7f45-4bb0-ef8a-8e67e8afb957"
      },
      "outputs": [
        {
          "output_type": "stream",
          "name": "stdout",
          "text": [
            "점수입력:99\n",
            "A\n"
          ]
        }
      ],
      "source": [
        "# 점수를 입력받아 90점 이상은 A, 80점 이상은 B, 70점 이상은 C, 그 외는 모두 D를 출력\n",
        "# if와 else를 사용해 봅시다.\n",
        "score = int (input('점수입력:'))\n",
        "\n",
        "if score >= 90:\n",
        "  print('A')\n",
        "if 90> score >= 80:\n",
        "  print('B')\n",
        "if 80>score >= 70:\n",
        "  print('C')\n",
        "if 70> score:\n",
        "  print('D')"
      ]
    },
    {
      "cell_type": "code",
      "execution_count": null,
      "metadata": {
        "id": "Y2E_9qvRKuRN"
      },
      "outputs": [],
      "source": [
        "# 90점 이상일 때 A만 출력되고, 80점 이상일 때 B만 출력되고, 70점 이상일 때 C만 출력되게 코드 수정\n",
        "# 힌트 score >= 80 and score < 90\n"
      ]
    },
    {
      "cell_type": "code",
      "execution_count": null,
      "metadata": {
        "id": "gK3W4YIRDAM5"
      },
      "outputs": [],
      "source": []
    },
    {
      "cell_type": "markdown",
      "metadata": {
        "id": "X33P7cYr6fmI"
      },
      "source": [
        "#다중조건문을 사용하는 경우"
      ]
    },
    {
      "cell_type": "code",
      "execution_count": null,
      "metadata": {
        "id": "Npv3m81p6uug"
      },
      "outputs": [],
      "source": [
        "# 만약 ~라면 A를 실행\n",
        "# 아니고 만약 ~라면 B를 실행\n",
        "# 아니면 C를 실행"
      ]
    },
    {
      "cell_type": "markdown",
      "metadata": {
        "id": "1HEFYfh77BCB"
      },
      "source": [
        "#if-elif-else를 알아봅시다."
      ]
    },
    {
      "cell_type": "code",
      "execution_count": null,
      "metadata": {
        "id": "mH7f5EHh7HCP"
      },
      "outputs": [],
      "source": [
        "#조건이 여러 개일 때 if 다음에 elif를 씁니다.\n",
        "#elif는 (   else if    )를 간단하게 줄여 쓴 말로 '아니고 만약'을 뜻합니다.\n",
        "#elif는 (   여러    )개를 쓸 수 있고, elif 조건은 앞에 있는 조건이 (      )인 것을 전제로 합니다.\n",
        "#if와 elif가 모두 (   거짓   )일 때, 실행하는 내용은 (   딘ㄷ   ) 이후에 작성합니다."
      ]
    },
    {
      "cell_type": "markdown",
      "metadata": {
        "id": "tX59p9DC9Ap6"
      },
      "source": [
        "#if-elif-else를 사용해봅시다."
      ]
    },
    {
      "cell_type": "code",
      "execution_count": null,
      "metadata": {
        "id": "PagoP6clKuRU",
        "colab": {
          "base_uri": "https://localhost:8080/"
        },
        "outputId": "bd116ecc-144e-4f6a-e0b9-671a63be30a9"
      },
      "outputs": [
        {
          "output_type": "stream",
          "name": "stdout",
          "text": [
            "나이입력999999999999999999999999999999999999999999999999999999\n",
            "성인\n"
          ]
        }
      ],
      "source": [
        "# 나이에 따라 어린이 청소년, 성인을 구분하는 프로그램 (14세 미만이면 어린이, 14세 이상 20세 미만은 청소년, 아니면 성인)\n",
        "age = int (input('나이입력'))\n",
        "if age < 14:\n",
        "  print('어린이')\n",
        "elif 14<= age <20:\n",
        "  print('청소년')\n",
        "else:\n",
        "  print('성인')"
      ]
    },
    {
      "cell_type": "code",
      "execution_count": null,
      "metadata": {
        "id": "CjJMLTl19PXK",
        "colab": {
          "base_uri": "https://localhost:8080/"
        },
        "outputId": "ff4bb841-8155-4569-9ff8-b600db8fef40"
      },
      "outputs": [
        {
          "output_type": "stream",
          "name": "stdout",
          "text": [
            "1\n",
            "너 수업시간에 뭐한거니!!!!!!!!!!!!!!!!!!!!!!!?????????????????????????????????????????\n"
          ]
        }
      ],
      "source": [
        "#elif를 사용하여 시험 성적에 따라 등급을 나누어주는 프로그램 (90점 이상이면 A, 80점 이상이면 B, 70점 이상이면 C, 70점 미만이면 D)\n",
        "score=int(input())\n",
        "if score==100:\n",
        "  print('축하합니다 S입니다')\n",
        "elif score>=90 and score<100:\n",
        "  print('축하합니다 A입니다')\n",
        "elif score>=80 and score<90:\n",
        "  print('B입니다 아쉽네요')\n",
        "elif score>=70 and score<80:\n",
        "  print('C입니다 노력해 보세요')\n",
        "elif score>=30 and score<70:\n",
        "  print('D입니다 집중하세요')\n",
        "else:\n",
        "  print('너 수업시간에 뭐한거니!!!!!!!!!!!!!!!!!!!!!!!?????????????????????????????????????????')"
      ]
    },
    {
      "cell_type": "markdown",
      "metadata": {
        "id": "x61WzbvR9uRI"
      },
      "source": [
        "✅ 실습 결과 정리"
      ]
    },
    {
      "cell_type": "code",
      "execution_count": null,
      "metadata": {
        "id": "kYqhMX_O91WY"
      },
      "outputs": [],
      "source": [
        "# 조건문이란 (조건이 참인지 거짓인지 판단하는 것)을 의미합니다.\n",
        "\n",
        "#조건문은 조건이 (참일 때) 실행하는 명령어와 (거짓일 때) 실행하는 명령어를 정할 수 있습니다.\n",
        "\n",
        "#조건문을 만들기 위해서 (if)를 쓰고 뒤에 ( 콜론(:) )을 써야 합니다.\n",
        "\n",
        "#조건문을 사용할 때 반드시 (들여쓰기)를 해야하고, 조건이 참(True)일 때, 실행할 문장을 씁니다.\n",
        "\n",
        "#실행할 문장이 여러 줄일 때 (들여쓰기) 간격이 같아야 합니다.\n",
        "\n",
        "#if 구문이 만약 ~라면을 의미했다면 else는 (만약 그렇지 않았다면, ~이 아니라면)을 의미합니다.\n",
        "\n",
        "#else 뒤에는 조건을 쓰지 않고 (     콜론(:)       )만 씁니다.\n",
        "\n",
        "# input으로 입력받는 값의 자료형은 (     문자열    ) 입니다.\n",
        "\n",
        "# 문자를 숫자로 바꾸기위해 자료형 (     int      )을 사용해야 합니다.\n",
        "\n",
        "# 범위를 나타낼 때, and와 or을 사용\n",
        "\n",
        "# 다중조건문\n",
        "\n",
        "# 만약 ~라면 A를 실행 if\n",
        "# 아니고 만약 ~라면 B를 실행 elif\n",
        "# 아니면 C를 실행else\n",
        "\n",
        "#조건이 여러 개일 때 if 다음에 elif를 씁니다.\n",
        "\n",
        "#elif는 (     else if       )를 간단하게 줄여 쓴 말로 '아니고 만약'을 뜻합니다.\n",
        "\n",
        "#elif는 (   여러   )개를 쓸 수 있고, elif 조건은 앞에 있는 조건이 (    else    )인 것을 전제로 합니다.\n",
        "\n",
        "#if와 elif가 모두 (        )일 때, 실행하는 내용은 (        ) 이후에 작성합니다."
      ]
    },
    {
      "cell_type": "markdown",
      "metadata": {
        "id": "XuTFm9xE_B6w"
      },
      "source": [
        "#스스로 문제를 해결해봅시다."
      ]
    },
    {
      "cell_type": "code",
      "execution_count": null,
      "metadata": {
        "id": "VZ7h-C84_FPG",
        "colab": {
          "base_uri": "https://localhost:8080/"
        },
        "outputId": "e0a6790d-b937-4eac-d8b4-119a1bffdf7b"
      },
      "outputs": [
        {
          "output_type": "stream",
          "name": "stdout",
          "text": [
            "참\n"
          ]
        }
      ],
      "source": [
        "# 1. if 뒤에 참인 조건을 써서 ‘참’이라는 결과를 출력해보세요.\n",
        "if 3<5==True\n",
        "  print('참')"
      ]
    },
    {
      "cell_type": "code",
      "execution_count": null,
      "metadata": {
        "id": "0r28TGe5_PCG",
        "colab": {
          "base_uri": "https://localhost:8080/"
        },
        "outputId": "99e1a8e8-721c-4539-b446-1a9762ddf344"
      },
      "outputs": [
        {
          "output_type": "stream",
          "name": "stdout",
          "text": [
            "숫자입력5\n",
            "25\n"
          ]
        }
      ],
      "source": [
        "# 2. 어떤 숫자를 입력하고 입력한 숫자에 5를 곱한 결과를 출력할 수 있는 코드를 완성하세요.\n",
        "a=int(input('숫자입력'))\n",
        "print(a*5)"
      ]
    },
    {
      "cell_type": "code",
      "execution_count": null,
      "metadata": {
        "id": "HbW3v3cu_Tl_",
        "colab": {
          "base_uri": "https://localhost:8080/"
        },
        "outputId": "51be50b3-ae28-4d5b-9094-8ed247d3eab4"
      },
      "outputs": [
        {
          "output_type": "stream",
          "name": "stdout",
          "text": [
            "점수입력:99\n",
            "축 합격!\n"
          ]
        }
      ],
      "source": [
        "# 3. 시험 성적을 입력하여 성적이 60점 이상이면 합격, 그렇지 않으면 불합격을 구분하는 코드를 완성하세요.\n",
        "score=int(input('점수입력:'))\n",
        "if score>=60:\n",
        "  print('축 합격!' )\n",
        "else:\n",
        "  print('불합격')"
      ]
    },
    {
      "cell_type": "code",
      "execution_count": null,
      "metadata": {
        "id": "-kdKNSQP_aey",
        "colab": {
          "base_uri": "https://localhost:8080/"
        },
        "outputId": "c4448993-de81-43fd-f171-4ab49c3d0808"
      },
      "outputs": [
        {
          "output_type": "stream",
          "name": "stdout",
          "text": [
            "age:11\n",
            "초등학생\n"
          ]
        }
      ],
      "source": [
        "# 4. 나이를 입력하면 어린이, 초등학생, 중학생, 고등학생, 성인을 구분해주는 프로그램을 만들어보세요.\n",
        "#    (20세 이상 성인, 17세 ~ 19세는 고등학생, 14세 ~ 16세는 중학생, 8세 ~ 13세는 초등학생, 8세 미만은 어린이)\n",
        "age=int(input('age:'))\n",
        "if age<8:\n",
        "  print('어린이')\n",
        "elif age>=8 and age <14:\n",
        "  print('초등학생')\n",
        "elif age>=14 and age <17:\n",
        "  print('중학생')\n",
        "elif age>=17 and age<20:\n",
        "  print('고등학생')\n",
        "else:\n",
        "  print('성인')"
      ]
    },
    {
      "cell_type": "code",
      "execution_count": null,
      "metadata": {
        "id": "xRa2szQ9_ztI",
        "colab": {
          "base_uri": "https://localhost:8080/"
        },
        "outputId": "f2c34827-6cf4-4012-a28b-4c934bacb2be"
      },
      "outputs": [
        {
          "output_type": "stream",
          "name": "stdout",
          "text": [
            "몸무게 입력(kg):38\n",
            "키를 입력(m):1.4\n",
            "저채중\n"
          ]
        }
      ],
      "source": [
        "# 5. BMI를 자동으로 계산하여 저체중, 정상, 과체중, 비만, 고도비만을 구분할 수 있는 프로그램을 만들어보세요.\n",
        "#    BMI 지수 = 몸무게(kg) ÷ (신장(m) × 신장(m))\n",
        "#    18.5 미만은 저체중, 18.5~22.9는 정상, 23~24.9는 과체중, 25~29.9는 경도비만, 30이상은 고도 비만\n",
        "몸무게=float(input('몸무게 입력(cm):'))*0.01\n",
        "신장=float(input('키를 입력(m):'))\n",
        "bmi=몸무게/신장*신장\n",
        "if bmi>18.5:\n",
        "  print('저채중')\n",
        "elif bmi>=18.5 and bmi<23:\n",
        "  print('정상')\n",
        "elif bmi>=23 and bmi<25:\n",
        "  print('과채중')\n",
        "elif bmi>=25 and bmi<30:\n",
        "  print('경도비만')\n",
        "else:\n",
        "  print('고도비만')"
      ]
    },
    {
      "cell_type": "code",
      "execution_count": null,
      "metadata": {
        "id": "Cfv1qOcRAFj4",
        "colab": {
          "base_uri": "https://localhost:8080/"
        },
        "outputId": "0d2a066c-e824-4d82-9bbd-6fd09cfdbcc4"
      },
      "outputs": [
        {
          "output_type": "stream",
          "name": "stdout",
          "text": [
            "90\n",
            "95\n",
            "100\n",
            "75\n",
            "합격\n"
          ]
        }
      ],
      "source": [
        "# 6. 국어, 수학, 사회, 과학 4개의 과목 평균이 60점 이상이어야 시험에 합격할 수 있습니다. 하지만 4개 과목 중 하나라도 40점 미만이라면 무조건 불합격입니다. 합격 또는 불합격 여부를 알려주는 프로그램을 만들어보세요.\n",
        "#    합격 = 평균 60점 이상\n",
        "#    불합격 = 4개 과목 중 1개 과목이라도 40점 미만이거나 또는 평균이 60점 미만일 경우\n",
        "#    (이 문제는 심화 문제입니다. 풀 수 있는 친구들은 스스로 해보고 나중에 선생님이 따로 정답은 알려주도록 하겠습니다.)\n"
      ]
    }
  ],
  "metadata": {
    "colab": {
      "collapsed_sections": [
        "2IL6zZsAXBOw"
      ],
      "provenance": [],
      "gpuType": "T4",
      "include_colab_link": true
    },
    "kernelspec": {
      "display_name": "Python 3",
      "name": "python3"
    },
    "language_info": {
      "codemirror_mode": {
        "name": "ipython",
        "version": 3
      },
      "file_extension": ".py",
      "mimetype": "text/x-python",
      "name": "python",
      "nbconvert_exporter": "python",
      "pygments_lexer": "ipython3",
      "version": "3.8.3"
    }
  },
  "nbformat": 4,
  "nbformat_minor": 0
}