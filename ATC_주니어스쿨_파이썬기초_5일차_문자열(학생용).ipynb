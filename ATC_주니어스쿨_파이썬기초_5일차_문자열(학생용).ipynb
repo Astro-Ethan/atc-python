{
  "cells": [
    {
      "cell_type": "markdown",
      "metadata": {
        "id": "view-in-github",
        "colab_type": "text"
      },
      "source": [
        "<a href=\"https://colab.research.google.com/github/Astro-Ethan/atc-python/blob/main/ATC_%EC%A3%BC%EB%8B%88%EC%96%B4%EC%8A%A4%EC%BF%A8_%ED%8C%8C%EC%9D%B4%EC%8D%AC%EA%B8%B0%EC%B4%88_5%EC%9D%BC%EC%B0%A8_%EB%AC%B8%EC%9E%90%EC%97%B4(%ED%95%99%EC%83%9D%EC%9A%A9).ipynb\" target=\"_parent\"><img src=\"https://colab.research.google.com/assets/colab-badge.svg\" alt=\"Open In Colab\"/></a>"
      ]
    },
    {
      "cell_type": "markdown",
      "source": [],
      "metadata": {
        "id": "9PTgAUfseXa-"
      }
    },
    {
      "cell_type": "code",
      "source": [
        "# 리스트란 (                                             )\n",
        "# 리스트는 여러 자료를 그룹으로 묶어 다뤄야 할 때 많이 활용됩니다.\n",
        "\n",
        "# 리스트를 만들기 위해서는 먼저 리스트의 (    )을 정해야 합니다.\n",
        "# 리스트에 넣고자 하는 (     )들을 리스트에 넣어야 합니다.\n",
        "# 리스트를 코딩하는 방법은 (                          )을 활용하면 됩니다.\n",
        "\n",
        "# 인덱싱이란 (                            )를 말합니다.\n",
        "# 리스트의 가장 맨 처음 데이터의 인덱싱은 ( )입니다.\n",
        "# 그 다음부터 순서대로 인덱싱이 ( )씩 커지게 됩니다.\n",
        "# 만약 가장 뒤에서부터 순서대로 인덱싱을 활용하겠다면 가장 뒤에 있는 데이터의 인덱싱 번호를(  )로 합니다.\n",
        "# 맨 뒤에서 순서대로 앞으로(   )씩 계산합니다. ex. -1(맨 마지막), -2(맨 뒤에서 2번째)\n",
        "\n",
        "# 리스트 안에 있는 데이터의 범위 일부를 표현하는 방법을 (       )이라고 합니다.\n",
        "# 슬라이싱을 하는 방법은 (                                                     )\n",
        "\n",
        "# 리스트 안에 들어있는 데이터의 개수를 알아보기 위해서는 (          )을 입력하면 됩니다."
      ],
      "metadata": {
        "id": "hHojIFvIduS1"
      },
      "execution_count": null,
      "outputs": []
    },
    {
      "cell_type": "markdown",
      "metadata": {
        "id": "78Ocmv-uqJqF"
      },
      "source": [
        "## 문자열\n",
        "- string, str()\n",
        "- 문자를 큰따옴표 \"  \" 또는 작은따옴표 '  '를 사용하여 표현\n",
        "- 인덱싱, 슬라이싱, +와 * 연산, in, len()을 list와 같은 방식으로 사용"
      ]
    },
    {
      "cell_type": "code",
      "source": [
        "# 문자열이란 (                 )을 의미\n",
        "# \"Hello python\", \"안녕하세요\", \"String\"과 같이 (  )와 상관없이 (     )로 둘러싸서 입력한 모든 것을 뜻함\n",
        "\n",
        "# 변수 a에 'Hello python'이라는 문자열을 값으로 넣기\n",
        "a=\"Hello python\"\n",
        "\n",
        "# (type())함수를 이용하여 자료의 유형이 문자열 (string)을 의미하는 (    )로 출력되는지 확인\n",
        "\n",
        "# a= 100과 a='100'의 차이\n"
      ],
      "metadata": {
        "id": "pJPo4983hxVS"
      },
      "execution_count": null,
      "outputs": []
    },
    {
      "cell_type": "markdown",
      "source": [],
      "metadata": {
        "id": "opnhS85H-Ae8"
      }
    },
    {
      "cell_type": "code",
      "source": [
        "# 문자열은 문자들을 (           ) 또는 (             )로 감싸서 만듦\n",
        "\n",
        "# spring 출력\n",
        "\n",
        "# 좋아하는 음식 출력\n",
        "\n",
        "# 문자열을 만드는 것이 가능한지 확인\n",
        "#‘1’ 와 같이 숫자를 넣어 문자열을 만들 수 있다. <  >\n",
        "#‘a’ 와 같이 문자를 하나 넣어 문자열을 만들 수 있다.  <  >\n",
        "#“ ”와 같이 공백을 입력해도 문자열을 만들 수 있다.  <  >\n",
        "#“/@#$”와 같이 특수문자를 넣어 문자열을 만들 수 있다.  <  >\n",
        "#“ㄹㅇㄹㅇㄹ”와 같이 한글을 넣어 문자열을 만들 수 있다.  <  >"
      ],
      "metadata": {
        "id": "BJL6FI49igH5"
      },
      "execution_count": null,
      "outputs": []
    },
    {
      "cell_type": "code",
      "source": [
        "# 문자열 내부에 따옴표 넣기\n",
        "\n",
        "# 큰따옴표를 내부에 넣고 싶을 때는 (           )로 문자열을 감싸서 만듦\n",
        "\n",
        "\n",
        "\n",
        "# 작은따옴표를 내부에 넣고 싶을 때는 (         )로 문자열을 감싸서 만듦\n"
      ],
      "metadata": {
        "id": "SPm1iJTPjIb5"
      },
      "execution_count": null,
      "outputs": []
    },
    {
      "cell_type": "code",
      "source": [
        "# 이스케이프 문자란 (           ) 기호와 함께 조합하여 사용하는 특수한 문자를 의미\n",
        "# 이스케이프 문자를 사용하면 큰따옴표 내부에 큰따옴표를 넣고, 작은따옴표 내부에 작은따옴표를 넣을 수 있음\n",
        "\n",
        "# ＼\" : (          )를 의미\n",
        "# ＼' : (          )를 의미\n",
        "\n",
        "# \"안녕하세요\"라고 말했습니다. 출력\n",
        "\n",
        "#'밥 먹으러 갈까?'라고 말했습니다. 출력\n"
      ],
      "metadata": {
        "id": "UwCsw60fwLRy"
      },
      "execution_count": null,
      "outputs": []
    },
    {
      "cell_type": "code",
      "source": [
        "# ＼n : (                )를 의미\n",
        "# 문자열\n",
        "# 딕셔너리\n",
        "# 집합    처럼 줄을 바꿔 출력하기\n",
        "\n",
        "\n",
        "# ＼t : (             )를 의미\n",
        "# 이름    나이    사는 곳  출력\n"
      ],
      "metadata": {
        "id": "i9wPS3sCxY1J"
      },
      "execution_count": null,
      "outputs": []
    },
    {
      "cell_type": "code",
      "source": [
        "#복잡한 웹주소 프린트 - 역슬래시 활용 줄바꿈\n"
      ],
      "metadata": {
        "id": "KrtY9EmNyZcU"
      },
      "execution_count": null,
      "outputs": []
    },
    {
      "cell_type": "markdown",
      "source": [
        "위에꺼는 한문장이라서 한문장 출력\n",
        "\n",
        "밑에줄은 줄바꿔있어서 2문장으로 출력"
      ],
      "metadata": {
        "id": "uBWFRGS1kIbS"
      }
    },
    {
      "cell_type": "code",
      "source": [
        "# 여러 줄 문자열 만들기\n",
        "# 큰따옴표 (    )개를 연속 (            )으로 써서 양쪽을 둘러싸거나 작은 따옴표 (                     )으로 써서 양쪽을 둘러싸서 입력하면 따옴표 안에 있는 내용을 그대로 출력\n",
        "\n",
        "# 따옴표 3개 실습\n"
      ],
      "metadata": {
        "id": "gPGizE1lymuO"
      },
      "execution_count": null,
      "outputs": []
    },
    {
      "cell_type": "code",
      "source": [
        "\"\"\"\n",
        "여러 줄에 걸쳐 주석처리 할 때\n",
        "이렇게 써도 괜찮아요.\n",
        "이것도 샵이랑 비슷해요.\n",
        "\"\"\""
      ],
      "metadata": {
        "id": "rhW41Erx3oMo",
        "colab": {
          "base_uri": "https://localhost:8080/",
          "height": 35
        },
        "outputId": "76dc42f4-3fe2-4f66-f3f5-50dfe0367cf0"
      },
      "execution_count": null,
      "outputs": [
        {
          "output_type": "execute_result",
          "data": {
            "text/plain": [
              "'\\n여러 줄에 걸쳐 주석처리 할 때\\n이렇게 써도 괜찮아요.\\n이것도 샵이랑 비슷해요.\\n'"
            ],
            "application/vnd.google.colaboratory.intrinsic+json": {
              "type": "string"
            }
          },
          "metadata": {},
          "execution_count": 4
        }
      ]
    },
    {
      "cell_type": "markdown",
      "source": [
        "두개의 문자가 합쳐져서 출력됨 ( 많이 사용은 안함)"
      ],
      "metadata": {
        "id": "FL7g8dEFkYa9"
      }
    },
    {
      "cell_type": "code",
      "source": [
        "# print()함수에서 end=''를 사용하면 줄바꿈 없이 출력\n"
      ],
      "metadata": {
        "id": "f1SHY6t23rvZ"
      },
      "execution_count": null,
      "outputs": []
    },
    {
      "cell_type": "markdown",
      "source": [
        "여기까지 1교시 ( 50분 수업)"
      ],
      "metadata": {
        "id": "yLCKiYNDkhzo"
      }
    },
    {
      "cell_type": "markdown",
      "source": [
        "##문자열 연산자\n",
        "- [  ]   문자열 선택 연산자(인덱싱)\n",
        "- [:]   문자열 범위 연산자(슬라이싱)\n",
        "-  '+' 문자열 연결 연산자\n",
        "-  '*' 문자열 반복 연산자\n",
        "\n",
        "in -> 문자열 내부에 어떤 문자열이 있는지 확인\n",
        "\n",
        "len () 문자열의 길이를 구할 때 사용하는 함수\n",
        "\n",
        "dir(str) 문자열에 내장되어 있는 함수를 확인"
      ],
      "metadata": {
        "id": "j1vvd_zxUyXZ"
      }
    },
    {
      "cell_type": "code",
      "source": [
        "# 문자형 확인\n"
      ],
      "metadata": {
        "id": "8bgj16R2vfd-"
      },
      "execution_count": null,
      "outputs": []
    },
    {
      "cell_type": "code",
      "execution_count": null,
      "metadata": {
        "id": "_n5E-gB7qJqH"
      },
      "outputs": [],
      "source": [
        "# 문자열 선택 연산자 (      )은 문자열 내부의 문자 (    )를 선택하는 연산자\n",
        "# 대괄호 [] 안에는 선택할 문자의 (     )를 지정하며 이 숫자를 (      )라고 함\n",
        "# 문자열 선택 연산자의 인덱싱 방법은 (        )의 인덱싱 방법과 동일\n",
        "# 문자열의 위치를 셀 때 (  )부터 세며, 다음 글자는 (   )씩 증가\n",
        "# 문자열 love 에서 두 번째를 나타내는 글자는? (    )\n",
        "\n",
        "BlackPink = \"Black Pink\"\n",
        "#인덱싱 (알파벳 l을 줄력)\n",
        "\n",
        "# P를 출력해봅시다.\n",
        "\n",
        "\n",
        "#[5]를 입력하면?\n"
      ]
    },
    {
      "cell_type": "code",
      "execution_count": null,
      "metadata": {
        "id": "f1NXxN_OqJqM"
      },
      "outputs": [],
      "source": [
        "# 문자열 범위 선택 연산자 (        )은 문자열의 (         )를 선택하는 연산자\n",
        "# 문자열 범위를 선택할 때 마지막 숫자를 포함하지 않으므로 (               ) 입력\n",
        "# 뒤의 값을 생략할 때는 (          )까지 출력하고, 앞의 값을 생략할 때는 (           )까지 출력\n",
        "BlackPink = \"Black Pink\"\n",
        "# 슬라이싱 -'ack'- 만 출력\n",
        "\n",
        "# 슬라이싱 - 'Pink'만 출력\n",
        "\n",
        "# 슬라이싱 'Black'-만 출력\n"
      ]
    },
    {
      "cell_type": "code",
      "execution_count": null,
      "metadata": {
        "id": "HZ4YoijgqJqV"
      },
      "outputs": [],
      "source": [
        "# 문자열 더하기는 이어붙이기\n",
        "# 문자열은 (   )기호로 문자열을 (    )할 수 있음\n",
        "# print()함수와 +를 이용할 때는 (                 )로 문자열 연결\n",
        "\n",
        "# Black PinkLove 출력\n",
        "\n",
        "# Black Pink Love 출력 (한 칸 띄우기 위해서 어떻게 해야 할까요?)"
      ]
    },
    {
      "cell_type": "code",
      "execution_count": null,
      "metadata": {
        "id": "WxfCxGIVqJqZ"
      },
      "outputs": [],
      "source": [
        "# 문자열은 (   )기호로 문자열을 (     )할 수 있음\n",
        "# 곱한 수만큼 반복\n",
        "# (              ) 또는 (              )로 연산자 입력\n",
        "\n",
        "# *를 20개 표현\n",
        "\n",
        "# 감사합니다를 세 번 출력\n",
        "\n",
        "# print() 함수와 +를 이용할 때는 (                                )로 문자열 연결\n",
        "\n",
        "# Black PinkLove 출력\n",
        "\n",
        "# Black Pink Love 출력 (한 칸 띄우기 위해서 어떻게 해야 할까요?)\n"
      ]
    },
    {
      "cell_type": "code",
      "execution_count": null,
      "metadata": {
        "id": "DbLtRFBVqJqd"
      },
      "outputs": [],
      "source": [
        "# 문자열의 길이를 구할 때는 (      )함수를 이용, (     )까지 포함\n",
        "# 함수 괄호 안에 문자열을 넣으면 문자의 (    ) (               )를 구함\n",
        "# BlackPink 길이는?\n",
        "\n",
        "# 감사합니다의 문자열 길이"
      ]
    },
    {
      "cell_type": "code",
      "execution_count": null,
      "metadata": {
        "id": "hqFmEYMTqJqh"
      },
      "outputs": [],
      "source": [
        "# 문자열 내부에 어떤 문자열이 있는지 확인하려면 (         )를 사용\n",
        "# 출력은 (       ) 또는 (       )로 나오며, 영어에서 대문자와 소문자는 다른 문자로 인식\n",
        "BlackPink = \"Black Pink\"\n",
        "# BlakcPink 문자에 B가 포함되어있는지?\n",
        "\n",
        "# BlakcPink 문자에 p가 포함되어있는지?\n",
        "\n",
        "# 감사합니다에서 감사를 포함하는지?\n"
      ]
    },
    {
      "cell_type": "code",
      "source": [
        "# 쉼표는 기본 한 칸 띄기로 인식\n",
        "# BlackPink = \"Black Pink\"라고 변수를 지정했을 때, 쉼표를 사용하여 Black Pink Love 출력\n",
        "# 변수와 쓸 때는 쉼표로 하기"
      ],
      "metadata": {
        "id": "4PnQDzrDbsfq"
      },
      "execution_count": null,
      "outputs": []
    },
    {
      "cell_type": "code",
      "source": [
        "# 문자열 메소드(함수) 확인하려면 (         )를 사용\n",
        "\n",
        "# 함수 사용 예시\n"
      ],
      "metadata": {
        "id": "FkaFzBtZ5QAA"
      },
      "execution_count": null,
      "outputs": []
    },
    {
      "cell_type": "markdown",
      "source": [
        "문자열 내장함수\n",
        "\n",
        "'capitalize',  'casefold',  'center',  'count',  'encode',  'endswith',  'expandtabs', 'find',  'format',  'format_map',  'index',  'isalnum',  'isalpha',  'isascii', 'isdecimal',  'isdigit',  'isidentifier',  'islower',  'isnumeric',  'isprintable', 'isspace',  'istitle',  'isupper',  'join',  'ljust',  'lower',  'lstrip',  'maketrans', 'partition',  'replace',  'rfind',  'rindex',  'rjust',  'rpartition',  'rsplit',  'rstrip', 'split',  'splitlines',  'startswith',  'strip',  'swapcase',  'title',  'translate', 'upper', 'zfill'"
      ],
      "metadata": {
        "id": "8HydVgHOQE2D"
      }
    },
    {
      "cell_type": "code",
      "source": [
        "# 자동 완성 기능이 있는 경우 문자열을 입력하고 문자열 뒤에 (         )를 입력하면 문자열에서만 쓸 수 있는 함수(메소드) 작성 가능"
      ],
      "metadata": {
        "id": "XBlTPUU1QNZx"
      },
      "execution_count": null,
      "outputs": []
    },
    {
      "cell_type": "code",
      "source": [
        "# 문자열 개수를 세기 위해서 (         ) 사용\n"
      ],
      "metadata": {
        "id": "XbooHwHFQpQx"
      },
      "execution_count": null,
      "outputs": []
    },
    {
      "cell_type": "code",
      "source": [
        "# 문자열 위치를 찾기 위해서 (     ), (       ) 사용\n",
        "\n",
        "#만약에 찾는 문자가 없으면 find,없는 경우에 대한 대처를 하고자 할때는 index\n",
        "B=\"Ladies and Gentlemen, welcome to Python world\"\n"
      ],
      "metadata": {
        "id": "FmenJFSOQ2X0"
      },
      "execution_count": null,
      "outputs": []
    },
    {
      "cell_type": "code",
      "source": [
        "# 문자열 오른쪽 정렬 (       )\n",
        "\n",
        "# 문자열 가운데 정렬 (        )\n",
        "\n",
        "# 문자열 왼쪽 정렬 (      )"
      ],
      "metadata": {
        "id": "lv9lNYd2Q__l"
      },
      "execution_count": null,
      "outputs": []
    },
    {
      "cell_type": "code",
      "source": [
        "# 숫자를 입력하고 다음 인수로 문자를 입력하면 빈칸을 다른 문자로 채울 수 있음"
      ],
      "metadata": {
        "id": "VUhBuTsIrZoI"
      },
      "execution_count": null,
      "outputs": []
    },
    {
      "cell_type": "markdown",
      "source": [],
      "metadata": {
        "id": "BqazKRF3Q_3M"
      }
    },
    {
      "cell_type": "markdown",
      "source": [
        "## 학습 정리"
      ],
      "metadata": {
        "id": "09mJKp7V6p7v"
      }
    },
    {
      "cell_type": "code",
      "source": [
        "# 문자열이란 (                      )을 의미\n",
        "# \"Hello python\", \"안녕하세요\", \"String\"과 같이 (      )와 상관없이 (       )로 둘러싸서 입력한 모든 것을 뜻함\n",
        "# (     )함수를 이용하여 자료의 유형이 문자열 (        )을 의미하는 (    )로 출력되는지 확인\n",
        "\n",
        "# 문자열은 문자들을 (          ) 또는 (            )로 감싸서 만듦\n",
        "\n",
        "# 큰따옴표를 내부에 넣고 싶을 때는 (          )로 문자열을 감싸서 만듦\n",
        "# 작은따옴표를 내부에 넣고 싶을 때는 (          )로 문자열을 감싸서 만듦\n",
        "\n",
        "# 이스케이프 문자란 (          ) 기호와 함께 조합하여 사용하는 특수한 문자를 의미\n",
        "# 이스케이프 문자를 사용하면 큰따옴표 내부에 큰따옴표를 넣고, 작은따옴표 내부에 작은따옴표를 넣을 수 있음\n",
        "\n",
        "# ＼\" : (         )를 의미\n",
        "# ＼' : (         )를 의미\n",
        "# ＼n : (                 )를 의미\n",
        "# ＼t : (              )를 의미\n",
        "\n",
        "# 여러 줄 문자열 만들기\n",
        "# 큰따옴표 (  )개를 연속 (         )으로 써서 양쪽을 둘러싸거나 작은 따옴표 (  )개를 연속 (         )으로 써서 양쪽을 둘러싸서 입력하면 따옴표 안에 있는 내용을 그대로 출력\n",
        "\n",
        "# 문자열 선택 연산자 (         )은 문자열 내부의 문자 (         )를 선택하는 연산자\n",
        "# 대괄호 [] 안에는 선택할 문자의 (           )를 지정하며 이 숫자를 (          )라고 함\n",
        "# 문자열 선택 연산자의 인덱싱 방법은 (         )의 인덱싱 방법과 동일\n",
        "# 문자열의 위치를 셀 때 (  )부터 세며, 다음 글자는 (  )씩 증가\n",
        "# 문자열 love 에서 두 번째를 나타내는 글자는? (   )\n",
        "\n",
        "# 문자열 범위 선택 연산자 (         )은 문자열의 (         )를 선택하는 연산자\n",
        "# 문자열 범위를 선택할 때 마지막 숫자를 포함하지 않으므로 (                   ) 입력\n",
        "# 뒤의 값을 생략할 때는 (          )까지 출력하고, 앞의 값을 생략할 때는 (          )까지 출력\n",
        "\n",
        "# 문자열 더하기는 이어붙이기\n",
        "# 문자열은 ( )기호로 문자열을 (         )할 수 있음\n",
        "# print()함수와 +를 이용할 때는 (                   )(                    )로 문자열 연결\n",
        "\n",
        "# 문자열은 ( )기호로 문자열을 (    )할 수 있음\n",
        "# 곱한 수만큼 반복\n",
        "# (            ) 또는 (            )로 연산자 입력\n",
        "\n",
        "# 문자열의 길이를 구할 때는 (      )함수를 이용, (     )까지 포함\n",
        "# 함수 괄호 안에 문자열을 넣으면 문자의 (     ) (            )를 구함\n",
        "\n",
        "# 문자열 내부에 어떤 문자열이 있는지 확인하려면 (         )를 사용\n",
        "# 출력은 (      ) 또는 (          )로 나오며, 영어에서 대문자와 소문자는 다른 문자로 인식\n",
        "\n",
        "# 문자열 메소드(함수) 확인하려면 (            )를 사용\n",
        "\n",
        "# 자동 완성 기능이 있는 경우 문자열을 입력하고 문자열 뒤에 (           )를 입력하면 문자열에서만 쓸 수 있는 함수(메소드) 작성 가능\n",
        "\n",
        "# 문자열 개수를 세기 위해서 (          ) 사용\n",
        "\n",
        "# 문자열 위치를 찾기 위해서 (         ), (         ) 사용\n",
        "\n",
        "# 문자열 오른쪽 정렬 (         )\n",
        "\n",
        "# 문자열 가운데 정렬 (         )\n",
        "\n",
        "# 문자열 왼쪽 정렬 (         )"
      ],
      "metadata": {
        "id": "42JXP0XD6stN"
      },
      "execution_count": null,
      "outputs": []
    }
  ],
  "metadata": {
    "colab": {
      "provenance": [],
      "gpuType": "T4",
      "include_colab_link": true
    },
    "kernelspec": {
      "display_name": "Python 3",
      "language": "python",
      "name": "python3"
    },
    "language_info": {
      "codemirror_mode": {
        "name": "ipython",
        "version": 3
      },
      "file_extension": ".py",
      "mimetype": "text/x-python",
      "name": "python",
      "nbconvert_exporter": "python",
      "pygments_lexer": "ipython3",
      "version": "3.8.3"
    },
    "accelerator": "GPU",
    "gpuClass": "standard"
  },
  "nbformat": 4,
  "nbformat_minor": 0
}