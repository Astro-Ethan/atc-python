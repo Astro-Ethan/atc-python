{
  "cells": [
    {
      "cell_type": "markdown",
      "metadata": {
        "id": "view-in-github",
        "colab_type": "text"
      },
      "source": [
        "<a href=\"https://colab.research.google.com/github/Astro-Ethan/atc-python/blob/main/ATC_%EC%A3%BC%EB%8B%88%EC%96%B4%EC%8A%A4%EC%BF%A8_%ED%8C%8C%EC%9D%B4%EC%8D%AC%EA%B8%B0%EC%B4%88_6%EC%9D%BC%EC%B0%A8_%EB%94%95%EC%85%94%EB%84%88%EB%A6%AC%EC%99%80_%EC%A7%91%ED%95%A9_(%ED%95%99%EC%83%9D%EC%9A%A9)%EC%9D%98_%EC%82%AC%EB%B3%B8.ipynb\" target=\"_parent\"><img src=\"https://colab.research.google.com/assets/colab-badge.svg\" alt=\"Open In Colab\"/></a>"
      ]
    },
    {
      "cell_type": "markdown",
      "metadata": {
        "id": "78Ocmv-uqJqF"
      },
      "source": [
        "## 문자열(복습)\n",
        "- string, str()\n",
        "- 문자를 큰따옴표 \"  \" 또는 작은따옴표 '  '를 사용하여 표현\n",
        "- 인덱싱, 슬라이싱, +와 * 연산, in, len()을 list와 같은 방식으로 사용"
      ]
    },
    {
      "cell_type": "markdown",
      "metadata": {
        "id": "_k2dw5G8aE18"
      },
      "source": [
        "#### 역슬래시\\(이스케이프문자)를 이용한 출력문 실습\n",
        "\n",
        "- 역슬래시\\ 뒤에 n : 한 줄 띄기\n",
        "- 역슬래시\\ 뒤에 t : 4칸 띄기\n",
        "- 역슬래시 : 줄바꿈\n",
        "\n",
        "#### 따옴표 출력\n",
        "- 큰 따옴표는 작은 따옴표로 감싸고\n",
        "- 작은 따옴표는 큰 따옴표로 감싸준다.\n",
        "\n",
        "#### 따옴표 3개\n",
        "- 따옴표 3개 안에 있는 문자들을 있는 그대로 출력\n"
      ]
    },
    {
      "cell_type": "markdown",
      "source": [
        "##문자열 연산자(복습)\n",
        "- [  ]   문자열 선택 연산자(인덱싱)\n",
        "- [:]   문자열 범위 연산자(슬라이싱)\n",
        "-  '+' 문자열 연결 연산자\n",
        "-  '*' 문자열 반복 연산자\n",
        "\n",
        "in -> 문자열 내부에 어떤 문자열이 있는지 확인\n",
        "\n",
        "len () 문자열의 길이를 구할 때 사용하는 함수\n",
        "\n",
        "dir(str) 문자열에 내장되어 있는 함수를 확인"
      ],
      "metadata": {
        "id": "j1vvd_zxUyXZ"
      }
    },
    {
      "cell_type": "code",
      "source": [
        "# 문자열 메소드 ( 함수 )를 확인하려면 (  )를 사용\n",
        "\n"
      ],
      "metadata": {
        "id": "96UlstnqroN-"
      },
      "execution_count": null,
      "outputs": []
    },
    {
      "cell_type": "markdown",
      "source": [
        "##문자열 관련 함수\n",
        "dir(str) 문자열에 내장되어 있는 함수를 확인\n",
        "\n",
        "- count() 문자열 개수 세기\n",
        "- find(), index() 해당 문자가 처음 나온 위치 반환(문자열 위치 찾기)\n",
        "- rfind(), rindex() 해당 문자를 오른쪽부터 위치 반환\n",
        "- rjust() 문자열 오른쪽 정렬\n",
        "- center() 문자열 가운데 정렬\n",
        "- ljust() 문자열 왼쪽 정렬\n",
        "- lower(), upper()   문자의 알파벳을 소문자 또는 대문자로 변경\n",
        "- split()   문자열을 특정한 문자로 자를 때 사용\n",
        "- join() 리스트 안의 요소를 문자열로 바꿔줌\n",
        "- strip() 문자열 양 옆의 공백을 제거함\n",
        "- replace() 문자열 안의 특정한 값을 다른 값으로 바꿔줌"
      ],
      "metadata": {
        "id": "PZjMmQLfrenl"
      }
    },
    {
      "cell_type": "markdown",
      "metadata": {
        "id": "HgmliF_cuSVC"
      },
      "source": [
        "#### 문자열 주요 함수 실습  \n",
        "lower()와 upper()"
      ]
    },
    {
      "cell_type": "code",
      "execution_count": null,
      "metadata": {
        "id": "_piRHpxauSVD"
      },
      "outputs": [],
      "source": [
        "#lower() 함수는 문자열을 (     )로 만들어준다.\n",
        "# [실습] \"Happy Birth Day to You\"를 모두 소문자로 바꾸는 코드를 작성하고 실행해 보세요.\n",
        "\n"
      ]
    },
    {
      "cell_type": "code",
      "execution_count": null,
      "metadata": {
        "id": "9lxNSshCuSVE"
      },
      "outputs": [],
      "source": [
        "#upper() 함수는 문자열을 (     )로 만들어준다.\n",
        "# [실습] \"Happy Birth Day to You\"를 모두 대문자로 바꾸는 코드를 작성하고 실행해 보세요.\n",
        "\n"
      ]
    },
    {
      "cell_type": "code",
      "execution_count": null,
      "metadata": {
        "id": "mpUAUHRIwkP7"
      },
      "outputs": [],
      "source": [
        "# 변수 a를 만들고 저장된 문자열의 알파벳을 대문자 또는 소문자로 바꾸기\n",
        "# [실습]  변수 a에 \"Junior School\"를 저장하고 모두 대문자로 바꾸는 코드를 작성하고 실행해 보세요.\n",
        "\n"
      ]
    },
    {
      "cell_type": "code",
      "source": [
        "# [실습]  변수 a에 \"Junior School\"를 저장하고 모두 소문자로 바꾸는 코드를 작성하고 실행해 보세요.\n",
        "\n"
      ],
      "metadata": {
        "id": "iMobar1wffEK"
      },
      "execution_count": null,
      "outputs": []
    },
    {
      "cell_type": "markdown",
      "metadata": {
        "id": "Sw-wzjnVixBs"
      },
      "source": [
        "#### split()와 join()"
      ]
    },
    {
      "cell_type": "code",
      "execution_count": null,
      "metadata": {
        "id": "Jf5BVeekqJqx"
      },
      "outputs": [],
      "source": [
        "# split() 함수는 문자열을 특정한 문자로 (    ) 사용함\n",
        "# split() 함수는 단어(띄어쓰기) 단위로 나누어  (    ) 로 반환함\n",
        "# split() 함수는 split()처럼 괄호 안에 아무 값도 넣어 주지 않으면  (    )을 기준으로 문자열을 나눠줌\n",
        "# [실습]  str1 = \"Hello world\" 일 때 문자열을 공백을 기준으로 자르는 코드를 작성해보세요.\n",
        "\n"
      ]
    },
    {
      "cell_type": "code",
      "source": [
        "# split 함수의 괄호 안에 띄어쓰기의 기준이 되는 (    )를 넣어줄 수 있다.\n",
        "# [실습] BirthDay = \"2023/11/04\" 일 때 연, 월, 일을 자르는 코드를 작성해보세요.\n",
        "\n"
      ],
      "metadata": {
        "id": "HCV_ea0X3b8_"
      },
      "execution_count": null,
      "outputs": []
    },
    {
      "cell_type": "code",
      "execution_count": null,
      "metadata": {
        "id": "dFQKZv4yqJq0"
      },
      "outputs": [],
      "source": [
        "# [실습] BirthDay에서 태어난 년도만 변수 BirthYear에 저장하세요.\n",
        "# (힌트) 리스트의 인덱싱을 활용!\n",
        "\n"
      ]
    },
    {
      "cell_type": "code",
      "execution_count": null,
      "metadata": {
        "id": "1gwZRN_TuSVG"
      },
      "outputs": [],
      "source": [
        "# join()함수는 (    ) 과 같이 사용하여 리스트 안의 요소를 (    )로 바꿔준다.\n",
        "# 하이픈이 들어있는 전화번호를 함수를 이용하여 숫자만 있는 전화번호로 바꿔 봅시다.\n",
        "# [실습] PhoneNumber = \"010-1234-5678\" 일 때 '–'을 기준으로 자르는 코드를 작성하세요.\n",
        "\n"
      ]
    },
    {
      "cell_type": "code",
      "source": [
        "# [실습] join 함수를 이용하여 핸드폰 번호를 공백없이 입력하는 코드를 작성하세요.\n",
        "\n"
      ],
      "metadata": {
        "id": "OXs6nKua5U0P"
      },
      "execution_count": null,
      "outputs": []
    },
    {
      "cell_type": "markdown",
      "metadata": {
        "id": "YdaxAxAZiovv"
      },
      "source": [
        "#### strip()과 replace()"
      ]
    },
    {
      "cell_type": "code",
      "execution_count": null,
      "metadata": {
        "id": "-OavmF4NuSVH"
      },
      "outputs": [],
      "source": [
        "# strip( ) 함수는 문자열 (    )의 공백을 제거합니다.\n",
        "# [실습] price = \"     $32000  \" 일 때 문자열 (    )의 공백을 제거하는 코드를 작성해보세요.\n",
        "\n"
      ]
    },
    {
      "cell_type": "code",
      "source": [
        "#lstrip( ) 함수는 문자열 (    )의 공백을 제거합니다.\n",
        "# [실습] price = \"     $32000  \" 일 때 문자열 (    )의 공백을 제거하는 코드를 작성해보세요.\n",
        "\n"
      ],
      "metadata": {
        "id": "SHB7JD7J6PwL"
      },
      "execution_count": null,
      "outputs": []
    },
    {
      "cell_type": "code",
      "source": [
        "#rstrip( ) 함수는 문자열 (    )의 공백을 제거합니다.\n",
        "# [실습] price = \"      $32000  \" 일 때 문자열 (    )의 공백을 제거하는 코드를 작성해보세요.\n",
        "\n"
      ],
      "metadata": {
        "id": "Hl4k8z_J6uag"
      },
      "execution_count": null,
      "outputs": []
    },
    {
      "cell_type": "code",
      "source": [
        "# replace() 함수는 문자열 안의 특정한 값을 (    ) 으로 바꿔준다.\n",
        "# replace() 함수는 replace(바뀌게 될 문자열, 바꿀 문자열) 로 사용한다.\n",
        "# a = \"Life is beautiful\" 일 때 Life를 Love로 바꾸는 코드를 작성해보세요.\n",
        "\n"
      ],
      "metadata": {
        "id": "TUfEfhUZ6Ncj"
      },
      "execution_count": null,
      "outputs": []
    },
    {
      "cell_type": "markdown",
      "metadata": {
        "id": "x-hGrkJeqJrS"
      },
      "source": [
        "## 문자열 포맷팅\n",
        "\n",
        "##### 1. [문자열 포맷 코드 사용 ]    % 사용 : print('%d' % 10)\n",
        "\n",
        "- %d : 정수에 대응\n",
        "- %f : 실수에 대응\n",
        "  - %.3f : 소수 셋째짜리까지 출력\n",
        "- %s : 문자열에 대응\n",
        "\n",
        "##### 2. [포맷 함수 사용]   .format 사용 : print({}.format(10)\n",
        "\n",
        "- {}를 쓰고 .format 뒤에 ()괄호 안에 {}에 들어갈 값(또는 변수)을 적는다.\n",
        "\n",
        "##### 3. 더 간단하게, f'{}' 사용 (python 3.6 이상부터 지원)\n",
        "\n",
        "- {}안에 변수명을 넣어 출력할 수 있다.\n"
      ]
    },
    {
      "cell_type": "markdown",
      "metadata": {
        "id": "sFHyYTSDibko"
      },
      "source": [
        "#### 문자열 포맷 코드를 사용한 포맷팅"
      ]
    },
    {
      "cell_type": "code",
      "source": [
        "#문자열 포매팅은 문자열 안에 어떤 값을 (    )하는 방법입니다.\n",
        "#문자열 포맷 코드를 사용할 때는 print('포맷코드'%변수)와 같이 입력합니다."
      ],
      "metadata": {
        "id": "jhKBvjf8Q4wf"
      },
      "execution_count": null,
      "outputs": []
    },
    {
      "cell_type": "code",
      "execution_count": null,
      "metadata": {
        "id": "38e-bEFpqJrX"
      },
      "outputs": [],
      "source": [
        "height = 200.8\n",
        "weight = 100.3\n",
        "BMI = \"비만\""
      ]
    },
    {
      "cell_type": "code",
      "execution_count": null,
      "metadata": {
        "id": "PPfK0-PyuSVK"
      },
      "outputs": [],
      "source": [
        "#[실습] height의 정수 부분을 출력하는 코드를 작성해봅시다.\n",
        "\n"
      ]
    },
    {
      "cell_type": "code",
      "source": [
        "#[실습] 포맷 코드를 이용하여 몸무게를 정확하게 출력하기 위해 실수 부분까지 출력하는 코드를 작성해봅시다.\n",
        "\n"
      ],
      "metadata": {
        "id": "ISHf0yANSBEl"
      },
      "execution_count": null,
      "outputs": []
    },
    {
      "cell_type": "code",
      "source": [
        "#[실습] 포맷 코드를 이용하여 몸무게를 소수점 셋째자리 까지 출력하는 코드를 작성해봅시다.\n",
        "\n"
      ],
      "metadata": {
        "id": "q-H_X8ChSMPd"
      },
      "execution_count": null,
      "outputs": []
    },
    {
      "cell_type": "code",
      "source": [
        "#[실습] BMI = \"비만\" 일 때, BMI의 문자열 부분을 출력하는 코드를 작성해봅시다.\n",
        "\n"
      ],
      "metadata": {
        "id": "EPcbAqfeSqYP"
      },
      "execution_count": null,
      "outputs": []
    },
    {
      "cell_type": "markdown",
      "metadata": {
        "id": "5A-I5CGdihQp"
      },
      "source": [
        "#### 포맷 함수를 사용한 문자열 포맷팅\n",
        "\n"
      ]
    },
    {
      "cell_type": "code",
      "source": [
        "#format() 함수는 (    )이 가지고 있는 함수 중 하나이며 format 함수를 사용하면 좀 더 발전된 스타일로 문자열 포맷을 지정할 수 있습니다.\n",
        "#format() 함수는 중괄호{}를 포함한 문자열 뒤에 마침표(.)를 찍고 format() 함수를 사용합니다.\n",
        "#format() 함수를 사용할 때 중괄호의 개수와 format 함수 괄호 안 매개변수의 개수는 반드시 (    )합니다.\n",
        "#[실습]  weather과 degree의 변수값이 다음과 같이 지정되어 있을 때, format 함수를 이용하여 오늘 날씨와 기온을 출력하는 코드를 작성해 봅시다.\n",
        "\n",
        "weather = '맑음'\n",
        "degree = 28\n",
        "print(\"오늘 날씨는\", weather, \"이고 기온은\", degree, \"입니다.\")\n",
        "print(\"오늘 날씨는\", weather + \"이고 기온은\", str(degree) + \"입니다.\")\n",
        "\n",
        "# format() 사용\n"
      ],
      "metadata": {
        "id": "HkpkbRLcTjPl"
      },
      "execution_count": null,
      "outputs": []
    },
    {
      "cell_type": "markdown",
      "metadata": {
        "id": "8wu0t3bmiVws"
      },
      "source": [
        "#### f 문자열 포맷팅"
      ]
    },
    {
      "cell_type": "code",
      "execution_count": null,
      "metadata": {
        "id": "m2MyJKSUqJtZ"
      },
      "outputs": [],
      "source": [
        "# f 문자열 포매팅 기능은 변수 값을 생성하고 문자열 앞에 (    ) 를 붙여 사용합니다. - 더 간단하고 편리함!\n",
        "# f\"{변수명 또는 식} \"\n",
        "# [실습]  name과 age의 변수값이 다음과 같이 지정되어 있을 때, f 문자열 포매팅을 이용하여 ‘나의 이름은 junior이고, 나이는 15입니다.’를 출력하는 코드를 작성해 봅시다.\n",
        "\n",
        "name = 'junior'\n",
        "age = 15\n",
        "\n"
      ]
    },
    {
      "cell_type": "code",
      "source": [
        "# f 문자열 포매팅은 문자열 안에서 변수와 +, - 등의 (    )를 함께 사용할 수 있습니다.\n",
        "# [실습] f 문자열 포매팅을 이용하여 ‘나의 이름은 junior이고, 나이는 30입니다.’를 출력하는 코드를 작성해 봅시다.\n",
        "name = 'junior'\n",
        "age = 15\n",
        "\n"
      ],
      "metadata": {
        "id": "Txa962y_6wBr"
      },
      "execution_count": null,
      "outputs": []
    },
    {
      "cell_type": "markdown",
      "metadata": {
        "id": "zzIh046Z0wpc"
      },
      "source": [
        "## 사전 dictionary\n",
        "\n",
        "-  key와 value가 한 쌍인 item들로 구성, {} 중괄호로 표현\n",
        "- 예) fruit = {'애플':'Apple', '바나나':'banana', '수박':'watermelon'}  ."
      ]
    },
    {
      "cell_type": "markdown",
      "metadata": {
        "id": "tN3t2G0CuSVR"
      },
      "source": [
        "#### 자료형 중간 정리\n",
        "\n",
        "- 리스트 = [1,2,3,4]\n",
        "- 튜플 = (1,2,3,4)\n",
        "- 문자열 = \"1234\", '1234'\n",
        "- 사전 = {a:1, b:2 , c:3}\n",
        "- 집합 = {1,2,3,4}\n"
      ]
    },
    {
      "cell_type": "markdown",
      "metadata": {
        "id": "CQozF08OhUxc"
      },
      "source": [
        "#### 딕셔너리와 딕셔너리 관련 함수"
      ]
    },
    {
      "cell_type": "code",
      "source": [
        "# 딕셔너리는 단어 그대로 해석하면 사전이라는 뜻으로 딕셔너리는 (    )와 (    )을 한 쌍으로 갖는 자료형입니다.\n",
        "# 딕셔너리는 { }(중괄호)로 선언하며, ( '키:값' ) 형태를 쉼표(,)로 연결해서 만듭니다.\n",
        "# dic = {Key1:Value1, Key2:Value2, Key3:Value3, ...}\n",
        "# [실습] fruit이라는 딕셔너리를 작성해봅시다. (key-사과, 바나나, 수박) (값-Apple, Banana, Watermelon)\n",
        "\n"
      ],
      "metadata": {
        "id": "ZdDy9GSZe9NC"
      },
      "execution_count": null,
      "outputs": []
    },
    {
      "cell_type": "code",
      "source": [
        "# 딕셔너리의 key 리스트를 만들 때에는   .keys()  함수를 이용한다.\n",
        "# 딕셔너리의 vlaue 리스트를 만들 때에는   .values()  함수를 이용한다.\n",
        "# 딕셔너리의 key와 vlaue의 쌍을 얻을 때에는   .items()  함수를 이용한다.\n",
        "# 딕셔너리의 item의 개수를 확인할 때에는   len()  함수를 이용한다."
      ],
      "metadata": {
        "id": "1AV-7I6Ygc0I"
      },
      "execution_count": null,
      "outputs": []
    },
    {
      "cell_type": "code",
      "execution_count": null,
      "metadata": {
        "id": "i5stCeXw0wpd",
        "scrolled": true
      },
      "outputs": [],
      "source": [
        "#[실습]\n",
        "son = {'이름':'손흥민',\n",
        "       '나이':'31',\n",
        "       '포지션':'FW',\n",
        "       '소속':'토트넘'}\n",
        "\n",
        "# 딕셔너리\n",
        "\n",
        "# son 딕셔너리에서 key를 출력하는 코드를 작성해 봅시다.\n",
        "\n",
        "# son 딕셔너리에서 value를 출력하는 코드를 작성해 봅시다.\n",
        "\n",
        "# son 딕셔너리에서 key와 value를 모두 출력하는 코드를 작성해 봅시다.\n",
        "\n",
        "# son 딕셔너리에서 item의 개수를 출력하는 코드를 작성해 봅시다.\n"
      ]
    },
    {
      "cell_type": "markdown",
      "metadata": {
        "id": "QdFyvi6ZhfG7"
      },
      "source": [
        "#### 딕셔너리 요소에 접근하기"
      ]
    },
    {
      "cell_type": "code",
      "execution_count": null,
      "metadata": {
        "id": "2vVn4HY30wp4"
      },
      "outputs": [],
      "source": [
        "# 딕셔너리의 요소에 접근할 때에는 딕셔너리 뒤에 (  대괄호[]  )를 입력하고 내부에 (  키  )를 입력합니다. (  딕셔너리['키']  )와 같이 입력한다.\n",
        "# 해당 키에 해당하는 value를 출력  #인덱스로 접근 X\n",
        "son = {'이름':'손흥민',\n",
        "       '나이':'31',\n",
        "       '포지션':'FW',\n",
        "       '소속':'토트넘'}\n",
        "\n",
        "son[0]"
      ]
    },
    {
      "cell_type": "code",
      "source": [
        "# [실습] son 딕셔너리에서 이름 key에 접근하는 코드를 작성해 봅시다.\n",
        "\n"
      ],
      "metadata": {
        "id": "QVnycFD3C9Lx"
      },
      "execution_count": null,
      "outputs": []
    },
    {
      "cell_type": "code",
      "execution_count": null,
      "metadata": {
        "id": "nq_KCs2H0wp-"
      },
      "outputs": [],
      "source": [
        "# 딕셔너리 내부에 키(key)가 있는지 없는지 확인할 때는 리스트와 마찬가지로 (    )  키워드를 사용하며 이때 value 값으로는 소속 확인이 불가능합니다.\n",
        "# [실습] son 딕셔너리에 ‘나이’ 키(key)가 있는지 확인하는 코드를 작성해 봅시다.\n",
        "\n"
      ]
    },
    {
      "cell_type": "code",
      "execution_count": null,
      "metadata": {
        "id": "a9-8ytu40wqF"
      },
      "outputs": [],
      "source": [
        "# [실습] value값으로는 소속 확인불가!\n",
        "\n"
      ]
    },
    {
      "cell_type": "code",
      "execution_count": null,
      "metadata": {
        "id": "m3tVDcI_0wqN"
      },
      "outputs": [],
      "source": [
        "# 딕셔너리에 값을 추가할 때는 딕셔너리 [새로운 키] = 새로운 값 으로 입력합니다.\n",
        "# [실습] son 딕셔너리에서 나이의 값을 40으로 바꾸는 코드를 작성해 봅시다.\n",
        "\n"
      ]
    },
    {
      "cell_type": "code",
      "source": [
        "# [실습] son 딕셔너리에서 ‘국적’ = ‘대한민국’ 쌍을 추가하는 코드를 작성해 봅시다.\n",
        "\n"
      ],
      "metadata": {
        "id": "KEIh_1ePDgdX"
      },
      "execution_count": null,
      "outputs": []
    },
    {
      "cell_type": "code",
      "source": [
        "# 딕셔너리를 삭제할 때는 딕셔너리.clear() 로 입력합니다.\n",
        "# [실습] son 딕셔너리를 삭제하는 코드를 작성해 봅시다.\n",
        "\n"
      ],
      "metadata": {
        "id": "7w3AG-pEkPTA"
      },
      "execution_count": null,
      "outputs": []
    },
    {
      "cell_type": "code",
      "execution_count": null,
      "metadata": {
        "id": "wKt5njv0Ur8e"
      },
      "outputs": [],
      "source": [
        "# [TIP] dir() 함수를 이용하여 dictionary의 내장함수를 살펴봅시다. -딕셔너리와 함께 사용할 수 있는 함수\n",
        "dir(dict) # dir(son)"
      ]
    },
    {
      "cell_type": "markdown",
      "metadata": {
        "id": "I091DvYDlFRJ"
      },
      "source": [
        "## 집합 자료형\n",
        "-  집합 자료형은 집합에 관련된 것을 쉽게 처리하기 위해 만든 자료형\n",
        "- set 키워드를 사용해 만들 수 있다.\n",
        "- [집합 만드는 방법1] set1 = {1, 2, 3}\n",
        "- [집합 만드는 방법2]  set2 = set([3,4,5])\n",
        "- 중복을 허용하지 않는다.\n",
        "- 순서가 없다.\n",
        "- 교집합(&), 합집합(|), 차집합(-)\n",
        "- .add (값 1개 추가), .update (리스트로 여러 개 값 추가), .remove(특정값 제거)"
      ]
    },
    {
      "cell_type": "code",
      "execution_count": null,
      "metadata": {
        "id": "AU6NCbkHuSVU"
      },
      "outputs": [],
      "source": [
        "#집합 만드는 법1\n",
        "\n",
        "\n",
        "type(set1)"
      ]
    },
    {
      "cell_type": "code",
      "execution_count": null,
      "metadata": {
        "id": "UuCw9__duSVU"
      },
      "outputs": [],
      "source": [
        "#집합 만드는 법2\n",
        "\n",
        "\n",
        "type(set2)"
      ]
    },
    {
      "cell_type": "code",
      "metadata": {
        "id": "QHwdbvdg0wsN"
      },
      "source": [
        "# 집합 자료형은 (    ) 을 허용하지 않고 (    )가 없어 인덱싱으로 값을 얻을 수 없다."
      ],
      "execution_count": null,
      "outputs": []
    },
    {
      "cell_type": "code",
      "execution_count": null,
      "metadata": {
        "id": "Z6d-D6cfuSVU"
      },
      "outputs": [],
      "source": [
        "# 다음 코드의 결과값을 예측해봅시다.\n",
        "set1 = {1,2,3,3,2,1,1,1,1,2,3,3,2}\n",
        "set1"
      ]
    },
    {
      "cell_type": "code",
      "execution_count": null,
      "metadata": {
        "id": "dtAwzC34uSVU"
      },
      "outputs": [],
      "source": [
        "# (    )함수를 이용해 소속을 확인할 수 있다.\n",
        "# [실습] 집합 set3 = {1,2,3} 일 때 1이 set3에 소속되어 있는지 확인하는 코드를 작성해봅시다.\n",
        "\n"
      ]
    },
    {
      "cell_type": "code",
      "execution_count": null,
      "metadata": {
        "id": "ZZNbSvLIuSVU"
      },
      "outputs": [],
      "source": [
        "# [TIP] dir() 함수를 이용하여 set의 내장함수를 살펴봅시다. -집합과 함께 사용할 수 있는 함수\n",
        "\n",
        "dir(set)"
      ]
    },
    {
      "cell_type": "markdown",
      "metadata": {
        "id": "LfjSEYNJnJuM"
      },
      "source": [
        "#### 교집합, 합집합, 차집합 구하기"
      ]
    },
    {
      "cell_type": "code",
      "execution_count": null,
      "metadata": {
        "id": "aSfurGKKuSVV"
      },
      "outputs": [],
      "source": [
        "# set1과 2를 다음과 같이 정하였을 때\n",
        "set1 = {1, 2, 3}\n",
        "set2 = set([3, 4, 5])\n",
        "\n",
        "# set1과 set2의 교집합 구하는 방법 2가지\n",
        "\n",
        "#1\n",
        "\n",
        "#2\n"
      ]
    },
    {
      "cell_type": "code",
      "execution_count": null,
      "metadata": {
        "id": "GjgCGasjuSVV"
      },
      "outputs": [],
      "source": [
        "# set1과 set2의 합집합 구하는 방법 2가지\n",
        "\n",
        "#1\n",
        "\n",
        "#2\n"
      ]
    },
    {
      "cell_type": "code",
      "source": [
        "# set1과 set2의 차집합 구하는 방법 2가지\n",
        "# 차집합은 순서가 중요!\n",
        "\n",
        "#1\n",
        "\n",
        "#2\n"
      ],
      "metadata": {
        "id": "O4OxytRHsbwu"
      },
      "execution_count": null,
      "outputs": []
    },
    {
      "cell_type": "markdown",
      "metadata": {
        "id": "JTT-D2aVnQ-E"
      },
      "source": [
        "#### 관련 함수 사용하기\n",
        "- 이미 만들어진 set 자료형에 값을 1개 추가할 때는 .add() 함수를 사용\n",
        "- 이미 만들어진 set에 여러 개의 값을 한꺼번에 추가할 때는 .update() 함수를 사용\n",
        "- 특정 값을 제거할 때는 .remove() 함수를 사용"
      ]
    },
    {
      "cell_type": "code",
      "source": [
        "# [실습] add() 함수 사용하여 아래의 집합에 4 추가하기\n",
        "s1 = set([1, 2, 3])\n"
      ],
      "metadata": {
        "id": "ZohSjh11CTvT"
      },
      "execution_count": null,
      "outputs": []
    },
    {
      "cell_type": "code",
      "source": [
        "# [실습] update() 함수 사용하여 아래의 집합에 4, 5, 6 한꺼번에 추가하기\n",
        "s2 = set([1, 2, 3])\n",
        "\n"
      ],
      "metadata": {
        "id": "idZAMIBAClzz"
      },
      "execution_count": null,
      "outputs": []
    },
    {
      "cell_type": "code",
      "source": [
        "# [실습] remove() 함수 사용하여 아래의 집합에 2 제거하기\n",
        "s3 = set([1, 2, 3])\n",
        "\n"
      ],
      "metadata": {
        "id": "EafNERqwC_U7"
      },
      "execution_count": null,
      "outputs": []
    },
    {
      "cell_type": "markdown",
      "source": [
        "#복습퀴즈"
      ],
      "metadata": {
        "id": "m95Aou6tG1oI"
      }
    },
    {
      "cell_type": "code",
      "source": [
        "# 문자열 메소드(함수) 확인하려면 (      )를 사용\n",
        "# lower() 함수는 문자열을 (      )로 만들어준다.\n",
        "# upper() 함수는 문자열을 (      )로 만들어준다.\n",
        "# split() 함수는 문자열을 특정한 문자로 (      ) 사용함\n",
        "# split() 함수는 단어(띄어쓰기) 단위로 나누어 (      )로 반환함\n",
        "# split() 함수는 split()처럼 괄호 안에 아무 값도 넣어 주지 않으면 (      )을 기준으로 문자열을 나눠줌\n",
        "# split() 함수의 괄호 안에 띄어쓰기의 기준이 되는 (      )를 넣어줄 수 있다.\n",
        "# join() 함수는 (      )과 같이 사용하여 리스트 안의 요소를 (      )로 바꿔준다.\n",
        "# strip() 함수는 문자열 (      )의 공백을 제거합니다.\n",
        "# lstrip() 함수는 문자열 (      )의 공백을 제거합니다.\n",
        "# rstrip() 함수는 문자열 (      )의 공백을 제거합니다.\n",
        "# replace() 함수는 문자열 안의 특정한 값을 (      )으로 바꿔준다.\n",
        "\n",
        "# 문자열 포매팅은 문자열 안에 어떤 값을 (      )하는 방법입니다.\n",
        "# 문자열 포맷 코드에서 정수에 대응 :\n",
        "# 문자열 포맷 코드에서 실수에 대응 :\n",
        "# 문자열 포맷 코드에서 문자열에 대응 :\n",
        "# format() 함수는 (      )이 가지고 있는 함수 중 하나이며, format 함수를 사용하면 좀 더 발전된 스타일로 문자열을 지정할 수 있다.\n",
        "# format() 함수를 사용할 때 중괄호의 개수와 format 함수 괄호 안 매개변수의 개수는 반드시 (      )합니다.\n",
        "# f 문자열 포매팅 기능은 변수 값을 생성하고 문자열 앞에 (      )를 붙여 사용합니다.   - 더 간단하고 편리함!\n",
        "\n",
        "# 딕셔너리는 단어 그대로 해석하면 사전이라는 뜻으로 딕셔너리는 (      )와 (      )을 한 쌍으로 갖는 자료형입니다.\n",
        "# 딕셔너리는 (      )로 선언하며, '키 : 값' 형태를 (      )로 연결해서 만듭니다.\n",
        "# 딕셔너리의 key 리스트를 만들 때에는 (      ) 함수를 이용합니다.\n",
        "# 딕셔너리의 value 리스트를 만들 때에는 (      ) 함수를 이용합니다.\n",
        "# 딕셔너리의 key와 value의 쌍을 얻을 대에는 (      ) 함수를 이용합니다.\n",
        "# 딕셔너리의 item의 개수를 확인할 때에는 (      ) 함수를 이용합니다.\n",
        "# 딕셔너리의 요소에 접근할 때에는 딕셔너리 뒤에 (      )를 입력하고 내부에 (      )를 입력합니다.\n",
        "# 딕셔너리 내부에 키(key)가 있는지 없는지 확인할 때는 리스트와 마찬가지로 (      ) 키워드를 사용하며, 이때 value 값으로는 확인할 수 없다.\n",
        "\n",
        "# set = {1, 2, 3}일 때 집합 만다는 법 2가지\n",
        "# 집합 자료형은 (      )을 허용하지 않고 (      )가 없어 인덱싱으로 값을 얻을 수 없다.\n",
        "# 집합에서 (      ) 함수를 이용해 소속을 확인할 수 있다.\n",
        "# set1 = {1, 2, 3}, set2 = set([3, 4, 5])\n",
        "# set1과 2의 교집합 구하는 방법 :\n",
        "# set1과 2의 합집합 구하는 방법 :\n",
        "# set1과 2의 차집합 구하는 방법 :\n",
        "# 이미 만들어진 set 자료형에 값을 1개 추가할 때 사용하는 함수 :\n",
        "# 이미 만들어진 set에 여러 개의 값을 한꺼번에 추가할 때 사용하는 함수 :\n",
        "# 이미 만들어진 set에 특정 값을 제거할 때 사용하는 함수 :"
      ],
      "metadata": {
        "id": "zfiXGTKYHCds"
      },
      "execution_count": null,
      "outputs": []
    },
    {
      "cell_type": "markdown",
      "source": [
        "#실습과제"
      ],
      "metadata": {
        "id": "AYV9B05kQXRy"
      }
    },
    {
      "cell_type": "code",
      "source": [
        "#1 함수와 그 기능을 연결해주세요.\n",
        "\n",
        "(1)-(  )\n",
        "(2)-(  )\n",
        "(3)-(  )\n",
        "(4)-(  )\n",
        "(5)-(  )\n",
        "(6)-(  )"
      ],
      "metadata": {
        "id": "9bRuIHNeQazF"
      },
      "execution_count": null,
      "outputs": []
    },
    {
      "cell_type": "code",
      "source": [
        "#2 다음 중 format() 함수 중에 오류가 발생하는 것을 모두 고르시오.\n"
      ],
      "metadata": {
        "id": "qho7PYszFY9-"
      },
      "execution_count": null,
      "outputs": []
    },
    {
      "cell_type": "code",
      "source": [
        "#3 f문자열 포매팅을 이용하여 인공지능의 지능과 종류를 출력하는 코드를 완성하시오.\n"
      ],
      "metadata": {
        "id": "JzA_eJT-GMLA"
      },
      "execution_count": null,
      "outputs": []
    },
    {
      "cell_type": "code",
      "source": [
        "#4 '수없는 씨박'을 list와 join() 함수를 이용하여 '씨없는 수박'으로 바르게 고쳐봅시다.\n"
      ],
      "metadata": {
        "id": "RiqF77r5G8dB"
      },
      "execution_count": null,
      "outputs": []
    },
    {
      "cell_type": "code",
      "source": [
        "#5 아래 식품 정보에 관한 딕셔너리를 만들어 봅시다.\n",
        "# name : 건조 망고\n",
        "# type : 간식\n",
        "# ingredient : 망고, 설탕\n",
        "# origin : 필리핀\n"
      ],
      "metadata": {
        "id": "4MMumS0xK3XU"
      },
      "execution_count": null,
      "outputs": []
    },
    {
      "cell_type": "code",
      "source": [
        "#6 dict_a에 적용할 코드를 작성하시오.\n"
      ],
      "metadata": {
        "id": "GsUGIx2Pmh9_"
      },
      "execution_count": null,
      "outputs": []
    },
    {
      "cell_type": "code",
      "source": [
        "#7 딕셔너리 a에서 1과 2의 value 값을 얻는 코드를 작성하시오.\n"
      ],
      "metadata": {
        "id": "dHneQYpXnAtu"
      },
      "execution_count": null,
      "outputs": []
    },
    {
      "cell_type": "code",
      "source": [
        "#8 stopwords 집합에 '너무', '진짜' 값을 추가하는 코드를 작성하시오.\n"
      ],
      "metadata": {
        "id": "fXUqPK7QnZ1F"
      },
      "execution_count": null,
      "outputs": []
    }
  ],
  "metadata": {
    "colab": {
      "provenance": [],
      "include_colab_link": true
    },
    "kernelspec": {
      "display_name": "Python 3",
      "language": "python",
      "name": "python3"
    },
    "language_info": {
      "codemirror_mode": {
        "name": "ipython",
        "version": 3
      },
      "file_extension": ".py",
      "mimetype": "text/x-python",
      "name": "python",
      "nbconvert_exporter": "python",
      "pygments_lexer": "ipython3",
      "version": "3.8.3"
    }
  },
  "nbformat": 4,
  "nbformat_minor": 0
}