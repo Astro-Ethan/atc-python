{
  "cells": [
    {
      "cell_type": "markdown",
      "metadata": {
        "id": "view-in-github",
        "colab_type": "text"
      },
      "source": [
        "<a href=\"https://colab.research.google.com/github/Astro-Ethan/atc-python/blob/main/ATC_%EC%A3%BC%EB%8B%88%EC%96%B4%EC%8A%A4%EC%BF%A8_%ED%8C%8C%EC%9D%B4%EC%8D%AC%EA%B8%B0%EC%B4%88_7%EC%9D%BC%EC%B0%A8_%EB%B0%98%EB%B3%B5%EB%AC%B8(%EC%88%98%EC%97%85%EC%9E%90%EB%A3%8C)%EC%9D%98_%EC%82%AC%EB%B3%B8.ipynb\" target=\"_parent\"><img src=\"https://colab.research.google.com/assets/colab-badge.svg\" alt=\"Open In Colab\"/></a>"
      ]
    },
    {
      "cell_type": "markdown",
      "metadata": {
        "id": "sqzCcjGSO1gw"
      },
      "source": [
        "### while문 (조건반복)\n",
        "- 반복해서 문장을 수행해야 할 경우 ( )을 사용합니다.\n",
        "- 따라서 ( ) 또는 ( ) 이라고도 부릅니다.\n",
        "- while 뒤에 조건을 쓰고 콜론을 붙입니다. 예) while <조건식> :\n",
        "- 들여쓰기 후에 참인 경우 명령문을 실행하고\n",
        "- 거짓이면 while문을 빠져나나옵니다.\n"
      ]
    },
    {
      "cell_type": "markdown",
      "source": [
        "### while문의 기본 구조 작성하기"
      ],
      "metadata": {
        "id": "I2x4hGP9eeT0"
      }
    },
    {
      "cell_type": "code",
      "source": [
        "# i 변수에 1을 넣는 코드를 작성해보세요."
      ],
      "metadata": {
        "id": "lW2YUEXec-hR"
      },
      "execution_count": null,
      "outputs": []
    },
    {
      "cell_type": "code",
      "source": [
        "# while문 뒤에 변수 i가 10보다 작을 때라는 조건식을 작성해보세요."
      ],
      "metadata": {
        "id": "c0k965IHdbET"
      },
      "execution_count": null,
      "outputs": []
    },
    {
      "cell_type": "code",
      "source": [
        "# 조건이 참일 경우 [i는 10보다 작아요.]를 출력할 명령문을 작성해보세요."
      ],
      "metadata": {
        "id": "qPoj0X6odjDl"
      },
      "execution_count": null,
      "outputs": []
    },
    {
      "cell_type": "code",
      "source": [
        "## 이대로 실행할 경우 변수 i 값에 변화가 없으므로 끊임없이 실행되는 ( )에 빠집니다."
      ],
      "metadata": {
        "id": "KCplJ_1OdjBR"
      },
      "execution_count": null,
      "outputs": []
    },
    {
      "cell_type": "code",
      "source": [
        "# 한 번 출력하면 변수 i값에 1씩 더하도록 명령문을 작성해보세요."
      ],
      "metadata": {
        "id": "Q4_yOqN3di--"
      },
      "execution_count": null,
      "outputs": []
    },
    {
      "cell_type": "code",
      "source": [
        "# 하나의 코드로 완성해보세요."
      ],
      "metadata": {
        "id": "4Vuhja7Ydi8X"
      },
      "execution_count": null,
      "outputs": []
    },
    {
      "cell_type": "markdown",
      "metadata": {
        "id": "WRx_NZ5b3Nik"
      },
      "source": [
        "#### <span style=\"color:red\"> [실습] 1부터 10까지 합을 구하는 코드를 아래 힌트를 보고 작성해보세요."
      ]
    },
    {
      "cell_type": "code",
      "execution_count": null,
      "metadata": {
        "id": "0VGioXviO1hB"
      },
      "outputs": [],
      "source": [
        "\"\"\" 힌트\n",
        "1. 변수 i와 sum_에 각각 1과 0의 값을 넣어 초기화한다.\n",
        "2. while문의 조건을 i가 10보다 작거나 같다로 정한다.\n",
        "3. sum_에 sum_과 i를 더한 값을 저장한다.\n",
        "4. i를 1씩 증가시킨다.\n",
        "5. while문 반복이 끝난 후 sum_을 출력한다.\n",
        "\"\"\"\n",
        "\n",
        "#아래에 완성된 코드를 작성하세요.\n"
      ]
    },
    {
      "cell_type": "markdown",
      "source": [
        "#### <span style=\"color:red\"> [실습] 비밀번호를 입력받아 문을 열어주는 코드를 아래 힌트를 보고 작성해보세요."
      ],
      "metadata": {
        "id": "0naMRnIvh5Ff"
      }
    },
    {
      "cell_type": "code",
      "execution_count": null,
      "metadata": {
        "id": "gfXwMZNGO1hL"
      },
      "outputs": [],
      "source": [
        "'''\n",
        "1. 변수 pwd에 초기값 '0000'을 저장한다.\n",
        "2. while문의 조건을 pwd가 '1234'가 아니다로 정한다.\n",
        "3. 실행문으로 비밀번호를 사용자가 입력한 값을 pwd에 저장하는 것으로 한다. 힌트 : pwd = input(\"비밀번호는: \")\n",
        "4. while문을 빠져나오면 어서오세요를 출력한다.\n",
        "'''\n",
        "\n",
        "#아래에 완성된 코드를 작성하세요.\n"
      ]
    },
    {
      "cell_type": "markdown",
      "metadata": {
        "id": "ifctRdIe3Nin"
      },
      "source": [
        "#### [실습] 5번까지 시도해서 비밀번호를 맞추지 못하면 자동으로 코드를 종료하는 조건을 추가해보세요."
      ]
    },
    {
      "cell_type": "markdown",
      "metadata": {
        "id": "-_LJS6s6O1iw"
      },
      "source": [
        "- break :  (앞의 조건이 참이면) 반복문에서 빠져 나와라\n",
        "- continue : (앞의 조건이 참이면) 반복문의 처음으로 다시 돌아가서 반복해라"
      ]
    },
    {
      "cell_type": "code",
      "execution_count": null,
      "metadata": {
        "id": "9TqhKJ9i3Nio"
      },
      "outputs": [],
      "source": [
        "\n",
        "'''\n",
        "1. 비밀번호 숫자 네자리를 입력받아 password에 저장\n",
        "2. 카운트를 1씩 증가\n",
        "3. 만약 비밀번호가 1234가 아니라면\n",
        "4. 그리고 만약 틀린 횟수가 5번이 아니라면\n",
        "5. count회 틀렸다고 출력\n",
        "6. 코드 건너뛰기\n",
        "7. 아니라면(틀린횟수가 5번이라면)\n",
        "8. 5회 이상 틀렸다고 출력\n",
        "9 코드 종료\n",
        "10. 비밀번호를 맞췄다면\n",
        "11. 어서오세요라고 출력\n",
        "12. 코드 종료\n",
        "\n",
        "'''\n",
        "#아래에 완성된 코드를 작성하세요.\n"
      ]
    },
    {
      "cell_type": "markdown",
      "metadata": {
        "id": "9r2BEH7fO1hP"
      },
      "source": [
        "### for문\n",
        "- while문과 비슷한 반복문인 ( )은 문장구조의 이해가 쉽습니다.\n",
        "- 따라서 ( )의 직관적인 특징을 가장 잘 대변해 준다고 할 수 있습니다.\n",
        "- for문은 리스트/문자열의 ( )번째 요소부터 ( )요소까지 차례로 ( )에 ( )되어 실행됩니다.\n",
        "- for 뒤에 변수(통상 i를 쓴다)를 적고 in 다음에 반복할 문자열, 리스트, 딕셔너리 등을 쓰고 콜론(:)을 붙여 사용합니다.\n",
        "` for i in [1,2,3,4]:`\n",
        "- 아랫줄부터 들여쓰기 후에 수행할 문장을 적습니다.\n",
        "\n",
        "- range() 함수와 같이 사용하는 경우도 많습니다.\n",
        "`for i in range(4):`"
      ]
    },
    {
      "cell_type": "markdown",
      "source": [
        "### for문의 기본구조 작성하기"
      ],
      "metadata": {
        "id": "V-oUo8Fqx6iX"
      }
    },
    {
      "cell_type": "code",
      "source": [
        "# blackpink라는 이름에 제니,지수,로제,리사라는 데이터가 포함된 리스트를 작성해보세요.\n"
      ],
      "metadata": {
        "id": "B6QUTibAw6G3"
      },
      "execution_count": null,
      "outputs": []
    },
    {
      "cell_type": "code",
      "source": [
        "# for문 뒤에 member라는 변수를 작성해보세요.\n"
      ],
      "metadata": {
        "id": "STbGDYEfxDmR"
      },
      "execution_count": null,
      "outputs": []
    },
    {
      "cell_type": "code",
      "source": [
        "# for문 규칙에 맞춰 member 변수 뒤에 in과 blackpink 리스트를 넣어 for문을 완성해보세요.\n"
      ],
      "metadata": {
        "id": "jWMSlgJ9xIbp"
      },
      "execution_count": null,
      "outputs": []
    },
    {
      "cell_type": "code",
      "source": [
        "# for문 아랫줄에 들여쓰기를 한 후 member가 출력될 수 있게 명령문을 작성해보세요.\n"
      ],
      "metadata": {
        "id": "mmLnlKKYxM_g"
      },
      "execution_count": null,
      "outputs": []
    },
    {
      "cell_type": "code",
      "execution_count": null,
      "metadata": {
        "id": "FwihUKyoO1iS"
      },
      "outputs": [],
      "source": [
        "# 완성된 명령문을 넣어 멤버를 출력해보세요.\n"
      ]
    },
    {
      "cell_type": "markdown",
      "source": [
        "#### <span style=\"color:red\"> [실습] for문을 활용해 hello world 라고 출력되도록 코드를 작성해보세요."
      ],
      "metadata": {
        "id": "ouLatsT-ydDU"
      }
    },
    {
      "cell_type": "code",
      "source": [
        "# hello world라는 데이터를 가진 문자열(hello_str)을 만들어보세요.\n"
      ],
      "metadata": {
        "id": "6s7djT-xy5eG"
      },
      "execution_count": null,
      "outputs": []
    },
    {
      "cell_type": "code",
      "source": [
        "# for문에 i 변수를 넣어 hello world가 출력되도록 코드를 작성해보세요.\n"
      ],
      "metadata": {
        "id": "NqaQCUM4zIqp"
      },
      "execution_count": null,
      "outputs": []
    },
    {
      "cell_type": "code",
      "source": [
        "# 줄바꿈 없이 문자열 그대로 출력해보세요.\n"
      ],
      "metadata": {
        "id": "j6nA9UkwzNhW"
      },
      "execution_count": null,
      "outputs": []
    },
    {
      "cell_type": "code",
      "source": [
        "# 소문자로 표현된 hello world를 대문자로 바꿔서 출력해보세요.\n"
      ],
      "metadata": {
        "id": "Lc0uAbLDzV8g"
      },
      "execution_count": null,
      "outputs": []
    },
    {
      "cell_type": "markdown",
      "source": [
        "#### <span style=\"color:red\"> [실습] 딕셔너리를 활용한 for문"
      ],
      "metadata": {
        "id": "3QMBa-uPzvef"
      }
    },
    {
      "cell_type": "code",
      "source": [
        "# Python, C, Java라는 key와 100, 90, 80이라는 value를 가진 score_dict 딕셔너리를 만들어보세요."
      ],
      "metadata": {
        "id": "peNzH97hHV0U"
      },
      "execution_count": null,
      "outputs": []
    },
    {
      "cell_type": "code",
      "source": [
        "# for문에 i 변수를 넣어 score_dict 딕셔너리의 key를 출력하는 코드를 작성해보세요."
      ],
      "metadata": {
        "id": "d4R_-0FMHa1t"
      },
      "execution_count": null,
      "outputs": []
    },
    {
      "cell_type": "code",
      "source": [
        "# for문에 i 변수를 넣어 score_dict 딕셔너리의 value를 출력하는 코드를 작성해보세요."
      ],
      "metadata": {
        "id": "e4AsaITRHfZI"
      },
      "execution_count": null,
      "outputs": []
    },
    {
      "cell_type": "markdown",
      "metadata": {
        "id": "FHJLuyw93Nir"
      },
      "source": [
        "####  <span style=\"color:red\"> [실습] 위의 예제에서 키값과 점수(value) 모두 출력하는 코드를 작성해보세요."
      ]
    },
    {
      "cell_type": "code",
      "execution_count": null,
      "metadata": {
        "id": "EpnomK5k3Nis"
      },
      "outputs": [],
      "source": [
        "score_dict ={'Python':100, 'C':90, 'Java': 80}\n"
      ]
    },
    {
      "cell_type": "markdown",
      "metadata": {
        "id": "zLuytWzD3Nis"
      },
      "source": [
        "#### [실습] range()함수와 반복문"
      ]
    },
    {
      "cell_type": "markdown",
      "source": [
        "- range는 숫자 리스트를 자동으로 만들어줍니다.\n",
        "- range(0,10)은  () 부터  () 미만의 숫자를 포함하는 range  객체 를 만들어줍니다.\n",
        "- for문과 함께 사용되는 range(10)은  ()번 반복의 의미를 갖습니다.\n"
      ],
      "metadata": {
        "id": "JmXaPI3SL1JE"
      }
    },
    {
      "cell_type": "code",
      "source": [
        "# for문에 i 변수를 넣어 ‘안녕’을 줄바꿈 없이 10번 출력하는 코드를 작성해보세요.\n"
      ],
      "metadata": {
        "id": "MeNpgimcMWL5"
      },
      "execution_count": null,
      "outputs": []
    },
    {
      "cell_type": "code",
      "execution_count": null,
      "metadata": {
        "id": "W2OdBISWO1hg"
      },
      "outputs": [],
      "source": [
        "# for문에 i 변수를 넣어 0부터 10미만까지 줄바꿈 없이 반복해 출력하는 코드를 작성해보세요.\n",
        "# range() 활용 -> ()안에 있는 수만 반복\n"
      ]
    },
    {
      "cell_type": "code",
      "execution_count": null,
      "metadata": {
        "id": "kEFVUgMDO1hm"
      },
      "outputs": [],
      "source": [
        "for i in range (0, 10) : #0부터 10미만까지 반복\n",
        "    print (i, end=' ')"
      ]
    },
    {
      "cell_type": "code",
      "execution_count": null,
      "metadata": {
        "id": "WjSlRXsaO1hq"
      },
      "outputs": [],
      "source": [
        "# for i in range (0,10,1): 이 코드는 무엇을 의미할까요? 코드를 작성해 실행해보고 무엇을 의미하는지 설명해보세요.\n"
      ]
    },
    {
      "cell_type": "code",
      "execution_count": null,
      "metadata": {
        "id": "-i5MzVRuO1iG"
      },
      "outputs": [],
      "source": [
        "#i와 함께 출력 : 이 코드는 무엇을 의미할까요?\n",
        "for i in range (5) :\n",
        "    print (i, \"hello\")"
      ]
    },
    {
      "cell_type": "code",
      "execution_count": null,
      "metadata": {
        "id": "mhxbr0mS3Nit"
      },
      "outputs": [],
      "source": [
        "# 0부터 100까지의 숫자를 2씩 증가하며 출력해보세요.\n"
      ]
    },
    {
      "cell_type": "code",
      "execution_count": null,
      "metadata": {
        "id": "CvJNgRN-O1iW"
      },
      "outputs": [],
      "source": [
        "# 다음 힌트를 바탕으로 blackpink의 멤버 이름과 멤버수까지 같이 출력하는 프로그램을 완성해보세요.\n",
        "\n",
        "'''\n",
        "1. 리스트 blackpink를 만들어 4명을 입력한다.\n",
        "2. count 변수를 만들어 초기값을 0으로 정한다.\n",
        "3. for문을 실행하여 blackpink를 member변수로 순회한다.\n",
        "4. for문이 실행되면 member를 프린트한다.\n",
        "5. count도 1씩 증가시킨다.\n",
        "6. for문이 끝나면 count에 입력된 값을 출력한다.\n",
        "'''\n",
        "blackpink = ['제니', '지수', '로제', '리사']\n",
        "count = 0\n",
        "# 여기에 코드를 작성하여 완성\n"
      ]
    },
    {
      "cell_type": "markdown",
      "metadata": {
        "id": "bCwwOgM9Rfuw"
      },
      "source": [
        "####  <span style=\"color:red\"> [실습] 점수에 따라 A,B,C,D를 부여하도록 코드를 작성해봅시다."
      ]
    },
    {
      "cell_type": "code",
      "source": [
        "# 50, 70, 92, 88 이라는 데이터를 가진 score 리스트를 작성해보세요.\n"
      ],
      "metadata": {
        "id": "f6ZXhV8gRo1D"
      },
      "execution_count": null,
      "outputs": []
    },
    {
      "cell_type": "code",
      "source": [
        "# 몇 번째 과목인지를 표시하기 위해 number라는 변수를 만들고 0으로 초기화해보세요.\n"
      ],
      "metadata": {
        "id": "luyo9q5WRuKD"
      },
      "execution_count": null,
      "outputs": []
    },
    {
      "cell_type": "code",
      "source": [
        "# 리스트의 데이터를 i 변수로 잡고 i>=90은 A, i>=80은 B, i>=70은 C, 그 외에는 D로 표시될 수 있도록 하되, 몇 번째 과목인지도 함께 표시되도록 코드를 작성해보세요.\n"
      ],
      "metadata": {
        "id": "UcdrA2PDRxYd"
      },
      "execution_count": null,
      "outputs": []
    },
    {
      "cell_type": "code",
      "source": [
        "### while문 (조건반복)\n",
        "# 반복해서 문장을 수행해야 할 경우 ( )을 사용합니다.\n",
        "# 따라서 ( ) 또는 ( ) 이라고도 부릅니다.\n",
        "# while 뒤에 조건을 쓰고 콜론을 붙입니다. 예) while <조건식> :\n",
        "# 들여쓰기 후에 참인 경우 명령문을 실행하고\n",
        "# 거짓이면 while문을 빠져나나옵니다.\n",
        "\n",
        "### for문\n",
        "# while문과 비슷한 반복문인 ( )은 문장구조의 이해가 쉽습니다.\n",
        "# 따라서 ( )의 직관적인 특징을 가장 잘 대변해 준다고 할 수 있습니다.\n",
        "# for문은 리스트/문자열의 ( )번째 요소부터 ( )요소까지 차례로 ( )에 ( )되어 실행됩니다.\n",
        "# for 뒤에 변수(통상 i를 쓴다)를 적고 in 다음에 반복할 문자열, 리스트, 딕셔너리 등을 쓰고 콜론(:)을 붙여 사용합니다.\n",
        "# for i in [1,2,3,4]:\n",
        "# 아랫줄부터 들여쓰기 후에 수행할 문장을 적습니다.\n",
        "\n",
        "# range() 함수와 같이 사용하는 경우도 많습니다.\n",
        "# for i in range(4):\n",
        "\n",
        "() :  (앞의 조건이 참이면) 반복문에서 빠져 나와라\n",
        "() : (앞의 조건이 참이면) 반복문의 처음으로 다시 돌아가서 반복해라\n",
        "\n",
        "###range 함수\n",
        "# range는 숫자 리스트를 자동으로 만들어줍니다.\n",
        "# range(0,10)은  () 부터  () 미만의 숫자를 포함하는 range  객체 를 만들어줍니다.\n",
        "# for문과 함께 사용되는 range(10)은  ()번 반복의 의미를 갖습니다.\n"
      ],
      "metadata": {
        "id": "4dpGxXcZ0Lgz"
      },
      "execution_count": null,
      "outputs": []
    },
    {
      "cell_type": "code",
      "source": [],
      "metadata": {
        "id": "unB998lz0tXc"
      },
      "execution_count": null,
      "outputs": []
    }
  ],
  "metadata": {
    "colab": {
      "collapsed_sections": [
        "I2x4hGP9eeT0"
      ],
      "provenance": [],
      "include_colab_link": true
    },
    "kernelspec": {
      "display_name": "Python 3",
      "language": "python",
      "name": "python3"
    },
    "language_info": {
      "codemirror_mode": {
        "name": "ipython",
        "version": 3
      },
      "file_extension": ".py",
      "mimetype": "text/x-python",
      "name": "python",
      "nbconvert_exporter": "python",
      "pygments_lexer": "ipython3",
      "version": "3.8.3"
    }
  },
  "nbformat": 4,
  "nbformat_minor": 0
}