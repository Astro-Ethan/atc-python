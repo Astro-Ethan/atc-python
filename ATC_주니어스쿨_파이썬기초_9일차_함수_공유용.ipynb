{
  "nbformat": 4,
  "nbformat_minor": 0,
  "metadata": {
    "colab": {
      "provenance": [],
      "include_colab_link": true
    },
    "kernelspec": {
      "name": "python3",
      "display_name": "Python 3"
    },
    "language_info": {
      "name": "python"
    }
  },
  "cells": [
    {
      "cell_type": "markdown",
      "metadata": {
        "id": "view-in-github",
        "colab_type": "text"
      },
      "source": [
        "<a href=\"https://colab.research.google.com/github/Astro-Ethan/atc-python/blob/main/ATC_%EC%A3%BC%EB%8B%88%EC%96%B4%EC%8A%A4%EC%BF%A8_%ED%8C%8C%EC%9D%B4%EC%8D%AC%EA%B8%B0%EC%B4%88_9%EC%9D%BC%EC%B0%A8_%ED%95%A8%EC%88%98_%EA%B3%B5%EC%9C%A0%EC%9A%A9.ipynb\" target=\"_parent\"><img src=\"https://colab.research.google.com/assets/colab-badge.svg\" alt=\"Open In Colab\"/></a>"
      ]
    },
    {
      "cell_type": "markdown",
      "source": [
        "## 함수의 이해 (1)\n"
      ],
      "metadata": {
        "id": "NU5hrP1_BhO5"
      }
    },
    {
      "cell_type": "code",
      "source": [
        "# 간단 팁 되돌아보기\n",
        "# 코딩을 실행하는 방법\n",
        "# 1) 마우스를 이용하는 방법 : 마우스로 (      )를 클릭\n",
        "# 2) 단축키를 이용하는 방법 : shift+Enter를 누르면 (                           )\n",
        "#                             ctrl+Enter를 누르면 (                            )\n",
        "#                             alt+Enter는 (                                    )\n",
        "# 코딩창 하나 추가하는 단축키 : ctrl + m + b\n",
        "# 코딩창 하나 삭제하는 단축키 : ctrl + m + d"
      ],
      "metadata": {
        "id": "kOY6ac0aCyob"
      },
      "execution_count": null,
      "outputs": []
    },
    {
      "cell_type": "markdown",
      "source": [
        "- 함수의 개념을 알아봅시다."
      ],
      "metadata": {
        "id": "D73gnIOzBzGh"
      }
    },
    {
      "cell_type": "code",
      "source": [
        "# 함수란 : (                 ) 을 의미합니다.\n",
        "# 함수를 만들 때는 (                 )를 사용하여 정의합니다.\n",
        "# 선생님의 설명을 듣고, def 사용방법을 정리해보세요.\n"
      ],
      "metadata": {
        "id": "2_IiAG7OCoRK"
      },
      "execution_count": null,
      "outputs": []
    },
    {
      "cell_type": "code",
      "source": [
        "# 함수의 이름을 지을때는?\n",
        "# 1) 함수가 하는 행동의 (        )가 드러나도록 짓는다.\n",
        "# 2) 함수 이름 규칙은 (                    )하다.\n"
      ],
      "metadata": {
        "id": "nvigCcEFZMLX"
      },
      "execution_count": null,
      "outputs": []
    },
    {
      "cell_type": "code",
      "source": [
        "# 'hello, world'를 출력하는 간단한 함수를 만들어 봅시다.\n",
        "\n"
      ],
      "metadata": {
        "id": "Cpn-eA1FaZFh"
      },
      "execution_count": null,
      "outputs": []
    },
    {
      "cell_type": "code",
      "source": [
        "# 위에서 만든 함수를 호출해봅시다.\n"
      ],
      "metadata": {
        "id": "HNwbRj5DadL7"
      },
      "execution_count": null,
      "outputs": []
    },
    {
      "cell_type": "code",
      "source": [
        "# 'hello, world'를 리턴하는 함수를 만들어 봅시다.\n"
      ],
      "metadata": {
        "id": "-2YiVsgUeDuT"
      },
      "execution_count": null,
      "outputs": []
    },
    {
      "cell_type": "markdown",
      "source": [
        "- 함수의 필요성을 엔트리 코딩으로 이해해봅시다."
      ],
      "metadata": {
        "id": "_HjToH9UdTfM"
      }
    },
    {
      "cell_type": "code",
      "source": [
        "# 엔트리를 통해 이해한 내용을 정리해보세요.\n"
      ],
      "metadata": {
        "id": "aGO7XuM-dcXU"
      },
      "execution_count": null,
      "outputs": []
    },
    {
      "cell_type": "code",
      "source": [
        "# 함수에서 print로 출력하는 것과 리턴의 차이는?\n",
        "\n",
        "b = 50\n",
        "\n",
        "def helloprint():\n",
        "  print(100)\n",
        "\n",
        "def helloreturn():\n",
        "  return 100\n",
        "\n",
        "\n",
        "helloprint()\n",
        "d = helloprint()\n",
        "print(d)\n"
      ],
      "metadata": {
        "id": "8XUayWQseGrG"
      },
      "execution_count": null,
      "outputs": []
    },
    {
      "cell_type": "code",
      "source": [
        "helloreturn()\n",
        "e = helloreturn()\n",
        "print(e)"
      ],
      "metadata": {
        "id": "CAxGc2g-hN25"
      },
      "execution_count": null,
      "outputs": []
    },
    {
      "cell_type": "markdown",
      "source": [
        "- 값을 돌려주는 함수 만들기"
      ],
      "metadata": {
        "id": "oZ3wUqlVBm2a"
      }
    },
    {
      "cell_type": "code",
      "source": [
        "# 입력한 두 개의 숫자를 더하는 함수를 만들어봅시다.\n"
      ],
      "metadata": {
        "id": "fvehzal-dAzb"
      },
      "execution_count": null,
      "outputs": []
    },
    {
      "cell_type": "code",
      "execution_count": null,
      "metadata": {
        "id": "rjRaERVJBJC6"
      },
      "outputs": [],
      "source": [
        "# 함수에서 입력으로 전달되는 값을 받는 변수를 (        )라고 합니다."
      ]
    },
    {
      "cell_type": "code",
      "source": [
        "# 만든 덧셈 함수를 호출해보세요.\n"
      ],
      "metadata": {
        "id": "G2PIZAdtBqag"
      },
      "execution_count": null,
      "outputs": []
    },
    {
      "cell_type": "code",
      "source": [
        "# 덧셈 함수를 이용해 다음 계산을 해보세요\n",
        "# 1875 + 4329\n",
        "\n",
        "# 62093 + 38564\n",
        "\n",
        "# 385619 + 728395\n",
        "\n",
        "# '파이썬은 ' + '재미있어요.'\n"
      ],
      "metadata": {
        "id": "jY7_bNjfBqiy"
      },
      "execution_count": null,
      "outputs": []
    },
    {
      "cell_type": "code",
      "source": [
        "# 우선 함수의 이름만 정해 선언하고 싶을 때는?    를 활용한다.\n"
      ],
      "metadata": {
        "id": "QCfHScI1Bqpm"
      },
      "execution_count": null,
      "outputs": []
    },
    {
      "cell_type": "markdown",
      "source": [
        "✅ 실습 문제"
      ],
      "metadata": {
        "id": "wZ5Wg_w8ivNH"
      }
    },
    {
      "cell_type": "code",
      "source": [
        "# 1. 뺄셈을 계산하는 함수를 만들고, 827364-103874 를 계산해봅시다.\n"
      ],
      "metadata": {
        "id": "53JzEpOMCTP-"
      },
      "execution_count": null,
      "outputs": []
    },
    {
      "cell_type": "code",
      "source": [
        "# 2. 곱셈을 계산하는 함수를 만들고, 453 * 1937 를 계산해봅시다.\n"
      ],
      "metadata": {
        "id": "H1FjPxBbi01q"
      },
      "execution_count": null,
      "outputs": []
    },
    {
      "cell_type": "code",
      "source": [
        "# 3. 나눗셈의 몫을 구하는 함수를 만들고, 97236 / 1652 의 몫을 구해봅시다.\n"
      ],
      "metadata": {
        "id": "8I-Z2rB1i4bh"
      },
      "execution_count": null,
      "outputs": []
    },
    {
      "cell_type": "code",
      "source": [
        "# 4. 나눗셈의 나머지를 구하는 함수를 만들고, 97236 / 1652 의 나머지를 구해봅시다.\n"
      ],
      "metadata": {
        "id": "QSpzMEJsi6fL"
      },
      "execution_count": null,
      "outputs": []
    },
    {
      "cell_type": "markdown",
      "source": [
        "## 함수의 이해 (2)"
      ],
      "metadata": {
        "id": "paGSO5PYmk1v"
      }
    },
    {
      "cell_type": "markdown",
      "source": [
        "- 다양한 함수 만들기"
      ],
      "metadata": {
        "id": "5r5mLgFviTUO"
      }
    },
    {
      "cell_type": "code",
      "source": [
        "# 여러 값을 리턴하는 함수를 만들어 봅시다.\n",
        "# return에 어떻게 적어줘야할까요?\n",
        "\n",
        "# 두 수를 입력하면 사칙연산 4가지를 모두 하는 함수를 만들어봅시다.\n"
      ],
      "metadata": {
        "id": "nJbFeW_2iMXt"
      },
      "execution_count": null,
      "outputs": []
    },
    {
      "cell_type": "code",
      "source": [
        "# 만든 함수를 호출해봅시다.\n"
      ],
      "metadata": {
        "id": "8834IqDlkRSS"
      },
      "execution_count": null,
      "outputs": []
    },
    {
      "cell_type": "code",
      "source": [
        "# 깜짝 퀴즈 ! 함수가 리턴한 값의 자료형은 무엇일까요?\n"
      ],
      "metadata": {
        "id": "dZJsyo5ijO3N"
      },
      "execution_count": null,
      "outputs": []
    },
    {
      "cell_type": "code",
      "source": [
        "# 인수가 몇개인지 모를 때는 인수로 쓸 변수명 앞에   (      )을 붙입니다.\n",
        "\n",
        "# for 반복문을 이용해서 받은 입력값을 모두 더하는 함수를 만들어봅시다.\n",
        "# 예를 들어 함수명(1,10,13,54,15)을 실행하면 인수에 입력한 5개의 수를 모두 더하여 리턴합니다.\n"
      ],
      "metadata": {
        "id": "eKRR82G5jPof"
      },
      "execution_count": null,
      "outputs": []
    },
    {
      "cell_type": "code",
      "source": [
        "# 만든 함수를 호출해봅시다.\n"
      ],
      "metadata": {
        "id": "5n2b5L4FkQe-"
      },
      "execution_count": null,
      "outputs": []
    },
    {
      "cell_type": "code",
      "source": [
        "# while을 활용하여 입력한 범위의 값을 더하는 함수를 만들어 봅시다.\n",
        "# 예를 들어 함수명(1,100)을 실행하면 1부터 100까지 합을 더하여 리턴합니다.\n"
      ],
      "metadata": {
        "id": "tYLdiDDujvs7"
      },
      "execution_count": null,
      "outputs": []
    },
    {
      "cell_type": "code",
      "source": [
        "# 만든 함수를 호출해봅시다.\n"
      ],
      "metadata": {
        "id": "vBok-1R9kUic"
      },
      "execution_count": null,
      "outputs": []
    },
    {
      "cell_type": "code",
      "source": [
        "# 조건문을 사용하여 점수에 따라 수행평가 결과가 나오는 함수를 만들어 봅시다.\n",
        "# 90이상이면 '매우잘함', 65이상 90미만이면 '잘함', 40이상 65미만은 '보통', 이외에는 '노력요함'\n",
        "# 예를 들어 함수명(70)을 실행하면 '잘함'을 리턴합니다.\n",
        "\n"
      ],
      "metadata": {
        "id": "fN7tFKDokZVa"
      },
      "execution_count": null,
      "outputs": []
    },
    {
      "cell_type": "code",
      "source": [
        "# 만든 함수를 호출해봅시다."
      ],
      "metadata": {
        "id": "vGxXzME5ktLd"
      },
      "execution_count": null,
      "outputs": []
    },
    {
      "cell_type": "markdown",
      "source": [
        "✅ 실습 문제"
      ],
      "metadata": {
        "id": "0y0s6bfHkzSD"
      }
    },
    {
      "cell_type": "code",
      "source": [
        "# 1. 입력한 값을 모두 곱하는 함수를 만들어보고, 2*9*11*23*47을 계산해봅시다.\n"
      ],
      "metadata": {
        "id": "bFX3TU2jkz2i"
      },
      "execution_count": null,
      "outputs": []
    },
    {
      "cell_type": "code",
      "source": [
        "# 2. 입력한 값이 짝수인지 홀수인지 판별하는 함수를 만들어봅시다."
      ],
      "metadata": {
        "id": "_qpdmVIymOxu"
      },
      "execution_count": null,
      "outputs": []
    },
    {
      "cell_type": "markdown",
      "source": [
        "## 함수의 이해 (3)"
      ],
      "metadata": {
        "id": "bN6Xbvw_mnz1"
      }
    },
    {
      "cell_type": "code",
      "source": [
        "# 이름을 인수에 넣으면 ~님 안녕하세요 라고 출력하는 함수를 만들어봅시다.\n"
      ],
      "metadata": {
        "id": "PjooqEePmrfC"
      },
      "execution_count": null,
      "outputs": []
    },
    {
      "cell_type": "code",
      "source": [
        "# 여러 사람의 이름을 인수에 넣으면 한 명 한 명 ~님 안녕하세요 라고 출력하는 함수를 만들어봅시다.\n"
      ],
      "metadata": {
        "id": "52hlDPPQm64a"
      },
      "execution_count": null,
      "outputs": []
    },
    {
      "cell_type": "markdown",
      "source": [
        "- 파이썬 내장 함수 이해하기"
      ],
      "metadata": {
        "id": "iQ0D5ZU0ntCN"
      }
    },
    {
      "cell_type": "code",
      "source": [
        "# int 함수의 기능 :\n",
        "# int 함수 사용 예시 코드 적고 실행해보기\n"
      ],
      "metadata": {
        "id": "rUHVr33xni00"
      },
      "execution_count": null,
      "outputs": []
    },
    {
      "cell_type": "code",
      "source": [
        "# str 함수의 기능 :\n",
        "# str 함수 사용 예시 코드 적고 실행해보기\n"
      ],
      "metadata": {
        "id": "boW35M7gnw9u"
      },
      "execution_count": null,
      "outputs": []
    },
    {
      "cell_type": "code",
      "source": [
        "# len 함수의 기능 :\n",
        "# len 함수 사용 예시 코드 적고 실행해보기\n"
      ],
      "metadata": {
        "id": "6M7DOeVznz-d"
      },
      "execution_count": null,
      "outputs": []
    },
    {
      "cell_type": "code",
      "source": [
        "# max 함수의 기능 :\n",
        "# max 함수 사용 예시 코드 적고 실행해보기\n"
      ],
      "metadata": {
        "id": "W4lRjxY9n0aj"
      },
      "execution_count": null,
      "outputs": []
    },
    {
      "cell_type": "code",
      "source": [
        "# min 함수의 기능 :\n",
        "# min 함수 사용 예시 코드 적고 실행해보기\n"
      ],
      "metadata": {
        "id": "MmGYnnEUn1jy"
      },
      "execution_count": null,
      "outputs": []
    },
    {
      "cell_type": "code",
      "source": [
        "# sum 함수의 기능 :\n",
        "# sum 함수 사용 예시 코드 적고 실행해보기\n"
      ],
      "metadata": {
        "id": "MEVZRUMzn1rl"
      },
      "execution_count": null,
      "outputs": []
    },
    {
      "cell_type": "code",
      "source": [
        "# round 함수의 기능 :\n",
        "# round 함수 사용 예시 코드 적고 실행해보기\n"
      ],
      "metadata": {
        "id": "nViWXZC0n1xs"
      },
      "execution_count": null,
      "outputs": []
    },
    {
      "cell_type": "code",
      "source": [
        "#  함수의 기능 :\n",
        "#  함수 사용 예시 코드 적고 실행해보기\n"
      ],
      "metadata": {
        "id": "B_hRHXvxn13X"
      },
      "execution_count": null,
      "outputs": []
    },
    {
      "cell_type": "markdown",
      "source": [
        "✅ 2004년도 정보올림피아드 초등부 1번 문제 풀어보기."
      ],
      "metadata": {
        "id": "oMHTwOi3oY6l"
      }
    },
    {
      "cell_type": "markdown",
      "source": [
        "- 문제 1번. 안개 숲에는 백설공주와 7명의 난장이가 함께 살고 있다.\n",
        "7명의 난장이의 키가 입력으로 주어질 때 이 중 키가 가장 큰 난장이와 두 번째로 큰 난장이의 키를 출력하는 함수를 만들고 호출하시오.\n",
        "\n",
        "- 풀이 조건 1. 리스트의 정렬 기능은 사용하지 않는다.\n",
        "- 풀이 조건 2. max 함수를 사용할 수 있으나 사용하지 않을 때 보너스 점수가 있다."
      ],
      "metadata": {
        "id": "_lX6Zlr6ofHy"
      }
    },
    {
      "cell_type": "code",
      "source": [
        "# 코드를 이곳에 작성하고, 캡쳐해서 제출해주세요.\n"
      ],
      "metadata": {
        "id": "65QJrqXZowSS"
      },
      "execution_count": null,
      "outputs": []
    },
    {
      "cell_type": "code",
      "source": [
        "# 선생님의 해설에서 등장한 컴퓨터 과학자들의 아이디어를 아래에 정리해보세요.\n"
      ],
      "metadata": {
        "id": "EDxObSe-pEAh"
      },
      "execution_count": null,
      "outputs": []
    }
  ]
}