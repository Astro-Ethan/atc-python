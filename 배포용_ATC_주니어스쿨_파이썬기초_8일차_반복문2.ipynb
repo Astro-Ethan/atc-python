{
  "cells": [
    {
      "cell_type": "markdown",
      "metadata": {
        "id": "view-in-github",
        "colab_type": "text"
      },
      "source": [
        "<a href=\"https://colab.research.google.com/github/Astro-Ethan/atc-python/blob/main/%EB%B0%B0%ED%8F%AC%EC%9A%A9_ATC_%EC%A3%BC%EB%8B%88%EC%96%B4%EC%8A%A4%EC%BF%A8_%ED%8C%8C%EC%9D%B4%EC%8D%AC%EA%B8%B0%EC%B4%88_8%EC%9D%BC%EC%B0%A8_%EB%B0%98%EB%B3%B5%EB%AC%B82.ipynb\" target=\"_parent\"><img src=\"https://colab.research.google.com/assets/colab-badge.svg\" alt=\"Open In Colab\"/></a>"
      ]
    },
    {
      "cell_type": "markdown",
      "source": [
        "## 복습문제"
      ],
      "metadata": {
        "id": "3NVbLa2EGzWk"
      }
    },
    {
      "cell_type": "markdown",
      "source": [
        "### 1. 다음 중 while문에 대한 설명으로 옳은 것을 모두 고르시오.\n",
        "\n",
        "① while문에는 조건식 또는 값을 지정한다.  \n",
        "② while문은 반복 횟수가 정해져 있을 때만 작동한다.  \n",
        "③ while문의 다음 줄은 반드시 들여쓰기를 해야만 한다.  \n",
        "④ while문은 조건식의 결과가 True이면 반복을 끝낸다.  \n",
        "⑤ while문 안에는 if 조건문이 들어갈 수 없다."
      ],
      "metadata": {
        "id": "HE7g5Jp5H5oO"
      }
    },
    {
      "cell_type": "markdown",
      "source": [
        "### 2. while문을 활용해 1부터 100까지의 자연수 중 7의 배수의 합을 구해보시오."
      ],
      "metadata": {
        "id": "M0__RgfiIdeh"
      }
    },
    {
      "cell_type": "code",
      "source": [
        "sum_ = 0\n",
        "i = 1\n",
        "while i<=100:\n",
        "  if i%7==0:\n",
        "    sum_ += i\n",
        "  i += i\n",
        "print(sum_)"
      ],
      "metadata": {
        "colab": {
          "base_uri": "https://localhost:8080/"
        },
        "id": "bFOEXVQCvZsZ",
        "outputId": "ff339cee-3c17-4fd2-9d00-fc0f6d526223"
      },
      "execution_count": 2,
      "outputs": [
        {
          "output_type": "stream",
          "name": "stdout",
          "text": [
            "0\n"
          ]
        }
      ]
    },
    {
      "cell_type": "markdown",
      "source": [
        "### 3. while문을 활용해 “Hello, world!”를 10번 출력해보시오."
      ],
      "metadata": {
        "id": "DEXBJ7IcJnAj"
      }
    },
    {
      "cell_type": "code",
      "source": [
        "a=1\n",
        "while a<11:\n",
        "  print('hello world')\n",
        "  a="
      ],
      "metadata": {
        "id": "_GnpqoxfxUg-"
      },
      "execution_count": null,
      "outputs": []
    },
    {
      "cell_type": "markdown",
      "source": [
        "### 4. 다음 중 for문을 활용해 10번 반복하는 방법으로 옳은 것을 모두 고르시오.\n",
        "\n",
        "① for i in range(10):  \n",
        "② for i in range(0, 9, 1):  \n",
        "③ for i in range(10, 30, 2):  \n",
        "④ for i in range(10, 0):  \n",
        "⑤ for i in range(7, 16):  "
      ],
      "metadata": {
        "id": "Y_tr4K5HKKMI"
      }
    },
    {
      "cell_type": "markdown",
      "source": [
        "### 5. for문을 활용해 1부터 50까지의 숫자를 출력해보시오."
      ],
      "metadata": {
        "id": "3A6C_xBkMaFx"
      }
    },
    {
      "cell_type": "markdown",
      "source": [
        "### 6. for문을 활용해 C학급의 평균 점수를 구해보시오."
      ],
      "metadata": {
        "id": "Lo9OiAlXMxcD"
      }
    },
    {
      "cell_type": "markdown",
      "source": [
        "## 본시 학습"
      ],
      "metadata": {
        "id": "mqgMNZuiHym3"
      }
    },
    {
      "cell_type": "markdown",
      "source": [
        "### 다중 for문\n",
        "- 다중 for문은 ( ) 속에 또 ( )이 등장하는 구조입니다.\n",
        "- 다중 for문은 2중반복문, ( )중반복문 등 계속해서 늘어날 수 있습니다.\n",
        "- 반복문 속 반복문이 많아질수록 코드를 해석하기가 어려워지지만, 사용해야 할 경우가 많습니다."
      ],
      "metadata": {
        "id": "QjSRKLumphAb"
      }
    },
    {
      "cell_type": "code",
      "execution_count": null,
      "metadata": {
        "id": "6K2svVICO1ie"
      },
      "outputs": [],
      "source": [
        "#2중반복문\n",
        "\n",
        "#<문제>\n",
        "#10줄의 별을 출력하려 합니다.\n",
        "#첫 번째 줄은 1개의 별이 있습니다.\n",
        "#마지막 10번째 줄은 10개의 별이 출력되어야 합니다.\n",
        "\n",
        "#<첫 번째 스탭>\n",
        "#i변수를 사용하여 총 10줄이 출력될 수 있도록 작성해보세요.\n",
        "#(실행해도 아무 변화가 없습니다.)\n",
        "#range를 사용하세요.\n",
        "\n"
      ]
    },
    {
      "cell_type": "code",
      "source": [
        "#<두 번째 스탭>\n",
        "#위에서 작성한 for문 속에 j를 변수로 하는 for문을 넣어 별을 출력하도록 작성해보세요.\n",
        "#(실행해도 아무 변화가 없습니다.)\n",
        "#range를 사용하세요.\n",
        "\n"
      ],
      "metadata": {
        "id": "aWlH1PfhqvAQ"
      },
      "execution_count": null,
      "outputs": []
    },
    {
      "cell_type": "code",
      "source": [
        "#<마지막 스탭>\n",
        "#마지막으로 별을 출력하는 명령문을 작성하세요.\n",
        "#줄을 바꿔가며 출력할 수 있도록 작성하세요.\n",
        "\n"
      ],
      "metadata": {
        "id": "lAbLBT2dtxk9"
      },
      "execution_count": null,
      "outputs": []
    },
    {
      "cell_type": "code",
      "execution_count": null,
      "metadata": {
        "id": "qmJt0si6O1ii"
      },
      "outputs": [],
      "source": [
        "#구구단 출력 프로그램 실습\n",
        "\n",
        "#<첫 번째 스탭>\n",
        "#구구단을 출력하기 위해서는 두 가지 숫자가 필요합니다.\n",
        "# 먼저 2단부터 9단까지 출력하기 위해서\n",
        "# 첫 번째 숫자 2부터 9까지 반복할 수 있도록 명령문을 작성해보세요.\n",
        "#range 범위를 잘 생각해보세요.\n",
        "\n"
      ]
    },
    {
      "cell_type": "code",
      "source": [
        "#<두번째 스탭>\n",
        "#첫 번째 숫자가 2로 정해졌다고 하면, 2에 곱해줄 두 번째 숫자 1부터 9까지가 필요합니다.\n",
        "#다시 for문을 활용해 1부터 9까지 반복할 수 있도록 아래 명령문을 작성해보세요.\n",
        "\n"
      ],
      "metadata": {
        "id": "B11aZXUSvldn"
      },
      "execution_count": null,
      "outputs": []
    },
    {
      "cell_type": "code",
      "source": [
        "#<세번째 스탭>\n",
        "#두 개의 for문으로 틀이 만들어졌습니다.\n",
        "#이제 출력하도록 명령문을 작성하기만 하면 됩니다.\n",
        "#변수 i와 j를 잘 생각하며 명령문을 작성해보세요.\n",
        "\n"
      ],
      "metadata": {
        "id": "UkqOHkfpwbjU"
      },
      "execution_count": null,
      "outputs": []
    },
    {
      "cell_type": "markdown",
      "metadata": {
        "id": "w13tnwr73Niw"
      },
      "source": [
        "####  <span style=\"color:red\"> [실습]각 단이 끝날 때, 즉  j가 9가 되면 *표시를 10번 출력하여 구분선을 그려보세요."
      ]
    },
    {
      "cell_type": "code",
      "execution_count": null,
      "metadata": {
        "id": "BcM9KDi-3Niw"
      },
      "outputs": [],
      "source": [
        "#완성되었던 코드를 활용하세요.\n",
        "\n"
      ]
    },
    {
      "cell_type": "markdown",
      "source": [
        "####  <span style=\"color:red\"> [실습]while을 사용해 구구단 출력 프로그램을 작성해보세요."
      ],
      "metadata": {
        "id": "537SrLIJyUfN"
      }
    },
    {
      "cell_type": "code",
      "execution_count": null,
      "metadata": {
        "id": "Lb3PsBIwO1il"
      },
      "outputs": [],
      "source": [
        "#코드를 작성하세요.\n",
        "\n"
      ]
    },
    {
      "cell_type": "markdown",
      "source": [
        "### continue\n",
        "- continue문은 for문이나 while문에서 ( )으로 돌아가야 할 때 사용합니다.\n",
        "- for문이나 while문에서 빠져나가지 않고 for문이나 while문의 처음으로 다시 돌아가고 싶은 경우 사용합니다."
      ],
      "metadata": {
        "id": "cW9QUmA5yzLM"
      }
    },
    {
      "cell_type": "markdown",
      "source": [
        "####  <span style=\"color:red\"> [실습]cointinue문을 활용해 축하메시지를 보내는 프로그램을 작성해봅시다."
      ],
      "metadata": {
        "id": "2IQaCzuDzlob"
      }
    },
    {
      "cell_type": "code",
      "source": [
        "# 55, 70, 24, 87, 99, 45 라는 데이터를 가진 score 리스트를 작성해보세요.\n",
        "\n"
      ],
      "metadata": {
        "id": "Bzod6YcTzbH0"
      },
      "execution_count": null,
      "outputs": []
    },
    {
      "cell_type": "code",
      "source": [
        "# 축하메시지를 보낼 때 몇 번째 학생인지를 표시하기 위해\n",
        "# number라는 변수를 만들고 0으로 초기화해보세요.\n",
        "\n"
      ],
      "metadata": {
        "id": "hoF_bjZrziNy"
      },
      "execution_count": null,
      "outputs": []
    },
    {
      "cell_type": "code",
      "source": [
        "# 리스트의 데이터를 i 변수로 잡고 60점 이상인 학생에게\n",
        "#[*번 학생 축하합니다. 합격입니다.]라는 축하메시지를 보내고\n",
        "# 나머지 사람에게는 아무 메시지도 전달하지 않는 명령문을 작성해보세요.\n",
        "\n",
        "\n"
      ],
      "metadata": {
        "id": "CUd-LDW80FPE"
      },
      "execution_count": null,
      "outputs": []
    },
    {
      "cell_type": "markdown",
      "source": [
        "####  <span style=\"color:red\"> [실습] for문과 continue를 활용해 1부터 9 사이의 짝수를 출력해봅시다."
      ],
      "metadata": {
        "id": "FSSVZ7ZK2k0n"
      }
    },
    {
      "cell_type": "code",
      "execution_count": null,
      "metadata": {
        "id": "GS-8pFKnO1i_",
        "colab": {
          "base_uri": "https://localhost:8080/"
        },
        "outputId": "5010d876-0a0d-4f38-a750-f63ce6e3cb4c"
      },
      "outputs": [
        {
          "output_type": "stream",
          "name": "stdout",
          "text": [
            "2 4 6 8 "
          ]
        }
      ],
      "source": [
        "#continue를 사용해서 1부터 9사이의 짝수를 출력하는 코드를 작성해보세요.\n",
        "'''\n",
        "1. for문으로 1부터 9까지 반복한다. 예) for i in range(1, 10)\n",
        "2. 짝수가 아닌 것을 조건문으로 정한다. i%2 !=0\n",
        "3. continue를 써서 짝수가 아니면 아래 코드를 실행하지 않고\n",
        "처음으로 다시 돌아가서 반복하게 한다.\n",
        "4. 조건문에 해당하지 않으면 i를 출력한다.\n",
        "'''\n",
        "\n",
        "\n"
      ]
    },
    {
      "cell_type": "markdown",
      "metadata": {
        "id": "D2lmfIDBO1jO"
      },
      "source": [
        "### list comprehension\n",
        "- 리스트 안에 조건, 반복식을 한꺼번에 표현할 수 있어 간편하다.\n",
        "- [표현식 for 변수 in 리스트이름] 같은 형식으로 사용"
      ]
    },
    {
      "cell_type": "code",
      "execution_count": null,
      "metadata": {
        "id": "D1k1ofv0O1jU"
      },
      "outputs": [],
      "source": [
        "구구단 = [ i*j  for i in range(2,10) for j in range(1,10)]\n",
        "print(구구단)"
      ]
    },
    {
      "cell_type": "code",
      "execution_count": null,
      "metadata": {
        "id": "LFkt0Z2UO1jX"
      },
      "outputs": [],
      "source": [
        "# for문 뒤에 if 조건문을 추가할 수도 있다.\n",
        "\n",
        "a = [[1,11],[2,22],[3,33],[4,44],[5,55]]\n",
        "x = [i[0] for i in a if i[0] > 3]\n",
        "y = [i[1] for i in a if i[1] % 2 != 0]\n",
        "\n",
        "print(x)\n",
        "print(y)"
      ]
    },
    {
      "cell_type": "code",
      "execution_count": null,
      "metadata": {
        "id": "3MSlv9hpqq0n"
      },
      "outputs": [],
      "source": [
        "# 7단만 출력하기\n",
        "\n"
      ]
    }
  ],
  "metadata": {
    "colab": {
      "provenance": [],
      "include_colab_link": true
    },
    "kernelspec": {
      "display_name": "Python 3",
      "language": "python",
      "name": "python3"
    },
    "language_info": {
      "codemirror_mode": {
        "name": "ipython",
        "version": 3
      },
      "file_extension": ".py",
      "mimetype": "text/x-python",
      "name": "python",
      "nbconvert_exporter": "python",
      "pygments_lexer": "ipython3",
      "version": "3.8.3"
    }
  },
  "nbformat": 4,
  "nbformat_minor": 0
}